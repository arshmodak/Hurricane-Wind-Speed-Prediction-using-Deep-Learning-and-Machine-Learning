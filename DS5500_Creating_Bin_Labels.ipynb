{
  "nbformat": 4,
  "nbformat_minor": 0,
  "metadata": {
    "colab": {
      "name": "CS5500_Creating_Bin_Labels.ipynb",
      "provenance": []
    },
    "kernelspec": {
      "name": "python3",
      "display_name": "Python 3"
    },
    "language_info": {
      "name": "python"
    }
  },
  "cells": [
    {
      "cell_type": "code",
      "metadata": {
        "id": "kOblO3XKvcUs"
      },
      "source": [
        "import pandas as pd\n",
        "import numpy as np"
      ],
      "execution_count": null,
      "outputs": []
    },
    {
      "cell_type": "code",
      "metadata": {
        "id": "Y2G9sfjtvreP"
      },
      "source": [
        "train = pd.read_csv(\"/content/train.csv\")\n",
        "test = pd.read_csv(\"/content/test.csv\")"
      ],
      "execution_count": null,
      "outputs": []
    },
    {
      "cell_type": "code",
      "metadata": {
        "colab": {
          "base_uri": "https://localhost:8080/",
          "height": 204
        },
        "id": "jq859qC3v1CV",
        "outputId": "46a26782-5e00-4019-d028-618fb24178ae"
      },
      "source": [
        "train.head()"
      ],
      "execution_count": null,
      "outputs": [
        {
          "output_type": "execute_result",
          "data": {
            "text/html": [
              "<div>\n",
              "<style scoped>\n",
              "    .dataframe tbody tr th:only-of-type {\n",
              "        vertical-align: middle;\n",
              "    }\n",
              "\n",
              "    .dataframe tbody tr th {\n",
              "        vertical-align: top;\n",
              "    }\n",
              "\n",
              "    .dataframe thead th {\n",
              "        text-align: right;\n",
              "    }\n",
              "</style>\n",
              "<table border=\"1\" class=\"dataframe\">\n",
              "  <thead>\n",
              "    <tr style=\"text-align: right;\">\n",
              "      <th></th>\n",
              "      <th>image_id</th>\n",
              "      <th>wind_speed</th>\n",
              "      <th>storm_id</th>\n",
              "      <th>relative_time</th>\n",
              "      <th>ocean</th>\n",
              "    </tr>\n",
              "  </thead>\n",
              "  <tbody>\n",
              "    <tr>\n",
              "      <th>0</th>\n",
              "      <td>abs_000</td>\n",
              "      <td>43</td>\n",
              "      <td>abs</td>\n",
              "      <td>0</td>\n",
              "      <td>2</td>\n",
              "    </tr>\n",
              "    <tr>\n",
              "      <th>1</th>\n",
              "      <td>abs_001</td>\n",
              "      <td>44</td>\n",
              "      <td>abs</td>\n",
              "      <td>1800</td>\n",
              "      <td>2</td>\n",
              "    </tr>\n",
              "    <tr>\n",
              "      <th>2</th>\n",
              "      <td>abs_002</td>\n",
              "      <td>45</td>\n",
              "      <td>abs</td>\n",
              "      <td>5400</td>\n",
              "      <td>2</td>\n",
              "    </tr>\n",
              "    <tr>\n",
              "      <th>3</th>\n",
              "      <td>abs_003</td>\n",
              "      <td>52</td>\n",
              "      <td>abs</td>\n",
              "      <td>17999</td>\n",
              "      <td>2</td>\n",
              "    </tr>\n",
              "    <tr>\n",
              "      <th>4</th>\n",
              "      <td>abs_004</td>\n",
              "      <td>53</td>\n",
              "      <td>abs</td>\n",
              "      <td>19799</td>\n",
              "      <td>2</td>\n",
              "    </tr>\n",
              "  </tbody>\n",
              "</table>\n",
              "</div>"
            ],
            "text/plain": [
              "  image_id  wind_speed storm_id  relative_time  ocean\n",
              "0  abs_000          43      abs              0      2\n",
              "1  abs_001          44      abs           1800      2\n",
              "2  abs_002          45      abs           5400      2\n",
              "3  abs_003          52      abs          17999      2\n",
              "4  abs_004          53      abs          19799      2"
            ]
          },
          "metadata": {},
          "execution_count": 3
        }
      ]
    },
    {
      "cell_type": "code",
      "metadata": {
        "colab": {
          "base_uri": "https://localhost:8080/"
        },
        "id": "Xf5w409wv1wg",
        "outputId": "4ad4e8dd-f964-4e6c-9ca8-c9e52dffe51a"
      },
      "source": [
        "print(train.shape, test.shape)"
      ],
      "execution_count": null,
      "outputs": [
        {
          "output_type": "stream",
          "name": "stdout",
          "text": [
            "(70257, 5) (44377, 5)\n"
          ]
        }
      ]
    },
    {
      "cell_type": "code",
      "metadata": {
        "colab": {
          "base_uri": "https://localhost:8080/"
        },
        "id": "RNu-vQYUv8dv",
        "outputId": "a2901761-69af-4dda-d79f-78a8035ed6f5"
      },
      "source": [
        "train[\"wind_speed\"].value_counts().to_dict()"
      ],
      "execution_count": null,
      "outputs": [
        {
          "output_type": "execute_result",
          "data": {
            "text/plain": [
              "{15: 433,\n",
              " 16: 36,\n",
              " 17: 35,\n",
              " 18: 34,\n",
              " 19: 41,\n",
              " 20: 2795,\n",
              " 21: 205,\n",
              " 22: 184,\n",
              " 23: 185,\n",
              " 24: 219,\n",
              " 25: 7154,\n",
              " 26: 592,\n",
              " 27: 493,\n",
              " 28: 501,\n",
              " 29: 601,\n",
              " 30: 7145,\n",
              " 31: 772,\n",
              " 32: 644,\n",
              " 33: 679,\n",
              " 34: 778,\n",
              " 35: 4234,\n",
              " 36: 757,\n",
              " 37: 651,\n",
              " 38: 696,\n",
              " 39: 794,\n",
              " 40: 3029,\n",
              " 41: 715,\n",
              " 42: 604,\n",
              " 43: 651,\n",
              " 44: 710,\n",
              " 45: 3517,\n",
              " 46: 662,\n",
              " 47: 537,\n",
              " 48: 561,\n",
              " 49: 631,\n",
              " 50: 2182,\n",
              " 51: 537,\n",
              " 52: 481,\n",
              " 53: 499,\n",
              " 54: 541,\n",
              " 55: 2302,\n",
              " 56: 449,\n",
              " 57: 430,\n",
              " 58: 439,\n",
              " 59: 458,\n",
              " 60: 1330,\n",
              " 61: 391,\n",
              " 62: 394,\n",
              " 63: 399,\n",
              " 64: 406,\n",
              " 65: 1297,\n",
              " 66: 340,\n",
              " 67: 324,\n",
              " 68: 326,\n",
              " 69: 329,\n",
              " 70: 696,\n",
              " 71: 276,\n",
              " 72: 269,\n",
              " 73: 257,\n",
              " 74: 281,\n",
              " 75: 784,\n",
              " 76: 236,\n",
              " 77: 231,\n",
              " 78: 240,\n",
              " 79: 254,\n",
              " 80: 579,\n",
              " 81: 217,\n",
              " 82: 199,\n",
              " 83: 218,\n",
              " 84: 213,\n",
              " 85: 604,\n",
              " 86: 201,\n",
              " 87: 177,\n",
              " 88: 193,\n",
              " 89: 190,\n",
              " 90: 649,\n",
              " 91: 188,\n",
              " 92: 185,\n",
              " 93: 200,\n",
              " 94: 201,\n",
              " 95: 344,\n",
              " 96: 164,\n",
              " 97: 161,\n",
              " 98: 153,\n",
              " 99: 173,\n",
              " 100: 438,\n",
              " 101: 156,\n",
              " 102: 142,\n",
              " 103: 146,\n",
              " 104: 169,\n",
              " 105: 344,\n",
              " 106: 140,\n",
              " 107: 133,\n",
              " 108: 131,\n",
              " 109: 143,\n",
              " 110: 326,\n",
              " 111: 135,\n",
              " 112: 124,\n",
              " 113: 123,\n",
              " 114: 144,\n",
              " 115: 374,\n",
              " 116: 117,\n",
              " 117: 98,\n",
              " 118: 97,\n",
              " 119: 115,\n",
              " 120: 268,\n",
              " 121: 111,\n",
              " 122: 87,\n",
              " 123: 82,\n",
              " 124: 98,\n",
              " 125: 206,\n",
              " 126: 58,\n",
              " 127: 48,\n",
              " 128: 45,\n",
              " 129: 60,\n",
              " 130: 120,\n",
              " 131: 37,\n",
              " 132: 28,\n",
              " 133: 32,\n",
              " 134: 38,\n",
              " 135: 67,\n",
              " 136: 33,\n",
              " 137: 20,\n",
              " 138: 30,\n",
              " 139: 36,\n",
              " 140: 43,\n",
              " 141: 17,\n",
              " 142: 10,\n",
              " 143: 11,\n",
              " 144: 14,\n",
              " 145: 28,\n",
              " 146: 17,\n",
              " 147: 7,\n",
              " 148: 11,\n",
              " 149: 14,\n",
              " 150: 23,\n",
              " 151: 4,\n",
              " 152: 4,\n",
              " 153: 3,\n",
              " 154: 4,\n",
              " 155: 48,\n",
              " 158: 1,\n",
              " 160: 8,\n",
              " 163: 1,\n",
              " 165: 1,\n",
              " 168: 1,\n",
              " 170: 2,\n",
              " 173: 1,\n",
              " 175: 2,\n",
              " 178: 1,\n",
              " 180: 2,\n",
              " 181: 4,\n",
              " 182: 4,\n",
              " 183: 4,\n",
              " 184: 4,\n",
              " 185: 2}"
            ]
          },
          "metadata": {},
          "execution_count": 5
        }
      ]
    },
    {
      "cell_type": "code",
      "metadata": {
        "id": "aGvjHVt3v5EH"
      },
      "source": [
        "def create_bins(df):\n",
        "  # specify condition\n",
        "  conditions = [(df[\"wind_speed\"] >= 15) & (df[\"wind_speed\"] <= 20),\n",
        "                (df[\"wind_speed\"] >= 21) & (df[\"wind_speed\"] <= 25),\n",
        "                (df[\"wind_speed\"] >= 26) & (df[\"wind_speed\"] <= 30),\n",
        "                (df[\"wind_speed\"] >= 31) & (df[\"wind_speed\"] <= 35),\n",
        "                (df[\"wind_speed\"] >= 36) & (df[\"wind_speed\"] <= 40),\n",
        "                (df[\"wind_speed\"] >= 41) & (df[\"wind_speed\"] <= 45),\n",
        "                (df[\"wind_speed\"] >= 46) & (df[\"wind_speed\"] <= 50),\n",
        "                (df[\"wind_speed\"] >= 51) & (df[\"wind_speed\"] <= 65),\n",
        "                (df[\"wind_speed\"] >= 66) & (df[\"wind_speed\"] <= 100),\n",
        "                (df[\"wind_speed\"] > 100)]\n",
        "                # (df[\"wind_speed\"] >= 101) & (df[\"wind_speed\"] <= 150),\n",
        "                # (df[\"wind_speed\"] >= 151)]\n",
        "\n",
        "  # values = [\"15 to 20\", \"21 to 25\", \"26 to 30\", \"31 to 35\",\n",
        "  #           \"36 to 40\", \"41 to 45\", \"46 to 50\", \"51 to 70\",\n",
        "  #           \"71 to 100\", \"101 to 150\", \">150\"]\n",
        "\n",
        "  values = [\"15 to 20\", \"21 to 25\", \"26 to 30\", \"31 to 35\", \n",
        "            \"36 to 40\", \"41 to 45\", \"46 to 50\", \"51 to 65\", \n",
        "            \"66 to 100\", \">100\"]\n",
        "            # \"71 to 100\", \"101 to 150\", \">150\"]\n",
        "\n",
        "  df[\"Wind Labels\"] = np.select(conditions, values)\n",
        "  print(\"Bins created!\")\n",
        "\n",
        "  return df"
      ],
      "execution_count": null,
      "outputs": []
    },
    {
      "cell_type": "code",
      "metadata": {
        "id": "3Ff4QEmE3xVP"
      },
      "source": [
        "def create_bins(df):\n",
        "  # specify condition\n",
        "  conditions = [(df[\"wind_speed\"] >= 15) & (df[\"wind_speed\"] <= 25),\n",
        "                (df[\"wind_speed\"] >= 26) & (df[\"wind_speed\"] <= 35),\n",
        "                (df[\"wind_speed\"] >= 36) & (df[\"wind_speed\"] <= 45),\n",
        "                (df[\"wind_speed\"] >= 45) & (df[\"wind_speed\"] <= 75),\n",
        "                # (df[\"wind_speed\"] >= 76) & (df[\"wind_speed\"] <= 90),\n",
        "                (df[\"wind_speed\"] > 75)]\n",
        "\n",
        "  values = [\"15 to 25\", \"26 to 35\", \"36 to 45\", \"46 to 75\", \">=76\"]\n",
        "\n",
        "\n",
        "  df[\"Wind Labels\"] = np.select(conditions, values)\n",
        "  print(\"Bins created!\")\n",
        "\n",
        "  return df"
      ],
      "execution_count": null,
      "outputs": []
    },
    {
      "cell_type": "code",
      "metadata": {
        "colab": {
          "base_uri": "https://localhost:8080/"
        },
        "id": "lpDo7dJgwQsW",
        "outputId": "e11a1dc4-0e6c-4e01-acc5-ece511aa97f9"
      },
      "source": [
        "train2 = create_bins(train)"
      ],
      "execution_count": null,
      "outputs": [
        {
          "output_type": "stream",
          "name": "stdout",
          "text": [
            "Bins created!\n"
          ]
        }
      ]
    },
    {
      "cell_type": "code",
      "metadata": {
        "colab": {
          "base_uri": "https://localhost:8080/",
          "height": 204
        },
        "id": "vWNtxTUbw8TU",
        "outputId": "22e60012-829e-4b92-933f-e002803905fe"
      },
      "source": [
        "train2.head()"
      ],
      "execution_count": null,
      "outputs": [
        {
          "output_type": "execute_result",
          "data": {
            "text/html": [
              "<div>\n",
              "<style scoped>\n",
              "    .dataframe tbody tr th:only-of-type {\n",
              "        vertical-align: middle;\n",
              "    }\n",
              "\n",
              "    .dataframe tbody tr th {\n",
              "        vertical-align: top;\n",
              "    }\n",
              "\n",
              "    .dataframe thead th {\n",
              "        text-align: right;\n",
              "    }\n",
              "</style>\n",
              "<table border=\"1\" class=\"dataframe\">\n",
              "  <thead>\n",
              "    <tr style=\"text-align: right;\">\n",
              "      <th></th>\n",
              "      <th>image_id</th>\n",
              "      <th>wind_speed</th>\n",
              "      <th>storm_id</th>\n",
              "      <th>relative_time</th>\n",
              "      <th>ocean</th>\n",
              "      <th>Wind Labels</th>\n",
              "    </tr>\n",
              "  </thead>\n",
              "  <tbody>\n",
              "    <tr>\n",
              "      <th>0</th>\n",
              "      <td>abs_000</td>\n",
              "      <td>43</td>\n",
              "      <td>abs</td>\n",
              "      <td>0</td>\n",
              "      <td>2</td>\n",
              "      <td>36 to 45</td>\n",
              "    </tr>\n",
              "    <tr>\n",
              "      <th>1</th>\n",
              "      <td>abs_001</td>\n",
              "      <td>44</td>\n",
              "      <td>abs</td>\n",
              "      <td>1800</td>\n",
              "      <td>2</td>\n",
              "      <td>36 to 45</td>\n",
              "    </tr>\n",
              "    <tr>\n",
              "      <th>2</th>\n",
              "      <td>abs_002</td>\n",
              "      <td>45</td>\n",
              "      <td>abs</td>\n",
              "      <td>5400</td>\n",
              "      <td>2</td>\n",
              "      <td>36 to 45</td>\n",
              "    </tr>\n",
              "    <tr>\n",
              "      <th>3</th>\n",
              "      <td>abs_003</td>\n",
              "      <td>52</td>\n",
              "      <td>abs</td>\n",
              "      <td>17999</td>\n",
              "      <td>2</td>\n",
              "      <td>46 to 75</td>\n",
              "    </tr>\n",
              "    <tr>\n",
              "      <th>4</th>\n",
              "      <td>abs_004</td>\n",
              "      <td>53</td>\n",
              "      <td>abs</td>\n",
              "      <td>19799</td>\n",
              "      <td>2</td>\n",
              "      <td>46 to 75</td>\n",
              "    </tr>\n",
              "  </tbody>\n",
              "</table>\n",
              "</div>"
            ],
            "text/plain": [
              "  image_id  wind_speed storm_id  relative_time  ocean Wind Labels\n",
              "0  abs_000          43      abs              0      2    36 to 45\n",
              "1  abs_001          44      abs           1800      2    36 to 45\n",
              "2  abs_002          45      abs           5400      2    36 to 45\n",
              "3  abs_003          52      abs          17999      2    46 to 75\n",
              "4  abs_004          53      abs          19799      2    46 to 75"
            ]
          },
          "metadata": {},
          "execution_count": 51
        }
      ]
    },
    {
      "cell_type": "code",
      "metadata": {
        "colab": {
          "base_uri": "https://localhost:8080/"
        },
        "id": "cnN9sjWW11W0",
        "outputId": "c09b511d-f50a-4491-8f87-47a68a7692cf"
      },
      "source": [
        "train[\"Wind Labels\"].value_counts()"
      ],
      "execution_count": null,
      "outputs": [
        {
          "output_type": "execute_result",
          "data": {
            "text/plain": [
              "46 to 75    18808\n",
              "26 to 35    16439\n",
              "36 to 45    12124\n",
              ">=76        11565\n",
              "15 to 25    11321\n",
              "Name: Wind Labels, dtype: int64"
            ]
          },
          "metadata": {},
          "execution_count": 52
        }
      ]
    },
    {
      "cell_type": "code",
      "metadata": {
        "id": "f-rSsgq83EEb"
      },
      "source": [
        "import seaborn as sns\n",
        "import matplotlib.pyplot as plt\n"
      ],
      "execution_count": null,
      "outputs": []
    },
    {
      "cell_type": "code",
      "metadata": {
        "colab": {
          "base_uri": "https://localhost:8080/",
          "height": 418
        },
        "id": "C_reKus47SA-",
        "outputId": "9e144143-c98c-4509-8630-5bd780ac58d1"
      },
      "source": [
        "plt.pie(train[\"Wind Labels\"].value_counts(), labels=train[\"Wind Labels\"].value_counts().index)"
      ],
      "execution_count": null,
      "outputs": [
        {
          "output_type": "execute_result",
          "data": {
            "text/plain": [
              "([<matplotlib.patches.Wedge at 0x7fbd574113d0>,\n",
              "  <matplotlib.patches.Wedge at 0x7fbd57411a10>,\n",
              "  <matplotlib.patches.Wedge at 0x7fbd56f2f110>,\n",
              "  <matplotlib.patches.Wedge at 0x7fbd56f2f6d0>,\n",
              "  <matplotlib.patches.Wedge at 0x7fbd56f2f950>],\n",
              " [Text(0.733378730285645, 0.8198509852190307, '46 to 75'),\n",
              "  Text(-0.823725455160583, 0.7290242619560001, '26 to 35'),\n",
              "  Text(-0.9362033067627347, -0.5775148209410051, '36 to 45'),\n",
              "  Text(0.0453131330360426, -1.0990662946221479, '>=76'),\n",
              "  Text(0.9620383013573167, -0.5333688280369682, '15 to 25')])"
            ]
          },
          "metadata": {},
          "execution_count": 56
        },
        {
          "output_type": "display_data",
          "data": {
            "image/png": "[encoded data removed]",
            "text/plain": [
              "<Figure size 432x288 with 1 Axes>"
            ]
          },
          "metadata": {}
        }
      ]
    },
    {
      "cell_type": "code",
      "metadata": {
        "id": "Owlc2964ACHZ"
      },
      "source": [
        "def func(pct, allvals):\n",
        "    absolute = int(pct/100.*np.sum(allvals))\n",
        "    return \"{:.1f}%\\n({:d})\".format(pct, absolute)"
      ],
      "execution_count": null,
      "outputs": []
    },
    {
      "cell_type": "code",
      "metadata": {
        "colab": {
          "base_uri": "https://localhost:8080/",
          "height": 427
        },
        "id": "iV9gDlUY77WU",
        "outputId": "3967df13-229e-4f03-eb38-36aee6c89830"
      },
      "source": [
        "data = train[\"Wind Labels\"].value_counts()\n",
        "labels = train[\"Wind Labels\"].value_counts().index\n",
        "\n",
        "#define Seaborn color palette to use\n",
        "colors = sns.color_palette('pastel')[0:5]\n",
        "\n",
        "plt.figure(figsize=(7, 7))\n",
        "#create pie chart\n",
        "plt.pie(data, labels = labels, colors = colors, autopct=lambda pct: func(pct, data))\n",
        "plt.title(\"Distribution of Wind Speed Ranges (Bins/Labels)\")\n",
        "plt.show()"
      ],
      "execution_count": null,
      "outputs": [
        {
          "output_type": "display_data",
          "data": {
            "image/png": "[encoded data removed]",
            "text/plain": [
              "<Figure size 504x504 with 1 Axes>"
            ]
          },
          "metadata": {}
        }
      ]
    },
    {
      "cell_type": "code",
      "metadata": {
        "colab": {
          "base_uri": "https://localhost:8080/"
        },
        "id": "5yS7qGCy_SaY",
        "outputId": "31edb772-5845-41dc-90d4-d2b97e78dece"
      },
      "source": [
        "data.values"
      ],
      "execution_count": null,
      "outputs": [
        {
          "output_type": "execute_result",
          "data": {
            "text/plain": [
              "array([18808, 16439, 12124, 11565, 11321])"
            ]
          },
          "metadata": {},
          "execution_count": 64
        }
      ]
    },
    {
      "cell_type": "code",
      "metadata": {
        "id": "9I9ZQ97C8TeC"
      },
      "source": [
        ""
      ],
      "execution_count": null,
      "outputs": []
    }
  ]
}