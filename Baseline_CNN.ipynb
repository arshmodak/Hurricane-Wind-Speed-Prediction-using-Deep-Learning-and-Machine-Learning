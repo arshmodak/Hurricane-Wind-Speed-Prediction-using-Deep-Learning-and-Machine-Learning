{
  "nbformat": 4,
  "nbformat_minor": 0,
  "metadata": {
    "colab": {
      "name": "Baseline_CNN.ipynb",
      "provenance": [],
      "collapsed_sections": [],
      "machine_shape": "hm"
    },
    "kernelspec": {
      "name": "python3",
      "display_name": "Python 3"
    },
    "language_info": {
      "name": "python"
    },
    "accelerator": "GPU"
  },
  "cells": [
    {
      "cell_type": "code",
      "metadata": {
        "id": "SxrvRO0PsQKz"
      },
      "source": [
        "# Import Neccessary Libraries:\n",
        "\n",
        "import numpy as np\n",
        "import pandas as pd\n",
        "import torch\n",
        "from torchvision import datasets, transforms, models\n",
        "import matplotlib.pyplot as plt\n",
        "from torch.utils.data import DataLoader, Dataset\n",
        "from torch import nn\n",
        "import torch.nn.functional as F\n",
        "from torch import optim\n",
        "from tqdm import tqdm\n",
        "import pickle\n",
        "from torch.optim.lr_scheduler import StepLR\n",
        "import time\n",
        "from PIL import Image\n",
        "from torchsummary import summary\n",
        "import time"
      ],
      "execution_count": 27,
      "outputs": []
    },
    {
      "cell_type": "code",
      "metadata": {
        "id": "njosZkHIsU1n",
        "colab": {
          "base_uri": "https://localhost:8080/"
        },
        "outputId": "7d1de3ef-8f7d-4382-b93a-33256c04c445"
      },
      "source": [
        "# To mount drive:\n",
        "from google.colab import drive\n",
        "drive.mount('/content/drive')"
      ],
      "execution_count": 28,
      "outputs": [
        {
          "output_type": "stream",
          "name": "stdout",
          "text": [
            "Mounted at /content/drive\n"
          ]
        }
      ]
    },
    {
      "cell_type": "code",
      "metadata": {
        "colab": {
          "base_uri": "https://localhost:8080/"
        },
        "id": "qwesD_cpsU3u",
        "outputId": "b0490e55-9950-4709-b4ad-7dd9d8d762ef"
      },
      "source": [
        "# Checking GPU:\n",
        "print(torch.cuda.get_device_name(0))"
      ],
      "execution_count": 29,
      "outputs": [
        {
          "output_type": "stream",
          "name": "stdout",
          "text": [
            "Tesla P100-PCIE-16GB\n"
          ]
        }
      ]
    },
    {
      "cell_type": "code",
      "metadata": {
        "colab": {
          "base_uri": "https://localhost:8080/"
        },
        "id": "uPa3CiuSW-WL",
        "outputId": "53590941-5073-4b1e-9437-3b5f09700e80"
      },
      "source": [
        "device = torch.device(\"cuda:0\" if torch.cuda.is_available() else \"cpu\")\n",
        "print(device)"
      ],
      "execution_count": 30,
      "outputs": [
        {
          "output_type": "stream",
          "name": "stdout",
          "text": [
            "cuda:0\n"
          ]
        }
      ]
    },
    {
      "cell_type": "code",
      "metadata": {
        "id": "eY5oOLFQS09Z"
      },
      "source": [
        "def get_data_from_drive(copy = True, extract = True):\n",
        "  start = time.time()\n",
        "  if copy:\n",
        "    print(\"Copying Train Source from Drive.\")\n",
        "    !cp \"/content/drive/MyDrive/DS5500 Data/nasa_tropical_storm_competition_train_source.tar\" -r \"/content/nasa_tropical_storm_competition_train_source.tar\"\n",
        "    print(\"Copying Test Source from Drive.\")\n",
        "    !cp \"/content/drive/MyDrive/DS5500 Data/nasa_tropical_storm_competition_test_source.tar\" -r \"/content/nasa_tropical_storm_competition_test_source.tar\"\n",
        "    print(\"Copying Train Metadata from Drive.\")\n",
        "    !cp \"/content/drive/MyDrive/DS5500 Data/train.csv\" -r \"/content/train.csv\"\n",
        "    print(\"Copying Test Metadata from Drive.\")\n",
        "    !cp \"/content/drive/MyDrive/DS5500 Data/test.csv\" -r \"/content/test.csv\"\n",
        "\n",
        "  if extract:\n",
        "    print(\"Extracting Training Images\")\n",
        "    !tar -xvf \"/content/nasa_tropical_storm_competition_train_source.tar\" -C \"/content/\"\n",
        "    print(\"Extracting Test Images\")\n",
        "    !tar -xvf \"/content/nasa_tropical_storm_competition_test_source.tar\" -C \"/content/\"\n",
        "  \n",
        "  print(\"Data Ready! Time Taken: {:.4f}s\".format(time.time() - start))\n",
        "\n",
        "  \n",
        "def get_image_paths(data, image_dir, folder_name):\n",
        "    data[\"image_path\"] = image_dir + \"/\" + folder_name + \"_\" + data[\"image_id\"] + \"/\" + \"image.jpg\"\n",
        "    data = data[data.columns[[0, 2, 5, 1, 3, 4]]]\n",
        "    return data\n",
        "    "
      ],
      "execution_count": 31,
      "outputs": []
    },
    {
      "cell_type": "code",
      "metadata": {
        "id": "dTkh778Kaiwl"
      },
      "source": [
        "def write_model_losses(filename, losses):\n",
        "  print(\"Saving model losses to drive.\")\n",
        "  with open(\"/content/drive/MyDrive/DS5500 Data/{}.pkl\".format(filename), \"wb\") as f:\n",
        "    pickle.dump(losses, f)\n",
        "    \n",
        "\n",
        "def plot_predictions(wind_speed, metadata):\n",
        "    sample_img = metadata[metadata.wind_speed == wind_speed][[\"image_path\",\"predictions\"]].iloc[:5]\n",
        "    for i,img in enumerate(sample_img.image_path):\n",
        "        # im = Image.open(img) \n",
        "        # im.show(title = sample_img[\"predictions\"].iloc[i])\n",
        "        image = mpimg.imread(img)\n",
        "        plt.title(\"Actual: \"+ str(wind_speed) +\"   Predicted: \" + str(round(sample_img[\"predictions\"].iloc[i],2)))\n",
        "        plt.imshow(image, cmap = \"gray\")\n",
        "        plt.show()\n",
        "    return \n",
        "\n",
        "def loadModel(model_path, model = None):\n",
        "  state_dict = torch.load(model_path)\n",
        "  model.load_state_dict(state_dict)\n",
        "  return model"
      ],
      "execution_count": 32,
      "outputs": []
    },
    {
      "cell_type": "code",
      "metadata": {
        "id": "wxHjOFjvyd1y"
      },
      "source": [
        "class HurricaneImageDataset(Dataset):\n",
        "\n",
        "    def __init__(self, metadata, transforms):\n",
        "        self.metadata = metadata\n",
        "        self.transforms = transforms\n",
        "\n",
        "    def __len__(self):\n",
        "        return len(self.metadata)\n",
        "\n",
        "    def __getitem__(self, index):\n",
        "        if torch.is_tensor(index):\n",
        "            index = index.tolist()\n",
        "\n",
        "        image_path = self.metadata[\"image_path\"][index]\n",
        "        # hurricane_image = io.imread(image_path)\n",
        "        hurricane_image = Image.open(image_path)\n",
        "        label = self.metadata[\"wind_speed\"][index]\n",
        "\n",
        "        if self.transforms:\n",
        "            hurricane_image = self.transforms(hurricane_image)\n",
        "\n",
        "        return hurricane_image, label"
      ],
      "execution_count": 33,
      "outputs": []
    },
    {
      "cell_type": "code",
      "metadata": {
        "id": "MHRS73Dqao13"
      },
      "source": [
        "class BaselineCNN(nn.Module):\n",
        "    def __init__(self):\n",
        "        super(BaselineCNN, self).__init__()\n",
        "        # convolutional layer\n",
        "        self.conv1 = nn.Conv2d(1, 16, 5, stride=1, padding=2)\n",
        "        self.conv2 = nn.Conv2d(16, 32, 5, stride=1, padding=2)\n",
        "        self.conv3 = nn.Conv2d(32, 64, 5, stride=1, padding=2)\n",
        "        self.conv4 = nn.Conv2d(64, 128, 5, stride=1, padding=2)\n",
        "        # max pooling layer\n",
        "        self.pool = nn.MaxPool2d(2, 2)\n",
        "        self.fc1 = nn.Linear(128*14*14, 32)\n",
        "        self.output = nn.Linear(32, 1)\n",
        "        self.dropout = nn.Dropout(0.25)\n",
        "\n",
        "    def forward(self, x):\n",
        "        # add sequence of convolutional and max pooling layers\n",
        "        x = self.pool(F.relu(self.conv1(x)))\n",
        "        x = self.pool(F.relu(self.conv2(x)))\n",
        "        x = self.pool(F.relu(self.conv3(x)))\n",
        "        x = self.pool(F.relu(self.conv4(x)))\n",
        "        x = x.view(x.size(0), -1)\n",
        "        x = self.dropout(x)\n",
        "        x = F.relu(self.fc1(x))\n",
        "        x = self.dropout(x)\n",
        "        x = self.output(x)\n",
        "\n",
        "        return x"
      ],
      "execution_count": 34,
      "outputs": []
    },
    {
      "cell_type": "code",
      "metadata": {
        "id": "4-iK_WpjatXP"
      },
      "source": [
        "def train(model, trainloader, validloader, epochs, criterion, optimizer, device, model_name, losses_filename):\n",
        "\n",
        "  valid_loss_min = np.Inf\n",
        "  losses = {\"train_loss\": [], \"valid_loss\": []}\n",
        "  start = time.time()\n",
        "\n",
        "  for e in range(1, epochs + 1):\n",
        "    train_loss, valid_loss = 0.0, 0.0\n",
        "\n",
        "    # Training the model:\n",
        "    model.train()\n",
        "    for data, target in trainloader:\n",
        "        data, target = data.to(device), target.to(device)\n",
        "        target = target.float().unsqueeze(1)\n",
        "        optimizer.zero_grad()\n",
        "        output = model(data)\n",
        "        # print(\"Size: {}\".format(output.size()))\n",
        "        loss = criterion(output, target)\n",
        "        loss.backward()\n",
        "        # print(loss)\n",
        "        optimizer.step()\n",
        "        train_loss += loss.item() * data.size(0)\n",
        "\n",
        "    # Validating the model:\n",
        "    model.eval()\n",
        "    for data, target in validloader:\n",
        "        data, target = data.to(device), target.to(device)\n",
        "        target = target.float().unsqueeze(1)\n",
        "        output = model(data)\n",
        "        loss = criterion(output, target)\n",
        "        valid_loss += loss.item() * data.size(0)\n",
        "\n",
        "    train_loss = train_loss / len(trainloader.dataset)\n",
        "    losses[\"train_loss\"].append(train_loss)\n",
        "    valid_loss = valid_loss / len(validloader.dataset)\n",
        "    losses[\"valid_loss\"].append(valid_loss)\n",
        "\n",
        "    print(\"Epoch: {}/{}, Train Loss: {:.5f}, Validation Loss: {:.5f}\".format(e, epochs, train_loss, valid_loss))\n",
        "\n",
        "\n",
        "    if valid_loss <= valid_loss_min:\n",
        "        print('Decrease in Validation Loss: ({:.6f} to {:.6f}). Saving Model...'.format(\n",
        "            valid_loss_min,\n",
        "            valid_loss))\n",
        "        torch.save(model.state_dict(), \"/content/drive/MyDrive/DS5500 Data/{}.pt\".format(model_name))\n",
        "        valid_loss_min = valid_loss\n",
        "    \n",
        "  end = time.time()\n",
        "  hours, rem = divmod(end-start, 3600)\n",
        "  minutes, seconds = divmod(rem, 60)\n",
        "  print(\"\\nTime Taken for Training: {:0>2}:{:0>2}:{:05.2f}\\n\".format(int(hours),int(minutes),seconds))\n",
        "  write_model_losses(losses_filename, losses)\n",
        "    \n",
        "  return losses "
      ],
      "execution_count": 35,
      "outputs": []
    },
    {
      "cell_type": "code",
      "metadata": {
        "id": "Ib8Jwma6avyH"
      },
      "source": [
        "def model_evaluation(dataloader, model, criterion, device):\n",
        "    # specify loss function\n",
        "    predictions = torch.FloatTensor().cpu()\n",
        "    # criterion = nn.MSELoss()\n",
        "    total_MSE_loss, total_RMSE_loss = 0.0, 0.0\n",
        "    # specify optimizer\n",
        "    # optimizer = optim.Adam(model.parameters(), lr = 0.015)\n",
        "    model.eval()\n",
        "    # for data, target in validloader:\n",
        "    #     data, target = data.to(device), target.to(device)\n",
        "    #     target = target.float().unsqueeze(1)\n",
        "    #     output = model(data)\n",
        "    #     loss = criterion(output, target)\n",
        "    #     valid_loss += loss.item() * data.size(0)\n",
        "\n",
        "    for data, target in dataloader:\n",
        "        data, target = data.to(device), target.to(device)\n",
        "        target = target.float().unsqueeze(1)\n",
        "        output = model(data)\n",
        "        predictions = torch.cat((predictions, output.cpu()), 0)\n",
        "        print(predictions)\n",
        "        #RMSE\n",
        "        MSE_loss = criterion(output, target)\n",
        "        RMSE_loss = torch.sqrt(MSE_loss)\n",
        "        total_MSE_loss += MSE_loss.item()*data.size(0)\n",
        "        total_RMSE_loss += RMSE_loss.item()*data.size(0)\n",
        "    total_MSE_loss = total_MSE_loss / len(dataloader.dataset)\n",
        "    total_RMSE_loss = total_RMSE_loss / len(dataloader.dataset)\n",
        "\n",
        "  # pass entire testloader, get outputs and append to test_metadata\n",
        "    preds_df = pd.DataFrame(predictions, columns = ['predictions']).astype(\"float\")\n",
        "    return preds_df, total_MSE_loss, total_RMSE_loss"
      ],
      "execution_count": 36,
      "outputs": []
    },
    {
      "cell_type": "code",
      "metadata": {
        "id": "LPidG-7NTrW5"
      },
      "source": [
        "get_data_from_drive(copy = True, extract = True)"
      ],
      "execution_count": null,
      "outputs": []
    },
    {
      "cell_type": "code",
      "metadata": {
        "id": "uEFKkHAMuAqf"
      },
      "source": [
        "rs = np.random.RandomState(111) # creating a random state for reproducibility of random generators\n",
        "data_dir = \"/content/\"\n",
        "train_metadata = pd.read_csv(\"{}/train.csv\".format(data_dir))\n",
        "test_metadata = pd.read_csv(\"{}/test.csv\".format(data_dir))\n",
        "msk = rs.rand(len(train_metadata)) < 0.8\n",
        "train_metadata2 = train_metadata[msk].reset_index().drop(\"index\", axis=1)\n",
        "valid_metadata = train_metadata[~msk].reset_index().drop(\"index\", axis=1)\n",
        "\n",
        "train_folder_name = \"nasa_tropical_storm_competition_train_source\"\n",
        "test_folder_name = \"nasa_tropical_storm_competition_test_source\"\n",
        "train_image_dir = \"{}/{}\".format(data_dir, train_folder_name)\n",
        "test_image_dir = \"{}/{}\".format(data_dir, test_folder_name)\n",
        "\n",
        "train_metadata2 = get_image_paths(train_metadata2, train_image_dir, train_folder_name)\n",
        "test_metadata = get_image_paths(test_metadata, test_image_dir, test_folder_name)\n",
        "valid_metadata = get_image_paths(valid_metadata, train_image_dir, train_folder_name)"
      ],
      "execution_count": 38,
      "outputs": []
    },
    {
      "cell_type": "code",
      "metadata": {
        "colab": {
          "base_uri": "https://localhost:8080/"
        },
        "id": "Hn2EwS-scvIq",
        "outputId": "203dc8d8-7c67-4b2f-ae26-42353b359154"
      },
      "source": [
        "pd.set_option('display.max_colwidth', -1)\n",
        "pd.set_option(\"display.max_rows\", 100000)"
      ],
      "execution_count": 44,
      "outputs": [
        {
          "output_type": "stream",
          "name": "stderr",
          "text": [
            "/usr/local/lib/python3.7/dist-packages/ipykernel_launcher.py:1: FutureWarning: Passing a negative integer is deprecated in version 1.0 and will not be supported in future version. Instead, use None to not limit the column width.\n",
            "  \"\"\"Entry point for launching an IPython kernel.\n"
          ]
        }
      ]
    },
    {
      "cell_type": "code",
      "metadata": {
        "id": "Pw_qoqfwuwbf"
      },
      "source": [
        "pd.DataFrame(train_metadata.wind_speed.value_counts())"
      ],
      "execution_count": null,
      "outputs": []
    },
    {
      "cell_type": "code",
      "metadata": {
        "colab": {
          "base_uri": "https://localhost:8080/"
        },
        "id": "rPMWG4LBzM-T",
        "outputId": "601a71bc-843c-4aa6-a55d-29ff449efb60"
      },
      "source": [
        "valid_metadata.shape"
      ],
      "execution_count": 24,
      "outputs": [
        {
          "output_type": "execute_result",
          "data": {
            "text/plain": [
              "(14149, 6)"
            ]
          },
          "metadata": {},
          "execution_count": 24
        }
      ]
    },
    {
      "cell_type": "code",
      "metadata": {
        "id": "D9BE4mP7zRdS"
      },
      "source": [
        "# train_metadata2[[\"image_id\", \"image_path\"]]"
      ],
      "execution_count": 25,
      "outputs": []
    },
    {
      "cell_type": "code",
      "metadata": {
        "id": "RC-LCxx_yXqz"
      },
      "source": [
        "transform = transforms.Compose([\n",
        "        # transforms.RandomResizedCrop(224),\n",
        "        transforms.Resize((224,224)),\n",
        "        transforms.Grayscale(num_output_channels=1),\n",
        "        # transforms.RandomHorizontalFlip(),\n",
        "        transforms.ToTensor(),\n",
        "        # transforms.Normalize([0.5], [0.5])\n",
        "])"
      ],
      "execution_count": 26,
      "outputs": []
    },
    {
      "cell_type": "code",
      "metadata": {
        "id": "FxKjeDbKyiE3"
      },
      "source": [
        "trainset = HurricaneImageDataset(train_metadata2, transform)\n",
        "testset = HurricaneImageDataset(test_metadata, transform)\n",
        "validset = HurricaneImageDataset(valid_metadata, transform)\n",
        "\n",
        "trainloader = DataLoader(trainset, batch_size=256, shuffle=True)\n",
        "testloader = DataLoader(testset, batch_size=256, shuffle=True)\n",
        "validloader = DataLoader(validset, batch_size=256, shuffle=True)"
      ],
      "execution_count": 27,
      "outputs": []
    },
    {
      "cell_type": "code",
      "metadata": {
        "colab": {
          "base_uri": "https://localhost:8080/"
        },
        "id": "16CIvh7DyyWf",
        "outputId": "bb3367bc-c35e-414b-d7c2-d88b84fe1be9"
      },
      "source": [
        "model = BaselineCNN()\n",
        "model.to(device)\n",
        "print(model)"
      ],
      "execution_count": 28,
      "outputs": [
        {
          "output_type": "stream",
          "name": "stdout",
          "text": [
            "BaselineCNN(\n",
            "  (conv1): Conv2d(1, 16, kernel_size=(5, 5), stride=(1, 1), padding=(2, 2))\n",
            "  (conv2): Conv2d(16, 32, kernel_size=(5, 5), stride=(1, 1), padding=(2, 2))\n",
            "  (conv3): Conv2d(32, 64, kernel_size=(5, 5), stride=(1, 1), padding=(2, 2))\n",
            "  (conv4): Conv2d(64, 128, kernel_size=(5, 5), stride=(1, 1), padding=(2, 2))\n",
            "  (pool): MaxPool2d(kernel_size=2, stride=2, padding=0, dilation=1, ceil_mode=False)\n",
            "  (fc1): Linear(in_features=25088, out_features=32, bias=True)\n",
            "  (output): Linear(in_features=32, out_features=1, bias=True)\n",
            "  (dropout): Dropout(p=0.25, inplace=False)\n",
            ")\n"
          ]
        }
      ]
    },
    {
      "cell_type": "code",
      "metadata": {
        "colab": {
          "base_uri": "https://localhost:8080/"
        },
        "id": "gNpbZW-uy0ze",
        "outputId": "980ab1b2-a9a1-4b22-e796-b032a6050f19"
      },
      "source": [
        "summary(model, (1, 224, 224))"
      ],
      "execution_count": 29,
      "outputs": [
        {
          "output_type": "stream",
          "name": "stdout",
          "text": [
            "----------------------------------------------------------------\n",
            "        Layer (type)               Output Shape         Param #\n",
            "================================================================\n",
            "            Conv2d-1         [-1, 16, 224, 224]             416\n",
            "         MaxPool2d-2         [-1, 16, 112, 112]               0\n",
            "            Conv2d-3         [-1, 32, 112, 112]          12,832\n",
            "         MaxPool2d-4           [-1, 32, 56, 56]               0\n",
            "            Conv2d-5           [-1, 64, 56, 56]          51,264\n",
            "         MaxPool2d-6           [-1, 64, 28, 28]               0\n",
            "            Conv2d-7          [-1, 128, 28, 28]         204,928\n",
            "         MaxPool2d-8          [-1, 128, 14, 14]               0\n",
            "           Dropout-9                [-1, 25088]               0\n",
            "           Linear-10                   [-1, 32]         802,848\n",
            "          Dropout-11                   [-1, 32]               0\n",
            "           Linear-12                    [-1, 1]              33\n",
            "================================================================\n",
            "Total params: 1,072,321\n",
            "Trainable params: 1,072,321\n",
            "Non-trainable params: 0\n",
            "----------------------------------------------------------------\n",
            "Input size (MB): 0.19\n",
            "Forward/backward pass size (MB): 14.55\n",
            "Params size (MB): 4.09\n",
            "Estimated Total Size (MB): 18.83\n",
            "----------------------------------------------------------------\n"
          ]
        }
      ]
    },
    {
      "cell_type": "code",
      "metadata": {
        "id": "ISEN55LAy2nR",
        "colab": {
          "base_uri": "https://localhost:8080/"
        },
        "outputId": "c686f20b-e8ef-4fb4-f108-3cea587b6584"
      },
      "source": [
        "# Loss function\n",
        "criterion = nn.MSELoss()\n",
        "print(\"Loss Function:\\n\", criterion)\n",
        "# Optimizer\n",
        "print(\"\")\n",
        "# optimizer = optim.Adam(model.parameters(), lr = 0.001)\n",
        "optimizer = optim.SGD(model.parameters(), lr=0.0001)\n",
        "print(\"Optimizer:\\n\", optimizer)"
      ],
      "execution_count": 30,
      "outputs": [
        {
          "output_type": "stream",
          "name": "stdout",
          "text": [
            "Loss Function:\n",
            " MSELoss()\n",
            "\n",
            "Optimizer:\n",
            " SGD (\n",
            "Parameter Group 0\n",
            "    dampening: 0\n",
            "    lr: 0.0001\n",
            "    momentum: 0\n",
            "    nesterov: False\n",
            "    weight_decay: 0\n",
            ")\n"
          ]
        }
      ]
    },
    {
      "cell_type": "code",
      "metadata": {
        "id": "fP5wELZwbB04"
      },
      "source": [
        "epochs = 50\n",
        "model_name = \"baseline_CNN_SGD\"\n",
        "losses_filename = \"{}_losses\".format(model_name)"
      ],
      "execution_count": 31,
      "outputs": []
    },
    {
      "cell_type": "code",
      "metadata": {
        "colab": {
          "base_uri": "https://localhost:8080/"
        },
        "id": "IrNW8GGO0KfS",
        "outputId": "193bc69d-4edd-4cf2-ae03-36bfb86c0974"
      },
      "source": [
        "model_losses = train(model, trainloader, validloader, epochs, criterion, optimizer, device, model_name, losses_filename)"
      ],
      "execution_count": 32,
      "outputs": [
        {
          "output_type": "stream",
          "name": "stdout",
          "text": [
            "Epoch: 1/50, Train Loss: 3859.13951, Validation Loss: 3022.25798\n",
            "Decrease in Validation Loss: (inf to 3022.257976). Saving Model...\n",
            "Epoch: 2/50, Train Loss: 2941.76327, Validation Loss: 2827.45270\n",
            "Decrease in Validation Loss: (3022.257976 to 2827.452702). Saving Model...\n",
            "Epoch: 3/50, Train Loss: 2754.40506, Validation Loss: 2649.00298\n",
            "Decrease in Validation Loss: (2827.452702 to 2649.002981). Saving Model...\n",
            "Epoch: 4/50, Train Loss: 2582.74116, Validation Loss: 2485.55335\n",
            "Decrease in Validation Loss: (2649.002981 to 2485.553348). Saving Model...\n",
            "Epoch: 5/50, Train Loss: 2425.47013, Validation Loss: 2336.05599\n",
            "Decrease in Validation Loss: (2485.553348 to 2336.055995). Saving Model...\n",
            "Epoch: 6/50, Train Loss: 2281.60457, Validation Loss: 2199.18108\n",
            "Decrease in Validation Loss: (2336.055995 to 2199.181078). Saving Model...\n",
            "Epoch: 7/50, Train Loss: 2149.84808, Validation Loss: 2073.84072\n",
            "Decrease in Validation Loss: (2199.181078 to 2073.840721). Saving Model...\n",
            "Epoch: 8/50, Train Loss: 2029.16792, Validation Loss: 1959.05561\n",
            "Decrease in Validation Loss: (2073.840721 to 1959.055613). Saving Model...\n",
            "Epoch: 9/50, Train Loss: 1918.62253, Validation Loss: 1853.94175\n",
            "Decrease in Validation Loss: (1959.055613 to 1853.941752). Saving Model...\n",
            "Epoch: 10/50, Train Loss: 1817.36481, Validation Loss: 1757.82230\n",
            "Decrease in Validation Loss: (1853.941752 to 1757.822297). Saving Model...\n",
            "Epoch: 11/50, Train Loss: 1724.74915, Validation Loss: 1669.76715\n",
            "Decrease in Validation Loss: (1757.822297 to 1669.767151). Saving Model...\n",
            "Epoch: 12/50, Train Loss: 1639.88137, Validation Loss: 1589.21727\n",
            "Decrease in Validation Loss: (1669.767151 to 1589.217270). Saving Model...\n",
            "Epoch: 13/50, Train Loss: 1562.22084, Validation Loss: 1515.45484\n",
            "Decrease in Validation Loss: (1589.217270 to 1515.454840). Saving Model...\n",
            "Epoch: 14/50, Train Loss: 1491.08839, Validation Loss: 1447.86410\n",
            "Decrease in Validation Loss: (1515.454840 to 1447.864095). Saving Model...\n",
            "Epoch: 15/50, Train Loss: 1425.87734, Validation Loss: 1385.98631\n",
            "Decrease in Validation Loss: (1447.864095 to 1385.986311). Saving Model...\n",
            "Epoch: 16/50, Train Loss: 1366.16590, Validation Loss: 1329.40010\n",
            "Decrease in Validation Loss: (1385.986311 to 1329.400098). Saving Model...\n",
            "Epoch: 17/50, Train Loss: 1311.53811, Validation Loss: 1277.53084\n",
            "Decrease in Validation Loss: (1329.400098 to 1277.530838). Saving Model...\n",
            "Epoch: 18/50, Train Loss: 1261.44780, Validation Loss: 1230.10088\n",
            "Decrease in Validation Loss: (1277.530838 to 1230.100884). Saving Model...\n",
            "Epoch: 19/50, Train Loss: 1215.62328, Validation Loss: 1186.69946\n",
            "Decrease in Validation Loss: (1230.100884 to 1186.699461). Saving Model...\n",
            "Epoch: 20/50, Train Loss: 1173.67954, Validation Loss: 1146.94640\n",
            "Decrease in Validation Loss: (1186.699461 to 1146.946400). Saving Model...\n",
            "Epoch: 21/50, Train Loss: 1135.24197, Validation Loss: 1110.53737\n",
            "Decrease in Validation Loss: (1146.946400 to 1110.537366). Saving Model...\n",
            "Epoch: 22/50, Train Loss: 1100.02396, Validation Loss: 1077.27189\n",
            "Decrease in Validation Loss: (1110.537366 to 1077.271890). Saving Model...\n",
            "Epoch: 23/50, Train Loss: 1067.83084, Validation Loss: 1046.82684\n",
            "Decrease in Validation Loss: (1077.271890 to 1046.826843). Saving Model...\n",
            "Epoch: 24/50, Train Loss: 1038.35530, Validation Loss: 1018.89582\n",
            "Decrease in Validation Loss: (1046.826843 to 1018.895817). Saving Model...\n",
            "Epoch: 25/50, Train Loss: 1011.29546, Validation Loss: 993.35158\n",
            "Decrease in Validation Loss: (1018.895817 to 993.351580). Saving Model...\n",
            "Epoch: 26/50, Train Loss: 986.54043, Validation Loss: 969.99503\n",
            "Decrease in Validation Loss: (993.351580 to 969.995028). Saving Model...\n",
            "Epoch: 27/50, Train Loss: 963.89221, Validation Loss: 948.61242\n",
            "Decrease in Validation Loss: (969.995028 to 948.612419). Saving Model...\n",
            "Epoch: 28/50, Train Loss: 943.14512, Validation Loss: 929.00189\n",
            "Decrease in Validation Loss: (948.612419 to 929.001890). Saving Model...\n",
            "Epoch: 29/50, Train Loss: 924.10551, Validation Loss: 911.09806\n",
            "Decrease in Validation Loss: (929.001890 to 911.098058). Saving Model...\n",
            "Epoch: 30/50, Train Loss: 906.71252, Validation Loss: 894.69739\n",
            "Decrease in Validation Loss: (911.098058 to 894.697385). Saving Model...\n",
            "Epoch: 31/50, Train Loss: 890.76959, Validation Loss: 879.67647\n",
            "Decrease in Validation Loss: (894.697385 to 879.676473). Saving Model...\n",
            "Epoch: 32/50, Train Loss: 876.15767, Validation Loss: 865.95763\n",
            "Decrease in Validation Loss: (879.676473 to 865.957626). Saving Model...\n",
            "Epoch: 33/50, Train Loss: 862.80351, Validation Loss: 853.38462\n",
            "Decrease in Validation Loss: (865.957626 to 853.384616). Saving Model...\n",
            "Epoch: 34/50, Train Loss: 850.55464, Validation Loss: 841.91423\n",
            "Decrease in Validation Loss: (853.384616 to 841.914229). Saving Model...\n",
            "Epoch: 35/50, Train Loss: 839.37327, Validation Loss: 831.41148\n",
            "Decrease in Validation Loss: (841.914229 to 831.411480). Saving Model...\n",
            "Epoch: 36/50, Train Loss: 829.12522, Validation Loss: 821.79198\n",
            "Decrease in Validation Loss: (831.411480 to 821.791983). Saving Model...\n",
            "Epoch: 37/50, Train Loss: 819.72997, Validation Loss: 812.96445\n",
            "Decrease in Validation Loss: (821.791983 to 812.964448). Saving Model...\n",
            "Epoch: 38/50, Train Loss: 811.10246, Validation Loss: 804.92238\n",
            "Decrease in Validation Loss: (812.964448 to 804.922385). Saving Model...\n",
            "Epoch: 39/50, Train Loss: 803.23468, Validation Loss: 797.57015\n",
            "Decrease in Validation Loss: (804.922385 to 797.570149). Saving Model...\n",
            "Epoch: 40/50, Train Loss: 796.03584, Validation Loss: 790.82985\n",
            "Decrease in Validation Loss: (797.570149 to 790.829853). Saving Model...\n",
            "Epoch: 41/50, Train Loss: 789.42803, Validation Loss: 784.65346\n",
            "Decrease in Validation Loss: (790.829853 to 784.653461). Saving Model...\n",
            "Epoch: 42/50, Train Loss: 783.36680, Validation Loss: 779.02270\n",
            "Decrease in Validation Loss: (784.653461 to 779.022696). Saving Model...\n",
            "Epoch: 43/50, Train Loss: 777.83499, Validation Loss: 773.87098\n",
            "Decrease in Validation Loss: (779.022696 to 773.870982). Saving Model...\n",
            "Epoch: 44/50, Train Loss: 772.76697, Validation Loss: 769.14413\n",
            "Decrease in Validation Loss: (773.870982 to 769.144125). Saving Model...\n",
            "Epoch: 45/50, Train Loss: 768.11257, Validation Loss: 764.83931\n",
            "Decrease in Validation Loss: (769.144125 to 764.839313). Saving Model...\n",
            "Epoch: 46/50, Train Loss: 763.86823, Validation Loss: 760.87349\n",
            "Decrease in Validation Loss: (764.839313 to 760.873488). Saving Model...\n",
            "Epoch: 47/50, Train Loss: 759.95339, Validation Loss: 757.26573\n",
            "Decrease in Validation Loss: (760.873488 to 757.265727). Saving Model...\n",
            "Epoch: 48/50, Train Loss: 756.38555, Validation Loss: 753.96888\n",
            "Decrease in Validation Loss: (757.265727 to 753.968876). Saving Model...\n",
            "Epoch: 49/50, Train Loss: 753.12051, Validation Loss: 750.94422\n",
            "Decrease in Validation Loss: (753.968876 to 750.944221). Saving Model...\n",
            "Epoch: 50/50, Train Loss: 750.12176, Validation Loss: 748.17196\n",
            "Decrease in Validation Loss: (750.944221 to 748.171961). Saving Model...\n",
            "\n",
            "Time Taken for Training: 04:09:47.70\n",
            "\n",
            "Saving model losses to drive.\n"
          ]
        }
      ]
    },
    {
      "cell_type": "code",
      "metadata": {
        "colab": {
          "base_uri": "https://localhost:8080/"
        },
        "id": "-m3-tTHJ9ETK",
        "outputId": "c6454a0b-7853-43f9-e1d2-9a4475d4739f"
      },
      "source": [
        "model = BaselineCNN()\n",
        "model.to(device)\n",
        "print(model)\n",
        "\n",
        "# Loss function\n",
        "criterion = nn.MSELoss()\n",
        "print(\"Loss Function:\\n\", criterion)\n",
        "# Optimizer\n",
        "print(\"\")\n",
        "optimizer = optim.Adam(model.parameters(), lr = 0.0001)\n",
        "# optimizer = optim.SGD(model.parameters(), lr=0.0001)\n",
        "print(\"Optimizer:\\n\", optimizer)\n",
        "\n",
        "epochs = 50\n",
        "model_name = \"baseline_CNN_ADAM_0.0001\"\n",
        "losses_filename = \"{}_losses\".format(model_name)\n",
        "\n",
        "model_losses = train(model, trainloader, validloader, epochs, criterion, optimizer, device, model_name, losses_filename)"
      ],
      "execution_count": null,
      "outputs": [
        {
          "output_type": "stream",
          "name": "stdout",
          "text": [
            "BaselineCNN(\n",
            "  (conv1): Conv2d(1, 16, kernel_size=(5, 5), stride=(1, 1), padding=(2, 2))\n",
            "  (conv2): Conv2d(16, 32, kernel_size=(5, 5), stride=(1, 1), padding=(2, 2))\n",
            "  (conv3): Conv2d(32, 64, kernel_size=(5, 5), stride=(1, 1), padding=(2, 2))\n",
            "  (conv4): Conv2d(64, 128, kernel_size=(5, 5), stride=(1, 1), padding=(2, 2))\n",
            "  (pool): MaxPool2d(kernel_size=2, stride=2, padding=0, dilation=1, ceil_mode=False)\n",
            "  (fc1): Linear(in_features=25088, out_features=32, bias=True)\n",
            "  (output): Linear(in_features=32, out_features=1, bias=True)\n",
            "  (dropout): Dropout(p=0.25, inplace=False)\n",
            ")\n",
            "Loss Function:\n",
            " MSELoss()\n",
            "\n",
            "Optimizer:\n",
            " Adam (\n",
            "Parameter Group 0\n",
            "    amsgrad: False\n",
            "    betas: (0.9, 0.999)\n",
            "    eps: 1e-08\n",
            "    lr: 0.0001\n",
            "    weight_decay: 0\n",
            ")\n",
            "Epoch: 1/50, Train Loss: 865.84694, Validation Loss: 477.09428\n",
            "Decrease in Validation Loss: (inf to 477.094276). Saving Model...\n",
            "Epoch: 2/50, Train Loss: 499.46074, Validation Loss: 421.72203\n",
            "Decrease in Validation Loss: (477.094276 to 421.722027). Saving Model...\n",
            "Epoch: 3/50, Train Loss: 474.41084, Validation Loss: 415.51953\n",
            "Decrease in Validation Loss: (421.722027 to 415.519534). Saving Model...\n",
            "Epoch: 4/50, Train Loss: 450.16874, Validation Loss: 366.08014\n",
            "Decrease in Validation Loss: (415.519534 to 366.080136). Saving Model...\n",
            "Epoch: 5/50, Train Loss: 410.84650, Validation Loss: 329.08991\n",
            "Decrease in Validation Loss: (366.080136 to 329.089906). Saving Model...\n",
            "Epoch: 6/50, Train Loss: 372.87890, Validation Loss: 288.81213\n",
            "Decrease in Validation Loss: (329.089906 to 288.812135). Saving Model...\n",
            "Epoch: 7/50, Train Loss: 326.72140, Validation Loss: 245.29165\n",
            "Decrease in Validation Loss: (288.812135 to 245.291647). Saving Model...\n",
            "Epoch: 8/50, Train Loss: 305.25169, Validation Loss: 252.75853\n",
            "Epoch: 9/50, Train Loss: 294.25650, Validation Loss: 217.21684\n",
            "Decrease in Validation Loss: (245.291647 to 217.216839). Saving Model...\n",
            "Epoch: 10/50, Train Loss: 280.23186, Validation Loss: 198.05184\n",
            "Decrease in Validation Loss: (217.216839 to 198.051837). Saving Model...\n",
            "Epoch: 11/50, Train Loss: 279.29955, Validation Loss: 208.42240\n",
            "Epoch: 12/50, Train Loss: 277.70611, Validation Loss: 193.29510\n",
            "Decrease in Validation Loss: (198.051837 to 193.295103). Saving Model...\n",
            "Epoch: 13/50, Train Loss: 273.25367, Validation Loss: 188.24907\n",
            "Decrease in Validation Loss: (193.295103 to 188.249067). Saving Model...\n",
            "Epoch: 14/50, Train Loss: 266.74183, Validation Loss: 184.69516\n",
            "Decrease in Validation Loss: (188.249067 to 184.695157). Saving Model...\n",
            "Epoch: 15/50, Train Loss: 265.55682, Validation Loss: 182.88182\n",
            "Decrease in Validation Loss: (184.695157 to 182.881824). Saving Model...\n",
            "Epoch: 16/50, Train Loss: 262.68030, Validation Loss: 181.78052\n",
            "Decrease in Validation Loss: (182.881824 to 181.780519). Saving Model...\n",
            "Epoch: 17/50, Train Loss: 256.74438, Validation Loss: 185.54020\n",
            "Epoch: 18/50, Train Loss: 258.17181, Validation Loss: 181.41380\n",
            "Decrease in Validation Loss: (181.780519 to 181.413800). Saving Model...\n",
            "Epoch: 19/50, Train Loss: 254.85825, Validation Loss: 175.90060\n",
            "Decrease in Validation Loss: (181.413800 to 175.900604). Saving Model...\n",
            "Epoch: 20/50, Train Loss: 253.63571, Validation Loss: 197.13021\n",
            "Epoch: 21/50, Train Loss: 250.02669, Validation Loss: 178.52019\n",
            "Epoch: 22/50, Train Loss: 251.17459, Validation Loss: 179.16765\n",
            "Epoch: 23/50, Train Loss: 246.91031, Validation Loss: 183.64151\n",
            "Epoch: 24/50, Train Loss: 247.67522, Validation Loss: 162.06991\n",
            "Decrease in Validation Loss: (175.900604 to 162.069914). Saving Model...\n",
            "Epoch: 25/50, Train Loss: 242.39840, Validation Loss: 160.55820\n",
            "Decrease in Validation Loss: (162.069914 to 160.558203). Saving Model...\n",
            "Epoch: 26/50, Train Loss: 244.21707, Validation Loss: 180.02737\n",
            "Epoch: 27/50, Train Loss: 241.09309, Validation Loss: 158.28511\n",
            "Decrease in Validation Loss: (160.558203 to 158.285112). Saving Model...\n",
            "Epoch: 28/50, Train Loss: 238.76962, Validation Loss: 177.77238\n",
            "Epoch: 29/50, Train Loss: 235.09602, Validation Loss: 159.80744\n",
            "Epoch: 30/50, Train Loss: 233.84322, Validation Loss: 158.15479\n",
            "Decrease in Validation Loss: (158.285112 to 158.154792). Saving Model...\n",
            "Epoch: 31/50, Train Loss: 231.05482, Validation Loss: 148.29847\n",
            "Decrease in Validation Loss: (158.154792 to 148.298471). Saving Model...\n",
            "Epoch: 32/50, Train Loss: 228.08656, Validation Loss: 146.89121\n",
            "Decrease in Validation Loss: (148.298471 to 146.891206). Saving Model...\n",
            "Epoch: 33/50, Train Loss: 226.75629, Validation Loss: 147.89098\n",
            "Epoch: 34/50, Train Loss: 223.96923, Validation Loss: 146.88031\n",
            "Decrease in Validation Loss: (146.891206 to 146.880310). Saving Model...\n",
            "Epoch: 35/50, Train Loss: 222.40455, Validation Loss: 138.53135\n",
            "Decrease in Validation Loss: (146.880310 to 138.531354). Saving Model...\n",
            "Epoch: 36/50, Train Loss: 224.90407, Validation Loss: 141.61735\n",
            "Epoch: 37/50, Train Loss: 221.61146, Validation Loss: 138.63739\n",
            "Epoch: 38/50, Train Loss: 217.40078, Validation Loss: 154.06459\n",
            "Epoch: 39/50, Train Loss: 214.52729, Validation Loss: 137.03249\n",
            "Decrease in Validation Loss: (138.531354 to 137.032485). Saving Model...\n",
            "Epoch: 40/50, Train Loss: 214.08808, Validation Loss: 129.71519\n",
            "Decrease in Validation Loss: (137.032485 to 129.715195). Saving Model...\n",
            "Epoch: 41/50, Train Loss: 211.66431, Validation Loss: 128.86604\n",
            "Decrease in Validation Loss: (129.715195 to 128.866040). Saving Model...\n",
            "Epoch: 42/50, Train Loss: 210.44626, Validation Loss: 125.97736\n",
            "Decrease in Validation Loss: (128.866040 to 125.977358). Saving Model...\n",
            "Epoch: 43/50, Train Loss: 209.60100, Validation Loss: 123.33107\n",
            "Decrease in Validation Loss: (125.977358 to 123.331072). Saving Model...\n",
            "Epoch: 44/50, Train Loss: 207.81768, Validation Loss: 129.37852\n",
            "Epoch: 45/50, Train Loss: 205.27107, Validation Loss: 126.26420\n",
            "Epoch: 46/50, Train Loss: 203.15949, Validation Loss: 121.25302\n",
            "Decrease in Validation Loss: (123.331072 to 121.253017). Saving Model...\n",
            "Epoch: 47/50, Train Loss: 204.07954, Validation Loss: 127.01404\n"
          ]
        }
      ]
    },
    {
      "cell_type": "code",
      "metadata": {
        "id": "wJpG7tOI9EVQ"
      },
      "source": [
        "loss_text = \"\"\"\n",
        "\n",
        "Epoch: 1/50, Train Loss: 865.84694, Validation Loss: 477.09428\n",
        "Decrease in Validation Loss: (inf to 477.094276). Saving Model...\n",
        "Epoch: 2/50, Train Loss: 499.46074, Validation Loss: 421.72203\n",
        "Decrease in Validation Loss: (477.094276 to 421.722027). Saving Model...\n",
        "Epoch: 3/50, Train Loss: 474.41084, Validation Loss: 415.51953\n",
        "Decrease in Validation Loss: (421.722027 to 415.519534). Saving Model...\n",
        "Epoch: 4/50, Train Loss: 450.16874, Validation Loss: 366.08014\n",
        "Decrease in Validation Loss: (415.519534 to 366.080136). Saving Model...\n",
        "Epoch: 5/50, Train Loss: 410.84650, Validation Loss: 329.08991\n",
        "Decrease in Validation Loss: (366.080136 to 329.089906). Saving Model...\n",
        "Epoch: 6/50, Train Loss: 372.87890, Validation Loss: 288.81213\n",
        "Decrease in Validation Loss: (329.089906 to 288.812135). Saving Model...\n",
        "Epoch: 7/50, Train Loss: 326.72140, Validation Loss: 245.29165\n",
        "Decrease in Validation Loss: (288.812135 to 245.291647). Saving Model...\n",
        "Epoch: 8/50, Train Loss: 305.25169, Validation Loss: 252.75853\n",
        "Epoch: 9/50, Train Loss: 294.25650, Validation Loss: 217.21684\n",
        "Decrease in Validation Loss: (245.291647 to 217.216839). Saving Model...\n",
        "Epoch: 10/50, Train Loss: 280.23186, Validation Loss: 198.05184\n",
        "Decrease in Validation Loss: (217.216839 to 198.051837). Saving Model...\n",
        "Epoch: 11/50, Train Loss: 279.29955, Validation Loss: 208.42240\n",
        "Epoch: 12/50, Train Loss: 277.70611, Validation Loss: 193.29510\n",
        "Decrease in Validation Loss: (198.051837 to 193.295103). Saving Model...\n",
        "Epoch: 13/50, Train Loss: 273.25367, Validation Loss: 188.24907\n",
        "Decrease in Validation Loss: (193.295103 to 188.249067). Saving Model...\n",
        "Epoch: 14/50, Train Loss: 266.74183, Validation Loss: 184.69516\n",
        "Decrease in Validation Loss: (188.249067 to 184.695157). Saving Model...\n",
        "Epoch: 15/50, Train Loss: 265.55682, Validation Loss: 182.88182\n",
        "Decrease in Validation Loss: (184.695157 to 182.881824). Saving Model...\n",
        "Epoch: 16/50, Train Loss: 262.68030, Validation Loss: 181.78052\n",
        "Decrease in Validation Loss: (182.881824 to 181.780519). Saving Model...\n",
        "Epoch: 17/50, Train Loss: 256.74438, Validation Loss: 185.54020\n",
        "Epoch: 18/50, Train Loss: 258.17181, Validation Loss: 181.41380\n",
        "Decrease in Validation Loss: (181.780519 to 181.413800). Saving Model...\n",
        "Epoch: 19/50, Train Loss: 254.85825, Validation Loss: 175.90060\n",
        "Decrease in Validation Loss: (181.413800 to 175.900604). Saving Model...\n",
        "Epoch: 20/50, Train Loss: 253.63571, Validation Loss: 197.13021\n",
        "Epoch: 21/50, Train Loss: 250.02669, Validation Loss: 178.52019\n",
        "Epoch: 22/50, Train Loss: 251.17459, Validation Loss: 179.16765\n",
        "Epoch: 23/50, Train Loss: 246.91031, Validation Loss: 183.64151\n",
        "Epoch: 24/50, Train Loss: 247.67522, Validation Loss: 162.06991\n",
        "Decrease in Validation Loss: (175.900604 to 162.069914). Saving Model...\n",
        "Epoch: 25/50, Train Loss: 242.39840, Validation Loss: 160.55820\n",
        "Decrease in Validation Loss: (162.069914 to 160.558203). Saving Model...\n",
        "Epoch: 26/50, Train Loss: 244.21707, Validation Loss: 180.02737\n",
        "Epoch: 27/50, Train Loss: 241.09309, Validation Loss: 158.28511\n",
        "Decrease in Validation Loss: (160.558203 to 158.285112). Saving Model...\n",
        "Epoch: 28/50, Train Loss: 238.76962, Validation Loss: 177.77238\n",
        "Epoch: 29/50, Train Loss: 235.09602, Validation Loss: 159.80744\n",
        "Epoch: 30/50, Train Loss: 233.84322, Validation Loss: 158.15479\n",
        "Decrease in Validation Loss: (158.285112 to 158.154792). Saving Model...\n",
        "Epoch: 31/50, Train Loss: 231.05482, Validation Loss: 148.29847\n",
        "Decrease in Validation Loss: (158.154792 to 148.298471). Saving Model...\n",
        "Epoch: 32/50, Train Loss: 228.08656, Validation Loss: 146.89121\n",
        "Decrease in Validation Loss: (148.298471 to 146.891206). Saving Model...\n",
        "Epoch: 33/50, Train Loss: 226.75629, Validation Loss: 147.89098\n",
        "Epoch: 34/50, Train Loss: 223.96923, Validation Loss: 146.88031\n",
        "Decrease in Validation Loss: (146.891206 to 146.880310). Saving Model...\n",
        "Epoch: 35/50, Train Loss: 222.40455, Validation Loss: 138.53135\n",
        "Decrease in Validation Loss: (146.880310 to 138.531354). Saving Model...\n",
        "Epoch: 36/50, Train Loss: 224.90407, Validation Loss: 141.61735\n",
        "Epoch: 37/50, Train Loss: 221.61146, Validation Loss: 138.63739\n",
        "Epoch: 38/50, Train Loss: 217.40078, Validation Loss: 154.06459\n",
        "Epoch: 39/50, Train Loss: 214.52729, Validation Loss: 137.03249\n",
        "Decrease in Validation Loss: (138.531354 to 137.032485). Saving Model...\n",
        "Epoch: 40/50, Train Loss: 214.08808, Validation Loss: 129.71519\n",
        "Decrease in Validation Loss: (137.032485 to 129.715195). Saving Model...\n",
        "Epoch: 41/50, Train Loss: 211.66431, Validation Loss: 128.86604\n",
        "Decrease in Validation Loss: (129.715195 to 128.866040). Saving Model...\n",
        "Epoch: 42/50, Train Loss: 210.44626, Validation Loss: 125.97736\n",
        "Decrease in Validation Loss: (128.866040 to 125.977358). Saving Model...\n",
        "Epoch: 43/50, Train Loss: 209.60100, Validation Loss: 123.33107\n",
        "Decrease in Validation Loss: (125.977358 to 123.331072). Saving Model...\n",
        "Epoch: 44/50, Train Loss: 207.81768, Validation Loss: 129.37852\n",
        "Epoch: 45/50, Train Loss: 205.27107, Validation Loss: 126.26420\n",
        "Epoch: 46/50, Train Loss: 203.15949, Validation Loss: 121.25302\n",
        "Decrease in Validation Loss: (123.331072 to 121.253017). Saving Model...\n",
        "Epoch: 47/50, Train Loss: 204.07954, Validation Loss: 127.01404\n",
        "\n",
        "\"\"\""
      ],
      "execution_count": 1,
      "outputs": []
    },
    {
      "cell_type": "code",
      "metadata": {
        "id": "-Xzc7-Qg9EXr"
      },
      "source": [
        "loss_text_list = loss_text.split(\"\\n\")\n",
        "loss_text_list = [text for text in loss_text_list if text.startswith(\"Epoch:\")]\n",
        "loss_text_list = [text.split(\",\") for text in loss_text_list]\n",
        "# loss_text_list\n",
        "losses = {\"train_loss\": [], \"valid_loss\": []}\n",
        "for i in loss_text_list:\n",
        "  losses[\"train_loss\"].append(float(i[1].split(\":\")[1].strip()))\n",
        "  losses[\"valid_loss\"].append(float(i[2].split(\":\")[1].strip()))"
      ],
      "execution_count": 25,
      "outputs": []
    },
    {
      "cell_type": "code",
      "metadata": {
        "colab": {
          "base_uri": "https://localhost:8080/"
        },
        "id": "kPfTPHb7xEBH",
        "outputId": "28935f1a-bf28-4674-8605-5bcc5f51ee61"
      },
      "source": [
        "model_name = \"baseline_CNN_ADAM_0.0001\"\n",
        "losses_filename = \"{}_losses\".format(model_name)\n",
        "write_model_losses(losses_filename, losses)"
      ],
      "execution_count": 46,
      "outputs": [
        {
          "output_type": "stream",
          "name": "stdout",
          "text": [
            "Saving model losses to drive.\n"
          ]
        }
      ]
    },
    {
      "cell_type": "code",
      "metadata": {
        "id": "-poP7bExqSVB"
      },
      "source": [
        "losses"
      ],
      "execution_count": null,
      "outputs": []
    },
    {
      "cell_type": "code",
      "metadata": {
        "colab": {
          "base_uri": "https://localhost:8080/",
          "height": 458
        },
        "id": "uzN7zyI9LrRx",
        "outputId": "1361067f-43f7-413e-c46f-c6f020c8f17d"
      },
      "source": [
        "plt.figure(figsize=(12, 7))\n",
        "plt.title(\"Loss over Epochs\")\n",
        "plt.plot(losses[\"train_loss\"])\n",
        "plt.plot(losses[\"valid_loss\"])\n",
        "plt.xlabel(\"Epochs\")\n",
        "plt.ylabel(\"Losses\")\n",
        "plt.legend([\"Train Loss\", \"Validation Loss\"])\n",
        "plt.grid(\"True\")\n",
        "plt.style.use(\"seaborn-deep\")\n",
        "plt.show()"
      ],
      "execution_count": 47,
      "outputs": [
        {
          "output_type": "display_data",
          "data": {
            "image/png": "[encoded data removed]",
            "text/plain": [
              "<Figure size 864x504 with 1 Axes>"
            ]
          },
          "metadata": {
            "needs_background": "light"
          }
        }
      ]
    },
    {
      "cell_type": "code",
      "metadata": {
        "id": "WJiKynza6Cl9",
        "colab": {
          "base_uri": "https://localhost:8080/"
        },
        "outputId": "319d186a-a6d9-4778-815d-c9ed3cee0830"
      },
      "source": [
        "  print(torch.cuda.memory_summary(device=None, abbreviated=False))"
      ],
      "execution_count": null,
      "outputs": [
        {
          "output_type": "stream",
          "name": "stdout",
          "text": [
            "|===========================================================================|\n",
            "|                  PyTorch CUDA memory summary, device ID 0                 |\n",
            "|---------------------------------------------------------------------------|\n",
            "|            CUDA OOMs: 2            |        cudaMalloc retries: 2         |\n",
            "|===========================================================================|\n",
            "|        Metric         | Cur Usage  | Peak Usage | Tot Alloc  | Tot Freed  |\n",
            "|---------------------------------------------------------------------------|\n",
            "| Allocated memory      |   14935 MB |   14987 MB |   17544 MB |    2608 MB |\n",
            "|       from large pool |   14932 MB |   14984 MB |   17535 MB |    2603 MB |\n",
            "|       from small pool |       3 MB |       3 MB |       8 MB |       5 MB |\n",
            "|---------------------------------------------------------------------------|\n",
            "| Active memory         |   14935 MB |   14987 MB |   17544 MB |    2608 MB |\n",
            "|       from large pool |   14932 MB |   14984 MB |   17535 MB |    2603 MB |\n",
            "|       from small pool |       3 MB |       3 MB |       8 MB |       5 MB |\n",
            "|---------------------------------------------------------------------------|\n",
            "| GPU reserved memory   |   15114 MB |   15220 MB |   15220 MB |  108544 KB |\n",
            "|       from large pool |   15110 MB |   15216 MB |   15216 MB |  108544 KB |\n",
            "|       from small pool |       4 MB |       4 MB |       4 MB |       0 KB |\n",
            "|---------------------------------------------------------------------------|\n",
            "| Non-releasable memory |  182297 KB |  562875 KB |    1491 MB |    1313 MB |\n",
            "|       from large pool |  181568 KB |  561024 KB |    1480 MB |    1303 MB |\n",
            "|       from small pool |     729 KB |    2238 KB |      11 MB |      10 MB |\n",
            "|---------------------------------------------------------------------------|\n",
            "| Allocations           |     107    |     107    |     187    |      80    |\n",
            "|       from large pool |      61    |      61    |      75    |      14    |\n",
            "|       from small pool |      46    |      46    |     112    |      66    |\n",
            "|---------------------------------------------------------------------------|\n",
            "| Active allocs         |     107    |     107    |     187    |      80    |\n",
            "|       from large pool |      61    |      61    |      75    |      14    |\n",
            "|       from small pool |      46    |      46    |     112    |      66    |\n",
            "|---------------------------------------------------------------------------|\n",
            "| GPU reserved segments |      46    |      47    |      47    |       1    |\n",
            "|       from large pool |      44    |      45    |      45    |       1    |\n",
            "|       from small pool |       2    |       2    |       2    |       0    |\n",
            "|---------------------------------------------------------------------------|\n",
            "| Non-releasable allocs |      11    |      15    |      45    |      34    |\n",
            "|       from large pool |       9    |      10    |      19    |      10    |\n",
            "|       from small pool |       2    |       6    |      26    |      24    |\n",
            "|===========================================================================|\n",
            "\n"
          ]
        }
      ]
    },
    {
      "cell_type": "code",
      "metadata": {
        "id": "3pvKFM6xQfGb"
      },
      "source": [
        "import torch\n",
        "torch.cuda.empty_cache()"
      ],
      "execution_count": null,
      "outputs": []
    },
    {
      "cell_type": "code",
      "metadata": {
        "colab": {
          "base_uri": "https://localhost:8080/"
        },
        "id": "Y91ASexjLca2",
        "outputId": "973b3743-800a-4f26-94ce-5ba2c76c8dbb"
      },
      "source": [
        "best_model = BaselineCNN()\n",
        "model_name = \"baseline_CNN_SGD\"\n",
        "model_path = \"/content/drive/MyDrive/DS5500 Data/baselineCNN_best_model_1.pt\"\n",
        "best_model = loadModel(model_path, best_model)\n",
        "best_model.to(device)"
      ],
      "execution_count": 25,
      "outputs": [
        {
          "output_type": "execute_result",
          "data": {
            "text/plain": [
              "BaselineCNN(\n",
              "  (conv1): Conv2d(1, 16, kernel_size=(5, 5), stride=(1, 1), padding=(2, 2))\n",
              "  (conv2): Conv2d(16, 32, kernel_size=(5, 5), stride=(1, 1), padding=(2, 2))\n",
              "  (conv3): Conv2d(32, 64, kernel_size=(5, 5), stride=(1, 1), padding=(2, 2))\n",
              "  (conv4): Conv2d(64, 128, kernel_size=(5, 5), stride=(1, 1), padding=(2, 2))\n",
              "  (pool): MaxPool2d(kernel_size=2, stride=2, padding=0, dilation=1, ceil_mode=False)\n",
              "  (fc1): Linear(in_features=25088, out_features=32, bias=True)\n",
              "  (output): Linear(in_features=32, out_features=1, bias=True)\n",
              "  (dropout): Dropout(p=0.25, inplace=False)\n",
              ")"
            ]
          },
          "metadata": {},
          "execution_count": 25
        }
      ]
    },
    {
      "cell_type": "code",
      "metadata": {
        "colab": {
          "base_uri": "https://localhost:8080/"
        },
        "id": "NRqwEb-c2j_j",
        "outputId": "3c49df51-382c-4386-f38b-1306fb605ba6"
      },
      "source": [
        "best_model.fc1.weight"
      ],
      "execution_count": 32,
      "outputs": [
        {
          "output_type": "execute_result",
          "data": {
            "text/plain": [
              "Parameter containing:\n",
              "tensor([[-0.0004, -0.0029, -0.0106,  ..., -0.0094, -0.0062, -0.0046],\n",
              "        [-0.0074, -0.0081, -0.0016,  ..., -0.0045, -0.0066, -0.0053],\n",
              "        [-0.0118, -0.0004, -0.0024,  ..., -0.0107, -0.0122,  0.0051],\n",
              "        ...,\n",
              "        [-0.0016, -0.0046, -0.0094,  ..., -0.0028, -0.0107, -0.0024],\n",
              "        [-0.0322,  0.0044, -0.0129,  ..., -0.0104, -0.0207,  0.0194],\n",
              "        [-0.0258, -0.0116,  0.0162,  ...,  0.0228,  0.0104, -0.0021]],\n",
              "       device='cuda:0', requires_grad=True)"
            ]
          },
          "metadata": {},
          "execution_count": 32
        }
      ]
    },
    {
      "cell_type": "code",
      "metadata": {
        "colab": {
          "base_uri": "https://localhost:8080/",
          "height": 374
        },
        "id": "aHGJcIU3MgFC",
        "outputId": "e36ecadf-d015-42c6-d53d-75d38ef06fcf"
      },
      "source": [
        "# testloader = DataLoader(testset, batch_size=, shuffle=True)\n",
        "predictions, total_MSE_loss, total_RMSE_loss = model_evaluation(validloader, best_model)\n",
        "res_df = pd.concat([valid_metadata, predictions], axis=1)\n",
        "plot_predictions(valid_metadata.wind_speed[0], res_df)\n",
        "print(total_MSE_loss,total_RMSE_loss)"
      ],
      "execution_count": null,
      "outputs": [
        {
          "output_type": "error",
          "ename": "RuntimeError",
          "evalue": "ignored",
          "traceback": [
            "\u001b[0;31m---------------------------------------------------------------------------\u001b[0m",
            "\u001b[0;31mRuntimeError\u001b[0m                              Traceback (most recent call last)",
            "\u001b[0;32m<ipython-input-24-921e752fb752>\u001b[0m in \u001b[0;36m<module>\u001b[0;34m()\u001b[0m\n\u001b[1;32m      1\u001b[0m \u001b[0;31m# testloader = DataLoader(testset, batch_size=, shuffle=True)\u001b[0m\u001b[0;34m\u001b[0m\u001b[0;34m\u001b[0m\u001b[0;34m\u001b[0m\u001b[0m\n\u001b[0;32m----> 2\u001b[0;31m \u001b[0mpredictions\u001b[0m\u001b[0;34m,\u001b[0m \u001b[0mtotal_MSE_loss\u001b[0m\u001b[0;34m,\u001b[0m \u001b[0mtotal_RMSE_loss\u001b[0m \u001b[0;34m=\u001b[0m \u001b[0mmodel_evaluation\u001b[0m\u001b[0;34m(\u001b[0m\u001b[0mvalidloader\u001b[0m\u001b[0;34m,\u001b[0m \u001b[0mbest_model\u001b[0m\u001b[0;34m)\u001b[0m\u001b[0;34m\u001b[0m\u001b[0;34m\u001b[0m\u001b[0m\n\u001b[0m\u001b[1;32m      3\u001b[0m \u001b[0mres_df\u001b[0m \u001b[0;34m=\u001b[0m \u001b[0mpd\u001b[0m\u001b[0;34m.\u001b[0m\u001b[0mconcat\u001b[0m\u001b[0;34m(\u001b[0m\u001b[0;34m[\u001b[0m\u001b[0mvalid_metadata\u001b[0m\u001b[0;34m,\u001b[0m \u001b[0mpredictions\u001b[0m\u001b[0;34m]\u001b[0m\u001b[0;34m,\u001b[0m \u001b[0maxis\u001b[0m\u001b[0;34m=\u001b[0m\u001b[0;36m1\u001b[0m\u001b[0;34m)\u001b[0m\u001b[0;34m\u001b[0m\u001b[0;34m\u001b[0m\u001b[0m\n\u001b[1;32m      4\u001b[0m \u001b[0mplot_predictions\u001b[0m\u001b[0;34m(\u001b[0m\u001b[0mvalid_metadata\u001b[0m\u001b[0;34m.\u001b[0m\u001b[0mwind_speed\u001b[0m\u001b[0;34m[\u001b[0m\u001b[0;36m0\u001b[0m\u001b[0;34m]\u001b[0m\u001b[0;34m,\u001b[0m \u001b[0mres_df\u001b[0m\u001b[0;34m)\u001b[0m\u001b[0;34m\u001b[0m\u001b[0;34m\u001b[0m\u001b[0m\n\u001b[1;32m      5\u001b[0m \u001b[0mprint\u001b[0m\u001b[0;34m(\u001b[0m\u001b[0mtotal_MSE_loss\u001b[0m\u001b[0;34m,\u001b[0m\u001b[0mtotal_RMSE_loss\u001b[0m\u001b[0;34m)\u001b[0m\u001b[0;34m\u001b[0m\u001b[0;34m\u001b[0m\u001b[0m\n",
            "\u001b[0;32m<ipython-input-23-f5dde1d6b0ff>\u001b[0m in \u001b[0;36mmodel_evaluation\u001b[0;34m(dataloader, model)\u001b[0m\n\u001b[1;32m     27\u001b[0m     \u001b[0mdata\u001b[0m\u001b[0;34m,\u001b[0m \u001b[0mtarget\u001b[0m \u001b[0;34m=\u001b[0m \u001b[0mdata\u001b[0m\u001b[0;34m.\u001b[0m\u001b[0mcuda\u001b[0m\u001b[0;34m(\u001b[0m\u001b[0;34m)\u001b[0m\u001b[0;34m,\u001b[0m \u001b[0mtarget\u001b[0m\u001b[0;34m.\u001b[0m\u001b[0mcuda\u001b[0m\u001b[0;34m(\u001b[0m\u001b[0;34m)\u001b[0m\u001b[0;34m\u001b[0m\u001b[0;34m\u001b[0m\u001b[0m\n\u001b[1;32m     28\u001b[0m     \u001b[0mtarget\u001b[0m \u001b[0;34m=\u001b[0m \u001b[0mtarget\u001b[0m\u001b[0;34m.\u001b[0m\u001b[0mfloat\u001b[0m\u001b[0;34m(\u001b[0m\u001b[0;34m)\u001b[0m\u001b[0;34m.\u001b[0m\u001b[0munsqueeze\u001b[0m\u001b[0;34m(\u001b[0m\u001b[0;36m1\u001b[0m\u001b[0;34m)\u001b[0m\u001b[0;34m\u001b[0m\u001b[0;34m\u001b[0m\u001b[0m\n\u001b[0;32m---> 29\u001b[0;31m     \u001b[0moutput\u001b[0m \u001b[0;34m=\u001b[0m \u001b[0mmodel\u001b[0m\u001b[0;34m(\u001b[0m\u001b[0mdata\u001b[0m\u001b[0;34m)\u001b[0m\u001b[0;34m\u001b[0m\u001b[0;34m\u001b[0m\u001b[0m\n\u001b[0m\u001b[1;32m     30\u001b[0m     \u001b[0mpredictions\u001b[0m \u001b[0;34m=\u001b[0m \u001b[0mtorch\u001b[0m\u001b[0;34m.\u001b[0m\u001b[0mcat\u001b[0m\u001b[0;34m(\u001b[0m\u001b[0;34m(\u001b[0m\u001b[0mpredictions\u001b[0m\u001b[0;34m,\u001b[0m \u001b[0moutput\u001b[0m\u001b[0;34m)\u001b[0m\u001b[0;34m,\u001b[0m \u001b[0;36m0\u001b[0m\u001b[0;34m)\u001b[0m\u001b[0;34m\u001b[0m\u001b[0;34m\u001b[0m\u001b[0m\n\u001b[1;32m     31\u001b[0m     \u001b[0;31m#RMSE\u001b[0m\u001b[0;34m\u001b[0m\u001b[0;34m\u001b[0m\u001b[0;34m\u001b[0m\u001b[0m\n",
            "\u001b[0;32m/usr/local/lib/python3.7/dist-packages/torch/nn/modules/module.py\u001b[0m in \u001b[0;36m_call_impl\u001b[0;34m(self, *input, **kwargs)\u001b[0m\n\u001b[1;32m   1049\u001b[0m         if not (self._backward_hooks or self._forward_hooks or self._forward_pre_hooks or _global_backward_hooks\n\u001b[1;32m   1050\u001b[0m                 or _global_forward_hooks or _global_forward_pre_hooks):\n\u001b[0;32m-> 1051\u001b[0;31m             \u001b[0;32mreturn\u001b[0m \u001b[0mforward_call\u001b[0m\u001b[0;34m(\u001b[0m\u001b[0;34m*\u001b[0m\u001b[0minput\u001b[0m\u001b[0;34m,\u001b[0m \u001b[0;34m**\u001b[0m\u001b[0mkwargs\u001b[0m\u001b[0;34m)\u001b[0m\u001b[0;34m\u001b[0m\u001b[0;34m\u001b[0m\u001b[0m\n\u001b[0m\u001b[1;32m   1052\u001b[0m         \u001b[0;31m# Do not call functions when jit is used\u001b[0m\u001b[0;34m\u001b[0m\u001b[0;34m\u001b[0m\u001b[0;34m\u001b[0m\u001b[0m\n\u001b[1;32m   1053\u001b[0m         \u001b[0mfull_backward_hooks\u001b[0m\u001b[0;34m,\u001b[0m \u001b[0mnon_full_backward_hooks\u001b[0m \u001b[0;34m=\u001b[0m \u001b[0;34m[\u001b[0m\u001b[0;34m]\u001b[0m\u001b[0;34m,\u001b[0m \u001b[0;34m[\u001b[0m\u001b[0;34m]\u001b[0m\u001b[0;34m\u001b[0m\u001b[0;34m\u001b[0m\u001b[0m\n",
            "\u001b[0;32m<ipython-input-16-06cfe27283ab>\u001b[0m in \u001b[0;36mforward\u001b[0;34m(self, x)\u001b[0m\n\u001b[1;32m     15\u001b[0m     \u001b[0;32mdef\u001b[0m \u001b[0mforward\u001b[0m\u001b[0;34m(\u001b[0m\u001b[0mself\u001b[0m\u001b[0;34m,\u001b[0m \u001b[0mx\u001b[0m\u001b[0;34m)\u001b[0m\u001b[0;34m:\u001b[0m\u001b[0;34m\u001b[0m\u001b[0;34m\u001b[0m\u001b[0m\n\u001b[1;32m     16\u001b[0m         \u001b[0;31m# add sequence of convolutional and max pooling layers\u001b[0m\u001b[0;34m\u001b[0m\u001b[0;34m\u001b[0m\u001b[0;34m\u001b[0m\u001b[0m\n\u001b[0;32m---> 17\u001b[0;31m         \u001b[0mx\u001b[0m \u001b[0;34m=\u001b[0m \u001b[0mself\u001b[0m\u001b[0;34m.\u001b[0m\u001b[0mpool\u001b[0m\u001b[0;34m(\u001b[0m\u001b[0mF\u001b[0m\u001b[0;34m.\u001b[0m\u001b[0mrelu\u001b[0m\u001b[0;34m(\u001b[0m\u001b[0mself\u001b[0m\u001b[0;34m.\u001b[0m\u001b[0mconv1\u001b[0m\u001b[0;34m(\u001b[0m\u001b[0mx\u001b[0m\u001b[0;34m)\u001b[0m\u001b[0;34m)\u001b[0m\u001b[0;34m)\u001b[0m\u001b[0;34m\u001b[0m\u001b[0;34m\u001b[0m\u001b[0m\n\u001b[0m\u001b[1;32m     18\u001b[0m         \u001b[0mx\u001b[0m \u001b[0;34m=\u001b[0m \u001b[0mself\u001b[0m\u001b[0;34m.\u001b[0m\u001b[0mpool\u001b[0m\u001b[0;34m(\u001b[0m\u001b[0mF\u001b[0m\u001b[0;34m.\u001b[0m\u001b[0mrelu\u001b[0m\u001b[0;34m(\u001b[0m\u001b[0mself\u001b[0m\u001b[0;34m.\u001b[0m\u001b[0mconv2\u001b[0m\u001b[0;34m(\u001b[0m\u001b[0mx\u001b[0m\u001b[0;34m)\u001b[0m\u001b[0;34m)\u001b[0m\u001b[0;34m)\u001b[0m\u001b[0;34m\u001b[0m\u001b[0;34m\u001b[0m\u001b[0m\n\u001b[1;32m     19\u001b[0m         \u001b[0mx\u001b[0m \u001b[0;34m=\u001b[0m \u001b[0mself\u001b[0m\u001b[0;34m.\u001b[0m\u001b[0mpool\u001b[0m\u001b[0;34m(\u001b[0m\u001b[0mF\u001b[0m\u001b[0;34m.\u001b[0m\u001b[0mrelu\u001b[0m\u001b[0;34m(\u001b[0m\u001b[0mself\u001b[0m\u001b[0;34m.\u001b[0m\u001b[0mconv3\u001b[0m\u001b[0;34m(\u001b[0m\u001b[0mx\u001b[0m\u001b[0;34m)\u001b[0m\u001b[0;34m)\u001b[0m\u001b[0;34m)\u001b[0m\u001b[0;34m\u001b[0m\u001b[0;34m\u001b[0m\u001b[0m\n",
            "\u001b[0;32m/usr/local/lib/python3.7/dist-packages/torch/nn/modules/module.py\u001b[0m in \u001b[0;36m_call_impl\u001b[0;34m(self, *input, **kwargs)\u001b[0m\n\u001b[1;32m   1049\u001b[0m         if not (self._backward_hooks or self._forward_hooks or self._forward_pre_hooks or _global_backward_hooks\n\u001b[1;32m   1050\u001b[0m                 or _global_forward_hooks or _global_forward_pre_hooks):\n\u001b[0;32m-> 1051\u001b[0;31m             \u001b[0;32mreturn\u001b[0m \u001b[0mforward_call\u001b[0m\u001b[0;34m(\u001b[0m\u001b[0;34m*\u001b[0m\u001b[0minput\u001b[0m\u001b[0;34m,\u001b[0m \u001b[0;34m**\u001b[0m\u001b[0mkwargs\u001b[0m\u001b[0;34m)\u001b[0m\u001b[0;34m\u001b[0m\u001b[0;34m\u001b[0m\u001b[0m\n\u001b[0m\u001b[1;32m   1052\u001b[0m         \u001b[0;31m# Do not call functions when jit is used\u001b[0m\u001b[0;34m\u001b[0m\u001b[0;34m\u001b[0m\u001b[0;34m\u001b[0m\u001b[0m\n\u001b[1;32m   1053\u001b[0m         \u001b[0mfull_backward_hooks\u001b[0m\u001b[0;34m,\u001b[0m \u001b[0mnon_full_backward_hooks\u001b[0m \u001b[0;34m=\u001b[0m \u001b[0;34m[\u001b[0m\u001b[0;34m]\u001b[0m\u001b[0;34m,\u001b[0m \u001b[0;34m[\u001b[0m\u001b[0;34m]\u001b[0m\u001b[0;34m\u001b[0m\u001b[0;34m\u001b[0m\u001b[0m\n",
            "\u001b[0;32m/usr/local/lib/python3.7/dist-packages/torch/nn/modules/conv.py\u001b[0m in \u001b[0;36mforward\u001b[0;34m(self, input)\u001b[0m\n\u001b[1;32m    441\u001b[0m \u001b[0;34m\u001b[0m\u001b[0m\n\u001b[1;32m    442\u001b[0m     \u001b[0;32mdef\u001b[0m \u001b[0mforward\u001b[0m\u001b[0;34m(\u001b[0m\u001b[0mself\u001b[0m\u001b[0;34m,\u001b[0m \u001b[0minput\u001b[0m\u001b[0;34m:\u001b[0m \u001b[0mTensor\u001b[0m\u001b[0;34m)\u001b[0m \u001b[0;34m->\u001b[0m \u001b[0mTensor\u001b[0m\u001b[0;34m:\u001b[0m\u001b[0;34m\u001b[0m\u001b[0;34m\u001b[0m\u001b[0m\n\u001b[0;32m--> 443\u001b[0;31m         \u001b[0;32mreturn\u001b[0m \u001b[0mself\u001b[0m\u001b[0;34m.\u001b[0m\u001b[0m_conv_forward\u001b[0m\u001b[0;34m(\u001b[0m\u001b[0minput\u001b[0m\u001b[0;34m,\u001b[0m \u001b[0mself\u001b[0m\u001b[0;34m.\u001b[0m\u001b[0mweight\u001b[0m\u001b[0;34m,\u001b[0m \u001b[0mself\u001b[0m\u001b[0;34m.\u001b[0m\u001b[0mbias\u001b[0m\u001b[0;34m)\u001b[0m\u001b[0;34m\u001b[0m\u001b[0;34m\u001b[0m\u001b[0m\n\u001b[0m\u001b[1;32m    444\u001b[0m \u001b[0;34m\u001b[0m\u001b[0m\n\u001b[1;32m    445\u001b[0m \u001b[0;32mclass\u001b[0m \u001b[0mConv3d\u001b[0m\u001b[0;34m(\u001b[0m\u001b[0m_ConvNd\u001b[0m\u001b[0;34m)\u001b[0m\u001b[0;34m:\u001b[0m\u001b[0;34m\u001b[0m\u001b[0;34m\u001b[0m\u001b[0m\n",
            "\u001b[0;32m/usr/local/lib/python3.7/dist-packages/torch/nn/modules/conv.py\u001b[0m in \u001b[0;36m_conv_forward\u001b[0;34m(self, input, weight, bias)\u001b[0m\n\u001b[1;32m    438\u001b[0m                             _pair(0), self.dilation, self.groups)\n\u001b[1;32m    439\u001b[0m         return F.conv2d(input, weight, bias, self.stride,\n\u001b[0;32m--> 440\u001b[0;31m                         self.padding, self.dilation, self.groups)\n\u001b[0m\u001b[1;32m    441\u001b[0m \u001b[0;34m\u001b[0m\u001b[0m\n\u001b[1;32m    442\u001b[0m     \u001b[0;32mdef\u001b[0m \u001b[0mforward\u001b[0m\u001b[0;34m(\u001b[0m\u001b[0mself\u001b[0m\u001b[0;34m,\u001b[0m \u001b[0minput\u001b[0m\u001b[0;34m:\u001b[0m \u001b[0mTensor\u001b[0m\u001b[0;34m)\u001b[0m \u001b[0;34m->\u001b[0m \u001b[0mTensor\u001b[0m\u001b[0;34m:\u001b[0m\u001b[0;34m\u001b[0m\u001b[0;34m\u001b[0m\u001b[0m\n",
            "\u001b[0;31mRuntimeError\u001b[0m: CUDA out of memory. Tried to allocate 16.00 MiB (GPU 0; 15.90 GiB total capacity; 14.87 GiB already allocated; 27.75 MiB free; 14.90 GiB reserved in total by PyTorch)"
          ]
        }
      ]
    },
    {
      "cell_type": "code",
      "metadata": {
        "colab": {
          "base_uri": "https://localhost:8080/",
          "height": 320
        },
        "id": "BCzPI1njbwgI",
        "outputId": "f25c822c-964f-448c-efa1-c44a997bbc30"
      },
      "source": [
        "predictions, total_MSE_loss, total_RMSE_loss = model_evaluation(validloader, best_model, criterion, device)"
      ],
      "execution_count": null,
      "outputs": [
        {
          "output_type": "error",
          "ename": "RuntimeError",
          "evalue": "ignored",
          "traceback": [
            "\u001b[0;31m---------------------------------------------------------------------------\u001b[0m",
            "\u001b[0;31mRuntimeError\u001b[0m                              Traceback (most recent call last)",
            "\u001b[0;32m<ipython-input-32-35c2e0994c9a>\u001b[0m in \u001b[0;36m<module>\u001b[0;34m()\u001b[0m\n\u001b[0;32m----> 1\u001b[0;31m \u001b[0mpredictions\u001b[0m\u001b[0;34m,\u001b[0m \u001b[0mtotal_MSE_loss\u001b[0m\u001b[0;34m,\u001b[0m \u001b[0mtotal_RMSE_loss\u001b[0m \u001b[0;34m=\u001b[0m \u001b[0mmodel_evaluation\u001b[0m\u001b[0;34m(\u001b[0m\u001b[0mvalidloader\u001b[0m\u001b[0;34m,\u001b[0m \u001b[0mbest_model\u001b[0m\u001b[0;34m,\u001b[0m \u001b[0mcriterion\u001b[0m\u001b[0;34m,\u001b[0m \u001b[0mdevice\u001b[0m\u001b[0;34m)\u001b[0m\u001b[0;34m\u001b[0m\u001b[0;34m\u001b[0m\u001b[0m\n\u001b[0m",
            "\u001b[0;32m<ipython-input-31-d2b839643ae4>\u001b[0m in \u001b[0;36mmodel_evaluation\u001b[0;34m(dataloader, model, criterion, device)\u001b[0m\n\u001b[1;32m     17\u001b[0m         \u001b[0mdata\u001b[0m\u001b[0;34m,\u001b[0m \u001b[0mtarget\u001b[0m \u001b[0;34m=\u001b[0m \u001b[0mdata\u001b[0m\u001b[0;34m.\u001b[0m\u001b[0mto\u001b[0m\u001b[0;34m(\u001b[0m\u001b[0mdevice\u001b[0m\u001b[0;34m)\u001b[0m\u001b[0;34m,\u001b[0m \u001b[0mtarget\u001b[0m\u001b[0;34m.\u001b[0m\u001b[0mto\u001b[0m\u001b[0;34m(\u001b[0m\u001b[0mdevice\u001b[0m\u001b[0;34m)\u001b[0m\u001b[0;34m\u001b[0m\u001b[0;34m\u001b[0m\u001b[0m\n\u001b[1;32m     18\u001b[0m         \u001b[0mtarget\u001b[0m \u001b[0;34m=\u001b[0m \u001b[0mtarget\u001b[0m\u001b[0;34m.\u001b[0m\u001b[0mfloat\u001b[0m\u001b[0;34m(\u001b[0m\u001b[0;34m)\u001b[0m\u001b[0;34m.\u001b[0m\u001b[0munsqueeze\u001b[0m\u001b[0;34m(\u001b[0m\u001b[0;36m1\u001b[0m\u001b[0;34m)\u001b[0m\u001b[0;34m\u001b[0m\u001b[0;34m\u001b[0m\u001b[0m\n\u001b[0;32m---> 19\u001b[0;31m         \u001b[0moutput\u001b[0m \u001b[0;34m=\u001b[0m \u001b[0mmodel\u001b[0m\u001b[0;34m(\u001b[0m\u001b[0mdata\u001b[0m\u001b[0;34m)\u001b[0m\u001b[0;34m\u001b[0m\u001b[0;34m\u001b[0m\u001b[0m\n\u001b[0m\u001b[1;32m     20\u001b[0m         \u001b[0mpredictions\u001b[0m \u001b[0;34m=\u001b[0m \u001b[0mtorch\u001b[0m\u001b[0;34m.\u001b[0m\u001b[0mcat\u001b[0m\u001b[0;34m(\u001b[0m\u001b[0;34m(\u001b[0m\u001b[0mpredictions\u001b[0m\u001b[0;34m,\u001b[0m \u001b[0moutput\u001b[0m\u001b[0;34m.\u001b[0m\u001b[0mcpu\u001b[0m\u001b[0;34m(\u001b[0m\u001b[0;34m)\u001b[0m\u001b[0;34m)\u001b[0m\u001b[0;34m,\u001b[0m \u001b[0;36m0\u001b[0m\u001b[0;34m)\u001b[0m\u001b[0;34m\u001b[0m\u001b[0;34m\u001b[0m\u001b[0m\n\u001b[1;32m     21\u001b[0m         \u001b[0mprint\u001b[0m\u001b[0;34m(\u001b[0m\u001b[0mpredictions\u001b[0m\u001b[0;34m)\u001b[0m\u001b[0;34m\u001b[0m\u001b[0;34m\u001b[0m\u001b[0m\n",
            "\u001b[0;32m/usr/local/lib/python3.7/dist-packages/torch/nn/modules/module.py\u001b[0m in \u001b[0;36m_call_impl\u001b[0;34m(self, *input, **kwargs)\u001b[0m\n\u001b[1;32m   1049\u001b[0m         if not (self._backward_hooks or self._forward_hooks or self._forward_pre_hooks or _global_backward_hooks\n\u001b[1;32m   1050\u001b[0m                 or _global_forward_hooks or _global_forward_pre_hooks):\n\u001b[0;32m-> 1051\u001b[0;31m             \u001b[0;32mreturn\u001b[0m \u001b[0mforward_call\u001b[0m\u001b[0;34m(\u001b[0m\u001b[0;34m*\u001b[0m\u001b[0minput\u001b[0m\u001b[0;34m,\u001b[0m \u001b[0;34m**\u001b[0m\u001b[0mkwargs\u001b[0m\u001b[0;34m)\u001b[0m\u001b[0;34m\u001b[0m\u001b[0;34m\u001b[0m\u001b[0m\n\u001b[0m\u001b[1;32m   1052\u001b[0m         \u001b[0;31m# Do not call functions when jit is used\u001b[0m\u001b[0;34m\u001b[0m\u001b[0;34m\u001b[0m\u001b[0;34m\u001b[0m\u001b[0m\n\u001b[1;32m   1053\u001b[0m         \u001b[0mfull_backward_hooks\u001b[0m\u001b[0;34m,\u001b[0m \u001b[0mnon_full_backward_hooks\u001b[0m \u001b[0;34m=\u001b[0m \u001b[0;34m[\u001b[0m\u001b[0;34m]\u001b[0m\u001b[0;34m,\u001b[0m \u001b[0;34m[\u001b[0m\u001b[0;34m]\u001b[0m\u001b[0;34m\u001b[0m\u001b[0;34m\u001b[0m\u001b[0m\n",
            "\u001b[0;32m<ipython-input-8-06cfe27283ab>\u001b[0m in \u001b[0;36mforward\u001b[0;34m(self, x)\u001b[0m\n\u001b[1;32m     15\u001b[0m     \u001b[0;32mdef\u001b[0m \u001b[0mforward\u001b[0m\u001b[0;34m(\u001b[0m\u001b[0mself\u001b[0m\u001b[0;34m,\u001b[0m \u001b[0mx\u001b[0m\u001b[0;34m)\u001b[0m\u001b[0;34m:\u001b[0m\u001b[0;34m\u001b[0m\u001b[0;34m\u001b[0m\u001b[0m\n\u001b[1;32m     16\u001b[0m         \u001b[0;31m# add sequence of convolutional and max pooling layers\u001b[0m\u001b[0;34m\u001b[0m\u001b[0;34m\u001b[0m\u001b[0;34m\u001b[0m\u001b[0m\n\u001b[0;32m---> 17\u001b[0;31m         \u001b[0mx\u001b[0m \u001b[0;34m=\u001b[0m \u001b[0mself\u001b[0m\u001b[0;34m.\u001b[0m\u001b[0mpool\u001b[0m\u001b[0;34m(\u001b[0m\u001b[0mF\u001b[0m\u001b[0;34m.\u001b[0m\u001b[0mrelu\u001b[0m\u001b[0;34m(\u001b[0m\u001b[0mself\u001b[0m\u001b[0;34m.\u001b[0m\u001b[0mconv1\u001b[0m\u001b[0;34m(\u001b[0m\u001b[0mx\u001b[0m\u001b[0;34m)\u001b[0m\u001b[0;34m)\u001b[0m\u001b[0;34m)\u001b[0m\u001b[0;34m\u001b[0m\u001b[0;34m\u001b[0m\u001b[0m\n\u001b[0m\u001b[1;32m     18\u001b[0m         \u001b[0mx\u001b[0m \u001b[0;34m=\u001b[0m \u001b[0mself\u001b[0m\u001b[0;34m.\u001b[0m\u001b[0mpool\u001b[0m\u001b[0;34m(\u001b[0m\u001b[0mF\u001b[0m\u001b[0;34m.\u001b[0m\u001b[0mrelu\u001b[0m\u001b[0;34m(\u001b[0m\u001b[0mself\u001b[0m\u001b[0;34m.\u001b[0m\u001b[0mconv2\u001b[0m\u001b[0;34m(\u001b[0m\u001b[0mx\u001b[0m\u001b[0;34m)\u001b[0m\u001b[0;34m)\u001b[0m\u001b[0;34m)\u001b[0m\u001b[0;34m\u001b[0m\u001b[0;34m\u001b[0m\u001b[0m\n\u001b[1;32m     19\u001b[0m         \u001b[0mx\u001b[0m \u001b[0;34m=\u001b[0m \u001b[0mself\u001b[0m\u001b[0;34m.\u001b[0m\u001b[0mpool\u001b[0m\u001b[0;34m(\u001b[0m\u001b[0mF\u001b[0m\u001b[0;34m.\u001b[0m\u001b[0mrelu\u001b[0m\u001b[0;34m(\u001b[0m\u001b[0mself\u001b[0m\u001b[0;34m.\u001b[0m\u001b[0mconv3\u001b[0m\u001b[0;34m(\u001b[0m\u001b[0mx\u001b[0m\u001b[0;34m)\u001b[0m\u001b[0;34m)\u001b[0m\u001b[0;34m)\u001b[0m\u001b[0;34m\u001b[0m\u001b[0;34m\u001b[0m\u001b[0m\n",
            "\u001b[0;32m/usr/local/lib/python3.7/dist-packages/torch/nn/modules/module.py\u001b[0m in \u001b[0;36m_call_impl\u001b[0;34m(self, *input, **kwargs)\u001b[0m\n\u001b[1;32m   1049\u001b[0m         if not (self._backward_hooks or self._forward_hooks or self._forward_pre_hooks or _global_backward_hooks\n\u001b[1;32m   1050\u001b[0m                 or _global_forward_hooks or _global_forward_pre_hooks):\n\u001b[0;32m-> 1051\u001b[0;31m             \u001b[0;32mreturn\u001b[0m \u001b[0mforward_call\u001b[0m\u001b[0;34m(\u001b[0m\u001b[0;34m*\u001b[0m\u001b[0minput\u001b[0m\u001b[0;34m,\u001b[0m \u001b[0;34m**\u001b[0m\u001b[0mkwargs\u001b[0m\u001b[0;34m)\u001b[0m\u001b[0;34m\u001b[0m\u001b[0;34m\u001b[0m\u001b[0m\n\u001b[0m\u001b[1;32m   1052\u001b[0m         \u001b[0;31m# Do not call functions when jit is used\u001b[0m\u001b[0;34m\u001b[0m\u001b[0;34m\u001b[0m\u001b[0;34m\u001b[0m\u001b[0m\n\u001b[1;32m   1053\u001b[0m         \u001b[0mfull_backward_hooks\u001b[0m\u001b[0;34m,\u001b[0m \u001b[0mnon_full_backward_hooks\u001b[0m \u001b[0;34m=\u001b[0m \u001b[0;34m[\u001b[0m\u001b[0;34m]\u001b[0m\u001b[0;34m,\u001b[0m \u001b[0;34m[\u001b[0m\u001b[0;34m]\u001b[0m\u001b[0;34m\u001b[0m\u001b[0;34m\u001b[0m\u001b[0m\n",
            "\u001b[0;32m/usr/local/lib/python3.7/dist-packages/torch/nn/modules/conv.py\u001b[0m in \u001b[0;36mforward\u001b[0;34m(self, input)\u001b[0m\n\u001b[1;32m    441\u001b[0m \u001b[0;34m\u001b[0m\u001b[0m\n\u001b[1;32m    442\u001b[0m     \u001b[0;32mdef\u001b[0m \u001b[0mforward\u001b[0m\u001b[0;34m(\u001b[0m\u001b[0mself\u001b[0m\u001b[0;34m,\u001b[0m \u001b[0minput\u001b[0m\u001b[0;34m:\u001b[0m \u001b[0mTensor\u001b[0m\u001b[0;34m)\u001b[0m \u001b[0;34m->\u001b[0m \u001b[0mTensor\u001b[0m\u001b[0;34m:\u001b[0m\u001b[0;34m\u001b[0m\u001b[0;34m\u001b[0m\u001b[0m\n\u001b[0;32m--> 443\u001b[0;31m         \u001b[0;32mreturn\u001b[0m \u001b[0mself\u001b[0m\u001b[0;34m.\u001b[0m\u001b[0m_conv_forward\u001b[0m\u001b[0;34m(\u001b[0m\u001b[0minput\u001b[0m\u001b[0;34m,\u001b[0m \u001b[0mself\u001b[0m\u001b[0;34m.\u001b[0m\u001b[0mweight\u001b[0m\u001b[0;34m,\u001b[0m \u001b[0mself\u001b[0m\u001b[0;34m.\u001b[0m\u001b[0mbias\u001b[0m\u001b[0;34m)\u001b[0m\u001b[0;34m\u001b[0m\u001b[0;34m\u001b[0m\u001b[0m\n\u001b[0m\u001b[1;32m    444\u001b[0m \u001b[0;34m\u001b[0m\u001b[0m\n\u001b[1;32m    445\u001b[0m \u001b[0;32mclass\u001b[0m \u001b[0mConv3d\u001b[0m\u001b[0;34m(\u001b[0m\u001b[0m_ConvNd\u001b[0m\u001b[0;34m)\u001b[0m\u001b[0;34m:\u001b[0m\u001b[0;34m\u001b[0m\u001b[0;34m\u001b[0m\u001b[0m\n",
            "\u001b[0;32m/usr/local/lib/python3.7/dist-packages/torch/nn/modules/conv.py\u001b[0m in \u001b[0;36m_conv_forward\u001b[0;34m(self, input, weight, bias)\u001b[0m\n\u001b[1;32m    438\u001b[0m                             _pair(0), self.dilation, self.groups)\n\u001b[1;32m    439\u001b[0m         return F.conv2d(input, weight, bias, self.stride,\n\u001b[0;32m--> 440\u001b[0;31m                         self.padding, self.dilation, self.groups)\n\u001b[0m\u001b[1;32m    441\u001b[0m \u001b[0;34m\u001b[0m\u001b[0m\n\u001b[1;32m    442\u001b[0m     \u001b[0;32mdef\u001b[0m \u001b[0mforward\u001b[0m\u001b[0;34m(\u001b[0m\u001b[0mself\u001b[0m\u001b[0;34m,\u001b[0m \u001b[0minput\u001b[0m\u001b[0;34m:\u001b[0m \u001b[0mTensor\u001b[0m\u001b[0;34m)\u001b[0m \u001b[0;34m->\u001b[0m \u001b[0mTensor\u001b[0m\u001b[0;34m:\u001b[0m\u001b[0;34m\u001b[0m\u001b[0;34m\u001b[0m\u001b[0m\n",
            "\u001b[0;31mRuntimeError\u001b[0m: CUDA out of memory. Tried to allocate 784.00 MiB (GPU 0; 15.90 GiB total capacity; 14.58 GiB already allocated; 175.75 MiB free; 14.76 GiB reserved in total by PyTorch)"
          ]
        }
      ]
    },
    {
      "cell_type": "code",
      "metadata": {
        "id": "9aICR2M3MgPR",
        "colab": {
          "base_uri": "https://localhost:8080/"
        },
        "outputId": "01627cc5-9a7e-4ab1-c358-b95256b2d8c2"
      },
      "source": [
        "ts = torch.tensor([[1, 2, 3], [1, 2, 3]])\n",
        "ts.to(device)"
      ],
      "execution_count": null,
      "outputs": [
        {
          "output_type": "execute_result",
          "data": {
            "text/plain": [
              "tensor([[1, 2, 3],\n",
              "        [1, 2, 3]], device='cuda:0')"
            ]
          },
          "metadata": {},
          "execution_count": 23
        }
      ]
    },
    {
      "cell_type": "code",
      "metadata": {
        "colab": {
          "base_uri": "https://localhost:8080/"
        },
        "id": "21aGuZpAeqrw",
        "outputId": "9c435239-f070-4815-8800-8c4e17c1c8a4"
      },
      "source": [
        "ts.cpu()"
      ],
      "execution_count": null,
      "outputs": [
        {
          "output_type": "execute_result",
          "data": {
            "text/plain": [
              "tensor([[1, 2, 3],\n",
              "        [1, 2, 3]])"
            ]
          },
          "metadata": {},
          "execution_count": 26
        }
      ]
    },
    {
      "cell_type": "code",
      "metadata": {
        "id": "vJVKFykae5FA"
      },
      "source": [
        "train_metadata.storm_id.str.split(\"_\")\n"
      ],
      "execution_count": null,
      "outputs": []
    },
    {
      "cell_type": "code",
      "metadata": {
        "colab": {
          "base_uri": "https://localhost:8080/",
          "height": 205
        },
        "id": "1sf_6Usr-i3J",
        "outputId": "3d5bfe6e-6a4d-4e24-b2a7-cba16d23c7cc"
      },
      "source": [
        "train_metadata.head()"
      ],
      "execution_count": 59,
      "outputs": [
        {
          "output_type": "execute_result",
          "data": {
            "text/html": [
              "<div>\n",
              "<style scoped>\n",
              "    .dataframe tbody tr th:only-of-type {\n",
              "        vertical-align: middle;\n",
              "    }\n",
              "\n",
              "    .dataframe tbody tr th {\n",
              "        vertical-align: top;\n",
              "    }\n",
              "\n",
              "    .dataframe thead th {\n",
              "        text-align: right;\n",
              "    }\n",
              "</style>\n",
              "<table border=\"1\" class=\"dataframe\">\n",
              "  <thead>\n",
              "    <tr style=\"text-align: right;\">\n",
              "      <th></th>\n",
              "      <th>image_id</th>\n",
              "      <th>wind_speed</th>\n",
              "      <th>storm_id</th>\n",
              "      <th>relative_time</th>\n",
              "      <th>ocean</th>\n",
              "    </tr>\n",
              "  </thead>\n",
              "  <tbody>\n",
              "    <tr>\n",
              "      <th>0</th>\n",
              "      <td>abs_000</td>\n",
              "      <td>43</td>\n",
              "      <td>abs</td>\n",
              "      <td>0</td>\n",
              "      <td>2</td>\n",
              "    </tr>\n",
              "    <tr>\n",
              "      <th>1</th>\n",
              "      <td>abs_001</td>\n",
              "      <td>44</td>\n",
              "      <td>abs</td>\n",
              "      <td>1800</td>\n",
              "      <td>2</td>\n",
              "    </tr>\n",
              "    <tr>\n",
              "      <th>2</th>\n",
              "      <td>abs_002</td>\n",
              "      <td>45</td>\n",
              "      <td>abs</td>\n",
              "      <td>5400</td>\n",
              "      <td>2</td>\n",
              "    </tr>\n",
              "    <tr>\n",
              "      <th>3</th>\n",
              "      <td>abs_003</td>\n",
              "      <td>52</td>\n",
              "      <td>abs</td>\n",
              "      <td>17999</td>\n",
              "      <td>2</td>\n",
              "    </tr>\n",
              "    <tr>\n",
              "      <th>4</th>\n",
              "      <td>abs_004</td>\n",
              "      <td>53</td>\n",
              "      <td>abs</td>\n",
              "      <td>19799</td>\n",
              "      <td>2</td>\n",
              "    </tr>\n",
              "  </tbody>\n",
              "</table>\n",
              "</div>"
            ],
            "text/plain": [
              "  image_id  wind_speed storm_id  relative_time  ocean\n",
              "0  abs_000  43          abs      0              2    \n",
              "1  abs_001  44          abs      1800           2    \n",
              "2  abs_002  45          abs      5400           2    \n",
              "3  abs_003  52          abs      17999          2    \n",
              "4  abs_004  53          abs      19799          2    "
            ]
          },
          "metadata": {},
          "execution_count": 59
        }
      ]
    },
    {
      "cell_type": "code",
      "metadata": {
        "id": "gQW0tchE2UDJ"
      },
      "source": [
        "def get_data\n",
        "d = dict()\n",
        "for i in range(0, train_metadata2.shape[0]):\n",
        "  i2 = i-9\n",
        "  i3 = i2-9\n",
        "  if i3 > 0 and i2 > 0:\n",
        "    lis = [train_metadata2.image_path[i3], train_metadata2.image_path[i2], train_metadata2.image_path[i]]\n",
        "    storm_id = train_metadata2.storm_id[i3]\n",
        "    wind_speed = train_metadata2.wind_speed[i3]\n",
        "\n",
        "    if storm_id not in d.keys():\n",
        "      d[storm_id] = {\"image_list\": [(lis, wind_speed)]}\n",
        "    else:\n",
        "      d[storm_id][\"image_list\"].append((lis, wind_speed))\n",
        "      # d[storm_id][\"wind_speed\"].append(wind_speed)\n"
      ],
      "execution_count": 72,
      "outputs": []
    },
    {
      "cell_type": "code",
      "metadata": {
        "colab": {
          "base_uri": "https://localhost:8080/"
        },
        "id": "VLc7sT0X8_Hl",
        "outputId": "f73147dd-631d-4c10-992c-e89637a30223"
      },
      "source": [
        "d[\"abs\"][\"image_list\"][]"
      ],
      "execution_count": 74,
      "outputs": [
        {
          "output_type": "execute_result",
          "data": {
            "text/plain": [
              "(['/content//nasa_tropical_storm_competition_train_source/nasa_tropical_storm_competition_train_source_abs_003/image.jpg',\n",
              "  '/content//nasa_tropical_storm_competition_train_source/nasa_tropical_storm_competition_train_source_abs_013/image.jpg',\n",
              "  '/content//nasa_tropical_storm_competition_train_source/nasa_tropical_storm_competition_train_source_abs_027/image.jpg'],\n",
              " 52)"
            ]
          },
          "metadata": {},
          "execution_count": 74
        }
      ]
    },
    {
      "cell_type": "code",
      "metadata": {
        "id": "XqPYwaHn90im"
      },
      "source": [
        ""
      ],
      "execution_count": null,
      "outputs": []
    }
  ]
}