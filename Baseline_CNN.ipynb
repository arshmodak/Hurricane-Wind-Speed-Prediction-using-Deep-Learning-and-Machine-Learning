{
  "nbformat": 4,
  "nbformat_minor": 0,
  "metadata": {
    "colab": {
      "name": "Baseline_CNN.ipynb",
      "provenance": []
    },
    "kernelspec": {
      "name": "python3",
      "display_name": "Python 3"
    },
    "language_info": {
      "name": "python"
    },
    "accelerator": "GPU"
  },
  "cells": [
    {
      "cell_type": "code",
      "metadata": {
        "id": "SxrvRO0PsQKz"
      },
      "source": [
        "# Import Neccessary Libraries:\n",
        "\n",
        "import numpy as np\n",
        "import pandas as pd\n",
        "import torch\n",
        "from torchvision import datasets, transforms, models\n",
        "import matplotlib.pyplot as plt\n",
        "from torch.utils.data import DataLoader, Dataset\n",
        "from torch import nn\n",
        "import torch.nn.functional as F\n",
        "from torch import optim\n",
        "from tqdm import tqdm\n",
        "import pickle\n",
        "from torch.optim.lr_scheduler import StepLR\n",
        "import time\n",
        "from PIL import Image"
      ],
      "execution_count": null,
      "outputs": []
    },
    {
      "cell_type": "code",
      "metadata": {
        "colab": {
          "base_uri": "https://localhost:8080/"
        },
        "id": "njosZkHIsU1n",
        "outputId": "55578757-f4b5-4168-a98d-a04d8a951642"
      },
      "source": [
        "# To mount drive:\n",
        "from google.colab import drive\n",
        "drive.mount('/content/drive')"
      ],
      "execution_count": null,
      "outputs": [
        {
          "output_type": "stream",
          "name": "stdout",
          "text": [
            "Mounted at /content/drive\n"
          ]
        }
      ]
    },
    {
      "cell_type": "code",
      "metadata": {
        "colab": {
          "base_uri": "https://localhost:8080/"
        },
        "id": "qwesD_cpsU3u",
        "outputId": "fab0a3a9-2ed5-4ffe-b5d9-dcb57bb25d86"
      },
      "source": [
        "# Checking GPU:\n",
        "print(torch.cuda.get_device_name(0))"
      ],
      "execution_count": null,
      "outputs": [
        {
          "output_type": "stream",
          "name": "stdout",
          "text": [
            "Tesla K80\n"
          ]
        }
      ]
    },
    {
      "cell_type": "code",
      "metadata": {
        "id": "_zNadQEFxUmh"
      },
      "source": [
        "# !cp \"/content/drive/MyDrive/DS5500 Data/nasa_tropical_storm_competition_train_source.tar\" -r \"/content/nasa_tropical_storm_competition_train_source.tar\"\n",
        "# !cp \"/content/drive/MyDrive/DS5500 Data/nasa_tropical_storm_competition_test_source.tar\" -r \"/content/nasa_tropical_storm_competition_test_source.tar\""
      ],
      "execution_count": null,
      "outputs": []
    },
    {
      "cell_type": "code",
      "metadata": {
        "id": "B3VOJwmSsU9M"
      },
      "source": [
        "# !tar -xvf \"/content/nasa_tropical_storm_competition_train_source.tar\" -C \"/content/\"\n",
        "# !tar -xvf \"/content/nasa_tropical_storm_competition_test_source.tar\" -C \"/content/\"\n"
      ],
      "execution_count": null,
      "outputs": []
    },
    {
      "cell_type": "code",
      "metadata": {
        "id": "DKP4D61IyVoI"
      },
      "source": [
        "def get_image_paths(data, image_dir, folder_name):\n",
        "    data[\"image_path\"] = image_dir + \"/\" + folder_name + \"_\" + data[\"image_id\"] + \"/\" + \"image.jpg\"\n",
        "    data = data[data.columns[[0, 2, 5, 1, 3, 4]]]\n",
        "    return data"
      ],
      "execution_count": null,
      "outputs": []
    },
    {
      "cell_type": "code",
      "metadata": {
        "id": "wxHjOFjvyd1y"
      },
      "source": [
        "class HurricaneImageDataset(Dataset):\n",
        "\n",
        "    def __init__(self, metadata, transforms):\n",
        "        self.metadata = metadata\n",
        "        self.transforms = transforms\n",
        "\n",
        "    def __len__(self):\n",
        "        return len(self.metadata)\n",
        "\n",
        "    def __getitem__(self, index):\n",
        "        if torch.is_tensor(index):\n",
        "            index = index.tolist()\n",
        "\n",
        "        image_path = self.metadata[\"image_path\"][index]\n",
        "        # hurricane_image = io.imread(image_path)\n",
        "        hurricane_image = Image.open(image_path)\n",
        "        label = self.metadata[\"wind_speed\"][index]\n",
        "\n",
        "        if self.transforms:\n",
        "            hurricane_image = self.transforms(hurricane_image)\n",
        "\n",
        "        return hurricane_image, label"
      ],
      "execution_count": null,
      "outputs": []
    },
    {
      "cell_type": "code",
      "metadata": {
        "id": "uEFKkHAMuAqf"
      },
      "source": [
        "data_dir = \"/content/\"\n",
        "train_metadata = pd.read_csv(\"{}/train.csv\".format(data_dir))\n",
        "test_metadata = pd.read_csv(\"{}/test.csv\".format(data_dir))\n",
        "msk = np.random.rand(len(train_metadata)) < 0.8\n",
        "train_metadata2 = train_metadata[msk].reset_index().drop(\"index\", axis=1)\n",
        "valid_metadata = train_metadata[~msk].reset_index().drop(\"index\", axis=1)\n",
        "\n",
        "train_folder_name = \"nasa_tropical_storm_competition_train_source\"\n",
        "test_folder_name = \"nasa_tropical_storm_competition_test_source\"\n",
        "train_image_dir = \"{}/{}\".format(data_dir, train_folder_name)\n",
        "test_image_dir = \"{}/{}\".format(data_dir, test_folder_name)\n",
        "\n",
        "train_metadata2 = get_image_paths(train_metadata2, train_image_dir, train_folder_name)\n",
        "test_metadata = get_image_paths(test_metadata, test_image_dir, test_folder_name)\n",
        "valid_metadata = get_image_paths(valid_metadata, train_image_dir, train_folder_name)"
      ],
      "execution_count": null,
      "outputs": []
    },
    {
      "cell_type": "code",
      "metadata": {
        "colab": {
          "base_uri": "https://localhost:8080/",
          "height": 419
        },
        "id": "rPMWG4LBzM-T",
        "outputId": "4af8f4e1-f5f5-454a-a36f-801bbf6889ae"
      },
      "source": [
        "valid_metadata"
      ],
      "execution_count": null,
      "outputs": [
        {
          "output_type": "execute_result",
          "data": {
            "text/html": [
              "<div>\n",
              "<style scoped>\n",
              "    .dataframe tbody tr th:only-of-type {\n",
              "        vertical-align: middle;\n",
              "    }\n",
              "\n",
              "    .dataframe tbody tr th {\n",
              "        vertical-align: top;\n",
              "    }\n",
              "\n",
              "    .dataframe thead th {\n",
              "        text-align: right;\n",
              "    }\n",
              "</style>\n",
              "<table border=\"1\" class=\"dataframe\">\n",
              "  <thead>\n",
              "    <tr style=\"text-align: right;\">\n",
              "      <th></th>\n",
              "      <th>image_id</th>\n",
              "      <th>storm_id</th>\n",
              "      <th>image_path</th>\n",
              "      <th>wind_speed</th>\n",
              "      <th>relative_time</th>\n",
              "      <th>ocean</th>\n",
              "    </tr>\n",
              "  </thead>\n",
              "  <tbody>\n",
              "    <tr>\n",
              "      <th>0</th>\n",
              "      <td>abs_001</td>\n",
              "      <td>abs</td>\n",
              "      <td>/content//nasa_tropical_storm_competition_trai...</td>\n",
              "      <td>44</td>\n",
              "      <td>1800</td>\n",
              "      <td>2</td>\n",
              "    </tr>\n",
              "    <tr>\n",
              "      <th>1</th>\n",
              "      <td>abs_002</td>\n",
              "      <td>abs</td>\n",
              "      <td>/content//nasa_tropical_storm_competition_trai...</td>\n",
              "      <td>45</td>\n",
              "      <td>5400</td>\n",
              "      <td>2</td>\n",
              "    </tr>\n",
              "    <tr>\n",
              "      <th>2</th>\n",
              "      <td>abs_012</td>\n",
              "      <td>abs</td>\n",
              "      <td>/content//nasa_tropical_storm_competition_trai...</td>\n",
              "      <td>65</td>\n",
              "      <td>48599</td>\n",
              "      <td>2</td>\n",
              "    </tr>\n",
              "    <tr>\n",
              "      <th>3</th>\n",
              "      <td>abs_020</td>\n",
              "      <td>abs</td>\n",
              "      <td>/content//nasa_tropical_storm_competition_trai...</td>\n",
              "      <td>64</td>\n",
              "      <td>64800</td>\n",
              "      <td>2</td>\n",
              "    </tr>\n",
              "    <tr>\n",
              "      <th>4</th>\n",
              "      <td>abs_024</td>\n",
              "      <td>abs</td>\n",
              "      <td>/content//nasa_tropical_storm_competition_trai...</td>\n",
              "      <td>61</td>\n",
              "      <td>73800</td>\n",
              "      <td>2</td>\n",
              "    </tr>\n",
              "    <tr>\n",
              "      <th>...</th>\n",
              "      <td>...</td>\n",
              "      <td>...</td>\n",
              "      <td>...</td>\n",
              "      <td>...</td>\n",
              "      <td>...</td>\n",
              "      <td>...</td>\n",
              "    </tr>\n",
              "    <tr>\n",
              "      <th>14181</th>\n",
              "      <td>zzp_190</td>\n",
              "      <td>zzp</td>\n",
              "      <td>/content//nasa_tropical_storm_competition_trai...</td>\n",
              "      <td>87</td>\n",
              "      <td>491399</td>\n",
              "      <td>1</td>\n",
              "    </tr>\n",
              "    <tr>\n",
              "      <th>14182</th>\n",
              "      <td>zzp_193</td>\n",
              "      <td>zzp</td>\n",
              "      <td>/content//nasa_tropical_storm_competition_trai...</td>\n",
              "      <td>85</td>\n",
              "      <td>498599</td>\n",
              "      <td>1</td>\n",
              "    </tr>\n",
              "    <tr>\n",
              "      <th>14183</th>\n",
              "      <td>zzp_199</td>\n",
              "      <td>zzp</td>\n",
              "      <td>/content//nasa_tropical_storm_competition_trai...</td>\n",
              "      <td>85</td>\n",
              "      <td>511200</td>\n",
              "      <td>1</td>\n",
              "    </tr>\n",
              "    <tr>\n",
              "      <th>14184</th>\n",
              "      <td>zzp_202</td>\n",
              "      <td>zzp</td>\n",
              "      <td>/content//nasa_tropical_storm_competition_trai...</td>\n",
              "      <td>85</td>\n",
              "      <td>518400</td>\n",
              "      <td>1</td>\n",
              "    </tr>\n",
              "    <tr>\n",
              "      <th>14185</th>\n",
              "      <td>zzp_211</td>\n",
              "      <td>zzp</td>\n",
              "      <td>/content//nasa_tropical_storm_competition_trai...</td>\n",
              "      <td>79</td>\n",
              "      <td>543600</td>\n",
              "      <td>1</td>\n",
              "    </tr>\n",
              "  </tbody>\n",
              "</table>\n",
              "<p>14186 rows × 6 columns</p>\n",
              "</div>"
            ],
            "text/plain": [
              "      image_id storm_id  ... relative_time  ocean\n",
              "0      abs_001      abs  ...          1800      2\n",
              "1      abs_002      abs  ...          5400      2\n",
              "2      abs_012      abs  ...         48599      2\n",
              "3      abs_020      abs  ...         64800      2\n",
              "4      abs_024      abs  ...         73800      2\n",
              "...        ...      ...  ...           ...    ...\n",
              "14181  zzp_190      zzp  ...        491399      1\n",
              "14182  zzp_193      zzp  ...        498599      1\n",
              "14183  zzp_199      zzp  ...        511200      1\n",
              "14184  zzp_202      zzp  ...        518400      1\n",
              "14185  zzp_211      zzp  ...        543600      1\n",
              "\n",
              "[14186 rows x 6 columns]"
            ]
          },
          "metadata": {},
          "execution_count": 125
        }
      ]
    },
    {
      "cell_type": "code",
      "metadata": {
        "colab": {
          "base_uri": "https://localhost:8080/",
          "height": 419
        },
        "id": "D9BE4mP7zRdS",
        "outputId": "ae506039-49b3-414f-d032-66df9f842d75"
      },
      "source": [
        "train_metadata2[[\"image_id\", \"image_path\"]]"
      ],
      "execution_count": null,
      "outputs": [
        {
          "output_type": "execute_result",
          "data": {
            "text/html": [
              "<div>\n",
              "<style scoped>\n",
              "    .dataframe tbody tr th:only-of-type {\n",
              "        vertical-align: middle;\n",
              "    }\n",
              "\n",
              "    .dataframe tbody tr th {\n",
              "        vertical-align: top;\n",
              "    }\n",
              "\n",
              "    .dataframe thead th {\n",
              "        text-align: right;\n",
              "    }\n",
              "</style>\n",
              "<table border=\"1\" class=\"dataframe\">\n",
              "  <thead>\n",
              "    <tr style=\"text-align: right;\">\n",
              "      <th></th>\n",
              "      <th>image_id</th>\n",
              "      <th>image_path</th>\n",
              "    </tr>\n",
              "  </thead>\n",
              "  <tbody>\n",
              "    <tr>\n",
              "      <th>0</th>\n",
              "      <td>abs_000</td>\n",
              "      <td>/content//nasa_tropical_storm_competition_trai...</td>\n",
              "    </tr>\n",
              "    <tr>\n",
              "      <th>1</th>\n",
              "      <td>abs_003</td>\n",
              "      <td>/content//nasa_tropical_storm_competition_trai...</td>\n",
              "    </tr>\n",
              "    <tr>\n",
              "      <th>2</th>\n",
              "      <td>abs_004</td>\n",
              "      <td>/content//nasa_tropical_storm_competition_trai...</td>\n",
              "    </tr>\n",
              "    <tr>\n",
              "      <th>3</th>\n",
              "      <td>abs_005</td>\n",
              "      <td>/content//nasa_tropical_storm_competition_trai...</td>\n",
              "    </tr>\n",
              "    <tr>\n",
              "      <th>4</th>\n",
              "      <td>abs_006</td>\n",
              "      <td>/content//nasa_tropical_storm_competition_trai...</td>\n",
              "    </tr>\n",
              "    <tr>\n",
              "      <th>...</th>\n",
              "      <td>...</td>\n",
              "      <td>...</td>\n",
              "    </tr>\n",
              "    <tr>\n",
              "      <th>56066</th>\n",
              "      <td>zzp_221</td>\n",
              "      <td>/content//nasa_tropical_storm_competition_trai...</td>\n",
              "    </tr>\n",
              "    <tr>\n",
              "      <th>56067</th>\n",
              "      <td>zzp_222</td>\n",
              "      <td>/content//nasa_tropical_storm_competition_trai...</td>\n",
              "    </tr>\n",
              "    <tr>\n",
              "      <th>56068</th>\n",
              "      <td>zzp_223</td>\n",
              "      <td>/content//nasa_tropical_storm_competition_trai...</td>\n",
              "    </tr>\n",
              "    <tr>\n",
              "      <th>56069</th>\n",
              "      <td>zzp_224</td>\n",
              "      <td>/content//nasa_tropical_storm_competition_trai...</td>\n",
              "    </tr>\n",
              "    <tr>\n",
              "      <th>56070</th>\n",
              "      <td>zzp_225</td>\n",
              "      <td>/content//nasa_tropical_storm_competition_trai...</td>\n",
              "    </tr>\n",
              "  </tbody>\n",
              "</table>\n",
              "<p>56071 rows × 2 columns</p>\n",
              "</div>"
            ],
            "text/plain": [
              "      image_id                                         image_path\n",
              "0      abs_000  /content//nasa_tropical_storm_competition_trai...\n",
              "1      abs_003  /content//nasa_tropical_storm_competition_trai...\n",
              "2      abs_004  /content//nasa_tropical_storm_competition_trai...\n",
              "3      abs_005  /content//nasa_tropical_storm_competition_trai...\n",
              "4      abs_006  /content//nasa_tropical_storm_competition_trai...\n",
              "...        ...                                                ...\n",
              "56066  zzp_221  /content//nasa_tropical_storm_competition_trai...\n",
              "56067  zzp_222  /content//nasa_tropical_storm_competition_trai...\n",
              "56068  zzp_223  /content//nasa_tropical_storm_competition_trai...\n",
              "56069  zzp_224  /content//nasa_tropical_storm_competition_trai...\n",
              "56070  zzp_225  /content//nasa_tropical_storm_competition_trai...\n",
              "\n",
              "[56071 rows x 2 columns]"
            ]
          },
          "metadata": {},
          "execution_count": 126
        }
      ]
    },
    {
      "cell_type": "code",
      "metadata": {
        "id": "RC-LCxx_yXqz"
      },
      "source": [
        "transform = transforms.Compose([\n",
        "        # transforms.RandomResizedCrop(224),\n",
        "        transforms.Resize((224,224)),\n",
        "        transforms.Grayscale(num_output_channels=1),\n",
        "        # transforms.RandomHorizontalFlip(),\n",
        "        transforms.ToTensor(),\n",
        "        # transforms.Normalize([0.5], [0.5])\n",
        "])"
      ],
      "execution_count": null,
      "outputs": []
    },
    {
      "cell_type": "code",
      "metadata": {
        "id": "FxKjeDbKyiE3"
      },
      "source": [
        "trainset = HurricaneImageDataset(train_metadata2, transform)\n",
        "testset = HurricaneImageDataset(test_metadata, transform)\n",
        "validset = HurricaneImageDataset(valid_metadata, transform)\n",
        "\n",
        "trainloader = DataLoader(trainset, batch_size=512, shuffle=True)\n",
        "testloader = DataLoader(testset, batch_size=512, shuffle=True)\n",
        "validloader = DataLoader(validset, batch_size=512, shuffle=True)"
      ],
      "execution_count": null,
      "outputs": []
    },
    {
      "cell_type": "code",
      "metadata": {
        "id": "SsJ_r0xTyk-7"
      },
      "source": [
        "class BaselineCNN(nn.Module):\n",
        "    def __init__(self):\n",
        "        super(BaselineCNN, self).__init__()\n",
        "        # convolutional layer\n",
        "        self.conv1 = nn.Conv2d(1, 16, 5, stride=1, padding=2)\n",
        "        self.conv2 = nn.Conv2d(16, 32, 5, stride=1, padding=2)\n",
        "        self.conv3 = nn.Conv2d(32, 64, 5, stride=1, padding=2)\n",
        "        self.conv4 = nn.Conv2d(64, 128, 5, stride=1, padding=2)\n",
        "        # max pooling layer\n",
        "        self.pool = nn.MaxPool2d(2, 2)\n",
        "        self.fc1 = nn.Linear(128*14*14, 32)\n",
        "        self.output = nn.Linear(32, 1)\n",
        "        self.dropout = nn.Dropout(0.25)\n",
        "\n",
        "    def forward(self, x):\n",
        "        # add sequence of convolutional and max pooling layers\n",
        "        x = self.pool(F.relu(self.conv1(x)))\n",
        "        x = self.pool(F.relu(self.conv2(x)))\n",
        "        x = self.pool(F.relu(self.conv3(x)))\n",
        "        x = self.pool(F.relu(self.conv4(x)))\n",
        "        x = x.view(x.size(0), -1)\n",
        "        x = self.dropout(x)\n",
        "        x = F.relu(self.fc1(x))\n",
        "        x = self.dropout(x)\n",
        "        x = self.output(x)\n",
        "\n",
        "        return x"
      ],
      "execution_count": null,
      "outputs": []
    },
    {
      "cell_type": "code",
      "metadata": {
        "colab": {
          "base_uri": "https://localhost:8080/"
        },
        "id": "16CIvh7DyyWf",
        "outputId": "d741e7c7-1cf4-4f0d-e92c-d5264441e3e6"
      },
      "source": [
        "model = BaselineCNN()\n",
        "model.cuda()\n",
        "print(model)"
      ],
      "execution_count": null,
      "outputs": [
        {
          "output_type": "stream",
          "name": "stdout",
          "text": [
            "BaselineCNN(\n",
            "  (conv1): Conv2d(1, 16, kernel_size=(5, 5), stride=(1, 1), padding=(2, 2))\n",
            "  (conv2): Conv2d(16, 32, kernel_size=(5, 5), stride=(1, 1), padding=(2, 2))\n",
            "  (conv3): Conv2d(32, 64, kernel_size=(5, 5), stride=(1, 1), padding=(2, 2))\n",
            "  (conv4): Conv2d(64, 128, kernel_size=(5, 5), stride=(1, 1), padding=(2, 2))\n",
            "  (pool): MaxPool2d(kernel_size=2, stride=2, padding=0, dilation=1, ceil_mode=False)\n",
            "  (fc1): Linear(in_features=25088, out_features=32, bias=True)\n",
            "  (output): Linear(in_features=32, out_features=1, bias=True)\n",
            "  (dropout): Dropout(p=0.25, inplace=False)\n",
            ")\n"
          ]
        }
      ]
    },
    {
      "cell_type": "code",
      "metadata": {
        "colab": {
          "base_uri": "https://localhost:8080/"
        },
        "id": "gNpbZW-uy0ze",
        "outputId": "a6dd6407-14a1-433b-aa6c-535cfa1977c4"
      },
      "source": [
        "from torchsummary import summary\n",
        "summary(model.cuda(), (1, 224, 224))"
      ],
      "execution_count": null,
      "outputs": [
        {
          "output_type": "stream",
          "name": "stdout",
          "text": [
            "----------------------------------------------------------------\n",
            "        Layer (type)               Output Shape         Param #\n",
            "================================================================\n",
            "            Conv2d-1         [-1, 16, 224, 224]             416\n",
            "         MaxPool2d-2         [-1, 16, 112, 112]               0\n",
            "            Conv2d-3         [-1, 32, 112, 112]          12,832\n",
            "         MaxPool2d-4           [-1, 32, 56, 56]               0\n",
            "            Conv2d-5           [-1, 64, 56, 56]          51,264\n",
            "         MaxPool2d-6           [-1, 64, 28, 28]               0\n",
            "            Conv2d-7          [-1, 128, 28, 28]         204,928\n",
            "         MaxPool2d-8          [-1, 128, 14, 14]               0\n",
            "           Dropout-9                [-1, 25088]               0\n",
            "           Linear-10                   [-1, 32]         802,848\n",
            "          Dropout-11                   [-1, 32]               0\n",
            "           Linear-12                    [-1, 1]              33\n",
            "================================================================\n",
            "Total params: 1,072,321\n",
            "Trainable params: 1,072,321\n",
            "Non-trainable params: 0\n",
            "----------------------------------------------------------------\n",
            "Input size (MB): 0.19\n",
            "Forward/backward pass size (MB): 14.55\n",
            "Params size (MB): 4.09\n",
            "Estimated Total Size (MB): 18.83\n",
            "----------------------------------------------------------------\n"
          ]
        }
      ]
    },
    {
      "cell_type": "code",
      "metadata": {
        "id": "ISEN55LAy2nR"
      },
      "source": [
        "# loss function\n",
        "criterion = nn.MSELoss()\n",
        "\n",
        "# optimizer\n",
        "optimizer = optim.Adam(model.parameters(), lr = 0.001)"
      ],
      "execution_count": null,
      "outputs": []
    },
    {
      "cell_type": "code",
      "metadata": {
        "colab": {
          "base_uri": "https://localhost:8080/",
          "height": 391
        },
        "id": "IrNW8GGO0KfS",
        "outputId": "d0cb9999-f65a-4bea-fa32-328a57eb52ed"
      },
      "source": [
        "n_epochs = 50  \n",
        "valid_loss_min = np.Inf\n",
        "losses = {\"train_loss\": [], \"test_loss\": []}\n",
        "\n",
        "for epoch in range(1, n_epochs + 1):\n",
        "  # print(\"Epoch: {}\".format(epoch))\n",
        "  train_loss = 0.0\n",
        "  valid_loss = 0.0\n",
        "  model.train()\n",
        "  for data, target in trainloader:\n",
        "      data, target = data.cuda(), target.cuda()\n",
        "      target = target.float().unsqueeze(1)\n",
        "      optimizer.zero_grad()\n",
        "      output = model(data)\n",
        "      # print(\"Size: {}\".format(output.size()))\n",
        "      loss = criterion(output, target)\n",
        "      loss.backward()\n",
        "      optimizer.step()\n",
        "      train_loss += loss.item() * data.size(0)\n",
        "\n",
        "  model.eval()\n",
        "  for data, target in validloader:\n",
        "      data, target = data.cuda(), target.cuda()\n",
        "      target = target.float().unsqueeze(1)\n",
        "      output = model(data)\n",
        "      loss = criterion(output, target)\n",
        "      valid_loss += loss.item() * data.size(0)\n",
        "\n",
        "  train_loss = train_loss / len(trainloader.dataset)\n",
        "  losses[\"train_loss\"].append(train_loss)\n",
        "  valid_loss = valid_loss / len(validloader.dataset)\n",
        "  losses[\"test_loss\"].append(valid_loss)\n",
        "\n",
        "  print('Epoch: {} \\tTraining Loss: {:.6f} \\tValidation Loss: {:.6f}'.format(\n",
        "      epoch, train_loss, valid_loss))\n",
        "\n",
        "  if valid_loss <= valid_loss_min:\n",
        "      print('Validation loss decreased ({:.6f} --> {:.6f}).  Saving model ...'.format(\n",
        "          valid_loss_min,\n",
        "          valid_loss))\n",
        "      torch.save(model.state_dict(), \"/content/drive/MyDrive/DS5500 Data/baselineCNN_best_model.pt\")\n",
        "      valid_loss_min = valid_loss"
      ],
      "execution_count": null,
      "outputs": [
        {
          "output_type": "error",
          "ename": "RuntimeError",
          "evalue": "ignored",
          "traceback": [
            "\u001b[0;31m---------------------------------------------------------------------------\u001b[0m",
            "\u001b[0;31mRuntimeError\u001b[0m                              Traceback (most recent call last)",
            "\u001b[0;32m<ipython-input-133-4ceed02854ee>\u001b[0m in \u001b[0;36m<module>\u001b[0;34m()\u001b[0m\n\u001b[1;32m     23\u001b[0m       \u001b[0mdata\u001b[0m\u001b[0;34m,\u001b[0m \u001b[0mtarget\u001b[0m \u001b[0;34m=\u001b[0m \u001b[0mdata\u001b[0m\u001b[0;34m.\u001b[0m\u001b[0mcuda\u001b[0m\u001b[0;34m(\u001b[0m\u001b[0;34m)\u001b[0m\u001b[0;34m,\u001b[0m \u001b[0mtarget\u001b[0m\u001b[0;34m.\u001b[0m\u001b[0mcuda\u001b[0m\u001b[0;34m(\u001b[0m\u001b[0;34m)\u001b[0m\u001b[0;34m\u001b[0m\u001b[0;34m\u001b[0m\u001b[0m\n\u001b[1;32m     24\u001b[0m       \u001b[0mtarget\u001b[0m \u001b[0;34m=\u001b[0m \u001b[0mtarget\u001b[0m\u001b[0;34m.\u001b[0m\u001b[0mfloat\u001b[0m\u001b[0;34m(\u001b[0m\u001b[0;34m)\u001b[0m\u001b[0;34m.\u001b[0m\u001b[0munsqueeze\u001b[0m\u001b[0;34m(\u001b[0m\u001b[0;36m1\u001b[0m\u001b[0;34m)\u001b[0m\u001b[0;34m\u001b[0m\u001b[0;34m\u001b[0m\u001b[0m\n\u001b[0;32m---> 25\u001b[0;31m       \u001b[0moutput\u001b[0m \u001b[0;34m=\u001b[0m \u001b[0mmodel\u001b[0m\u001b[0;34m(\u001b[0m\u001b[0mdata\u001b[0m\u001b[0;34m)\u001b[0m\u001b[0;34m\u001b[0m\u001b[0;34m\u001b[0m\u001b[0m\n\u001b[0m\u001b[1;32m     26\u001b[0m       \u001b[0mloss\u001b[0m \u001b[0;34m=\u001b[0m \u001b[0mcriterion\u001b[0m\u001b[0;34m(\u001b[0m\u001b[0moutput\u001b[0m\u001b[0;34m,\u001b[0m \u001b[0mtarget\u001b[0m\u001b[0;34m)\u001b[0m\u001b[0;34m\u001b[0m\u001b[0;34m\u001b[0m\u001b[0m\n\u001b[1;32m     27\u001b[0m       \u001b[0mvalid_loss\u001b[0m \u001b[0;34m+=\u001b[0m \u001b[0mloss\u001b[0m\u001b[0;34m.\u001b[0m\u001b[0mitem\u001b[0m\u001b[0;34m(\u001b[0m\u001b[0;34m)\u001b[0m \u001b[0;34m*\u001b[0m \u001b[0mdata\u001b[0m\u001b[0;34m.\u001b[0m\u001b[0msize\u001b[0m\u001b[0;34m(\u001b[0m\u001b[0;36m0\u001b[0m\u001b[0;34m)\u001b[0m\u001b[0;34m\u001b[0m\u001b[0;34m\u001b[0m\u001b[0m\n",
            "\u001b[0;32m/usr/local/lib/python3.7/dist-packages/torch/nn/modules/module.py\u001b[0m in \u001b[0;36m_call_impl\u001b[0;34m(self, *input, **kwargs)\u001b[0m\n\u001b[1;32m   1049\u001b[0m         if not (self._backward_hooks or self._forward_hooks or self._forward_pre_hooks or _global_backward_hooks\n\u001b[1;32m   1050\u001b[0m                 or _global_forward_hooks or _global_forward_pre_hooks):\n\u001b[0;32m-> 1051\u001b[0;31m             \u001b[0;32mreturn\u001b[0m \u001b[0mforward_call\u001b[0m\u001b[0;34m(\u001b[0m\u001b[0;34m*\u001b[0m\u001b[0minput\u001b[0m\u001b[0;34m,\u001b[0m \u001b[0;34m**\u001b[0m\u001b[0mkwargs\u001b[0m\u001b[0;34m)\u001b[0m\u001b[0;34m\u001b[0m\u001b[0;34m\u001b[0m\u001b[0m\n\u001b[0m\u001b[1;32m   1052\u001b[0m         \u001b[0;31m# Do not call functions when jit is used\u001b[0m\u001b[0;34m\u001b[0m\u001b[0;34m\u001b[0m\u001b[0;34m\u001b[0m\u001b[0m\n\u001b[1;32m   1053\u001b[0m         \u001b[0mfull_backward_hooks\u001b[0m\u001b[0;34m,\u001b[0m \u001b[0mnon_full_backward_hooks\u001b[0m \u001b[0;34m=\u001b[0m \u001b[0;34m[\u001b[0m\u001b[0;34m]\u001b[0m\u001b[0;34m,\u001b[0m \u001b[0;34m[\u001b[0m\u001b[0;34m]\u001b[0m\u001b[0;34m\u001b[0m\u001b[0;34m\u001b[0m\u001b[0m\n",
            "\u001b[0;32m<ipython-input-129-06cfe27283ab>\u001b[0m in \u001b[0;36mforward\u001b[0;34m(self, x)\u001b[0m\n\u001b[1;32m     15\u001b[0m     \u001b[0;32mdef\u001b[0m \u001b[0mforward\u001b[0m\u001b[0;34m(\u001b[0m\u001b[0mself\u001b[0m\u001b[0;34m,\u001b[0m \u001b[0mx\u001b[0m\u001b[0;34m)\u001b[0m\u001b[0;34m:\u001b[0m\u001b[0;34m\u001b[0m\u001b[0;34m\u001b[0m\u001b[0m\n\u001b[1;32m     16\u001b[0m         \u001b[0;31m# add sequence of convolutional and max pooling layers\u001b[0m\u001b[0;34m\u001b[0m\u001b[0;34m\u001b[0m\u001b[0;34m\u001b[0m\u001b[0m\n\u001b[0;32m---> 17\u001b[0;31m         \u001b[0mx\u001b[0m \u001b[0;34m=\u001b[0m \u001b[0mself\u001b[0m\u001b[0;34m.\u001b[0m\u001b[0mpool\u001b[0m\u001b[0;34m(\u001b[0m\u001b[0mF\u001b[0m\u001b[0;34m.\u001b[0m\u001b[0mrelu\u001b[0m\u001b[0;34m(\u001b[0m\u001b[0mself\u001b[0m\u001b[0;34m.\u001b[0m\u001b[0mconv1\u001b[0m\u001b[0;34m(\u001b[0m\u001b[0mx\u001b[0m\u001b[0;34m)\u001b[0m\u001b[0;34m)\u001b[0m\u001b[0;34m)\u001b[0m\u001b[0;34m\u001b[0m\u001b[0;34m\u001b[0m\u001b[0m\n\u001b[0m\u001b[1;32m     18\u001b[0m         \u001b[0mx\u001b[0m \u001b[0;34m=\u001b[0m \u001b[0mself\u001b[0m\u001b[0;34m.\u001b[0m\u001b[0mpool\u001b[0m\u001b[0;34m(\u001b[0m\u001b[0mF\u001b[0m\u001b[0;34m.\u001b[0m\u001b[0mrelu\u001b[0m\u001b[0;34m(\u001b[0m\u001b[0mself\u001b[0m\u001b[0;34m.\u001b[0m\u001b[0mconv2\u001b[0m\u001b[0;34m(\u001b[0m\u001b[0mx\u001b[0m\u001b[0;34m)\u001b[0m\u001b[0;34m)\u001b[0m\u001b[0;34m)\u001b[0m\u001b[0;34m\u001b[0m\u001b[0;34m\u001b[0m\u001b[0m\n\u001b[1;32m     19\u001b[0m         \u001b[0mx\u001b[0m \u001b[0;34m=\u001b[0m \u001b[0mself\u001b[0m\u001b[0;34m.\u001b[0m\u001b[0mpool\u001b[0m\u001b[0;34m(\u001b[0m\u001b[0mF\u001b[0m\u001b[0;34m.\u001b[0m\u001b[0mrelu\u001b[0m\u001b[0;34m(\u001b[0m\u001b[0mself\u001b[0m\u001b[0;34m.\u001b[0m\u001b[0mconv3\u001b[0m\u001b[0;34m(\u001b[0m\u001b[0mx\u001b[0m\u001b[0;34m)\u001b[0m\u001b[0;34m)\u001b[0m\u001b[0;34m)\u001b[0m\u001b[0;34m\u001b[0m\u001b[0;34m\u001b[0m\u001b[0m\n",
            "\u001b[0;32m/usr/local/lib/python3.7/dist-packages/torch/nn/functional.py\u001b[0m in \u001b[0;36mrelu\u001b[0;34m(input, inplace)\u001b[0m\n\u001b[1;32m   1296\u001b[0m         \u001b[0mresult\u001b[0m \u001b[0;34m=\u001b[0m \u001b[0mtorch\u001b[0m\u001b[0;34m.\u001b[0m\u001b[0mrelu_\u001b[0m\u001b[0;34m(\u001b[0m\u001b[0minput\u001b[0m\u001b[0;34m)\u001b[0m\u001b[0;34m\u001b[0m\u001b[0;34m\u001b[0m\u001b[0m\n\u001b[1;32m   1297\u001b[0m     \u001b[0;32melse\u001b[0m\u001b[0;34m:\u001b[0m\u001b[0;34m\u001b[0m\u001b[0;34m\u001b[0m\u001b[0m\n\u001b[0;32m-> 1298\u001b[0;31m         \u001b[0mresult\u001b[0m \u001b[0;34m=\u001b[0m \u001b[0mtorch\u001b[0m\u001b[0;34m.\u001b[0m\u001b[0mrelu\u001b[0m\u001b[0;34m(\u001b[0m\u001b[0minput\u001b[0m\u001b[0;34m)\u001b[0m\u001b[0;34m\u001b[0m\u001b[0;34m\u001b[0m\u001b[0m\n\u001b[0m\u001b[1;32m   1299\u001b[0m     \u001b[0;32mreturn\u001b[0m \u001b[0mresult\u001b[0m\u001b[0;34m\u001b[0m\u001b[0;34m\u001b[0m\u001b[0m\n\u001b[1;32m   1300\u001b[0m \u001b[0;34m\u001b[0m\u001b[0m\n",
            "\u001b[0;31mRuntimeError\u001b[0m: CUDA out of memory. Tried to allocate 1.53 GiB (GPU 0; 11.17 GiB total capacity; 9.63 GiB already allocated; 715.81 MiB free; 9.96 GiB reserved in total by PyTorch)"
          ]
        }
      ]
    },
    {
      "cell_type": "code",
      "metadata": {
        "id": "kUeQ9YAn3n0G"
      },
      "source": [
        "with open(\"/content/drive/MyDrive/DS5500 Data/baseline_losses.pkl\", \"wb\") as f:\n",
        "  pickle.dump(losses, f)"
      ],
      "execution_count": null,
      "outputs": []
    },
    {
      "cell_type": "code",
      "metadata": {
        "id": "f-UQXPhc06Cr"
      },
      "source": [
        "losses"
      ],
      "execution_count": null,
      "outputs": []
    },
    {
      "cell_type": "code",
      "metadata": {
        "id": "WJiKynza6Cl9"
      },
      "source": [
        ""
      ],
      "execution_count": null,
      "outputs": []
    }
  ]
}