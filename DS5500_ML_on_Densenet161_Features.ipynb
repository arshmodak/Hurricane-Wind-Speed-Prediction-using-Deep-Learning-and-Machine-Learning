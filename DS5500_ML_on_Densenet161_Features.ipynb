{
 "cells": [
  {
   "cell_type": "code",
   "execution_count": 1,
   "metadata": {},
   "outputs": [],
   "source": [
    "import numpy as np\n",
    "import pandas as pd\n",
    "import matplotlib.pyplot as plt\n",
    "from tqdm import tqdm\n",
    "import pickle\n",
    "import time\n",
    "import seaborn as sns\n",
    "\n",
    "pd.set_option('display.max_colwidth', 3000)\n",
    "pd.set_option(\"display.max_rows\", 100000)"
   ]
  },
  {
   "cell_type": "code",
   "execution_count": 2,
   "metadata": {},
   "outputs": [],
   "source": [
    "from sklearn.linear_model import LinearRegression\n",
    "from sklearn.linear_model import Ridge\n",
    "from sklearn.linear_model import ElasticNet\n",
    "from sklearn.linear_model import Lasso\n",
    "from sklearn.tree import DecisionTreeRegressor\n",
    "from sklearn.ensemble import RandomForestRegressor"
   ]
  },
  {
   "cell_type": "code",
   "execution_count": 5,
   "metadata": {},
   "outputs": [],
   "source": [
    "from sklearn.metrics import mean_squared_error\n",
    "from sklearn.metrics import mean_absolute_error\n",
    "from sklearn.metrics import r2_score"
   ]
  },
  {
   "cell_type": "code",
   "execution_count": 6,
   "metadata": {},
   "outputs": [],
   "source": [
    "def model_evaluator(y_truth, y_preds):\n",
    "    mse = mean_squared_error(y_truth, y_preds)\n",
    "    rmse = np.sqrt(mse)\n",
    "    mae = mean_absolute_error(y_truth, y_preds)\n",
    "    r2 = r2_score(y_truth, y_preds)\n",
    "    \n",
    "    print(\"Mean Squared Error: {:.3f}\".format(mse))\n",
    "    print(\"Root Mean Squared Error: {:.3f}\".format(rmse))\n",
    "    print(\"Mean Absolute Error: {:.3f}\".format(mae))\n",
    "    print(\"R-Squared Score: {:.3f}\".format(r2))\n",
    "    \n",
    "    return mse, rmse, mae, r2"
   ]
  },
  {
   "cell_type": "code",
   "execution_count": 7,
   "metadata": {},
   "outputs": [],
   "source": [
    "def save_model(model, filepath):\n",
    "    with open(filepath, \"wb\") as f:\n",
    "        pickle.dump(model, f)\n",
    "        \n",
    "def load_model(filepath):\n",
    "    with open(filepath, \"rb\") as f:\n",
    "        return pickle.load(f)"
   ]
  },
  {
   "cell_type": "code",
   "execution_count": 8,
   "metadata": {},
   "outputs": [
    {
     "name": "stdout",
     "output_type": "stream",
     "text": [
      "Reading Features Data from Disk...\n",
      "Done!\n"
     ]
    }
   ],
   "source": [
    "print(\"Reading Features Data from Disk...\")\n",
    "_dir = r\"E:\\ARSH\\NEU\\Fall 2021\\DS 5500\\Project\\Data\\Features_From_CNN\"\n",
    "test_filepath = r\"{}\\df_test_densenet161_hurricane_features.csv\".format(_dir)\n",
    "train_filepath = r\"{}\\df_train_densenet161_hurricane_features.csv\".format(_dir)\n",
    "train_df = pd.read_csv(train_filepath, index_col=0)\n",
    "test_df = pd.read_csv(test_filepath, index_col=0)\n",
    "print(\"Done!\")"
   ]
  },
  {
   "cell_type": "code",
   "execution_count": 9,
   "metadata": {},
   "outputs": [
    {
     "name": "stdout",
     "output_type": "stream",
     "text": [
      "(61637, 2355) (37913, 2355)\n"
     ]
    }
   ],
   "source": [
    "print(train_df.shape, test_df.shape)"
   ]
  },
  {
   "cell_type": "code",
   "execution_count": 10,
   "metadata": {},
   "outputs": [
    {
     "data": {
      "text/html": [
       "<div>\n",
       "<style scoped>\n",
       "    .dataframe tbody tr th:only-of-type {\n",
       "        vertical-align: middle;\n",
       "    }\n",
       "\n",
       "    .dataframe tbody tr th {\n",
       "        vertical-align: top;\n",
       "    }\n",
       "\n",
       "    .dataframe thead th {\n",
       "        text-align: right;\n",
       "    }\n",
       "</style>\n",
       "<table border=\"1\" class=\"dataframe\">\n",
       "  <thead>\n",
       "    <tr style=\"text-align: right;\">\n",
       "      <th></th>\n",
       "      <th>0</th>\n",
       "      <th>1</th>\n",
       "      <th>2</th>\n",
       "      <th>3</th>\n",
       "      <th>4</th>\n",
       "      <th>5</th>\n",
       "      <th>6</th>\n",
       "      <th>7</th>\n",
       "      <th>8</th>\n",
       "      <th>9</th>\n",
       "      <th>...</th>\n",
       "      <th>2345</th>\n",
       "      <th>2346</th>\n",
       "      <th>2347</th>\n",
       "      <th>2348</th>\n",
       "      <th>2349</th>\n",
       "      <th>2350</th>\n",
       "      <th>2351</th>\n",
       "      <th>storm_id</th>\n",
       "      <th>image_list</th>\n",
       "      <th>wind_speed</th>\n",
       "    </tr>\n",
       "  </thead>\n",
       "  <tbody>\n",
       "    <tr>\n",
       "      <th>0</th>\n",
       "      <td>-0.003550</td>\n",
       "      <td>-0.007286</td>\n",
       "      <td>-0.009102</td>\n",
       "      <td>-0.009400</td>\n",
       "      <td>-0.002762</td>\n",
       "      <td>-0.002491</td>\n",
       "      <td>0.001555</td>\n",
       "      <td>-0.007246</td>\n",
       "      <td>-0.015684</td>\n",
       "      <td>-0.013834</td>\n",
       "      <td>...</td>\n",
       "      <td>-0.002486</td>\n",
       "      <td>-0.003820</td>\n",
       "      <td>-0.004796</td>\n",
       "      <td>-0.004386</td>\n",
       "      <td>-0.004609</td>\n",
       "      <td>-0.004294</td>\n",
       "      <td>-0.001626</td>\n",
       "      <td>abs</td>\n",
       "      <td>['/content//nasa_tropical_storm_competition_train_source/nasa_tropical_storm_competition_train_source_abs_000/image.jpg', '/content//nasa_tropical_storm_competition_train_source/nasa_tropical_storm_competition_train_source_abs_009/image.jpg', '/content//nasa_tropical_storm_competition_train_source/nasa_tropical_storm_competition_train_source_abs_018/image.jpg']</td>\n",
       "      <td>64</td>\n",
       "    </tr>\n",
       "    <tr>\n",
       "      <th>1</th>\n",
       "      <td>0.001127</td>\n",
       "      <td>0.004741</td>\n",
       "      <td>0.010198</td>\n",
       "      <td>0.007915</td>\n",
       "      <td>0.000789</td>\n",
       "      <td>-0.003223</td>\n",
       "      <td>-0.002085</td>\n",
       "      <td>0.001353</td>\n",
       "      <td>0.006295</td>\n",
       "      <td>0.010862</td>\n",
       "      <td>...</td>\n",
       "      <td>-0.000042</td>\n",
       "      <td>0.003036</td>\n",
       "      <td>0.005135</td>\n",
       "      <td>0.006542</td>\n",
       "      <td>0.004115</td>\n",
       "      <td>0.000852</td>\n",
       "      <td>0.000636</td>\n",
       "      <td>abs</td>\n",
       "      <td>['/content//nasa_tropical_storm_competition_train_source/nasa_tropical_storm_competition_train_source_abs_001/image.jpg', '/content//nasa_tropical_storm_competition_train_source/nasa_tropical_storm_competition_train_source_abs_010/image.jpg', '/content//nasa_tropical_storm_competition_train_source/nasa_tropical_storm_competition_train_source_abs_019/image.jpg']</td>\n",
       "      <td>64</td>\n",
       "    </tr>\n",
       "    <tr>\n",
       "      <th>2</th>\n",
       "      <td>0.011335</td>\n",
       "      <td>0.009224</td>\n",
       "      <td>0.007510</td>\n",
       "      <td>-0.005410</td>\n",
       "      <td>-0.006022</td>\n",
       "      <td>-0.008802</td>\n",
       "      <td>-0.002640</td>\n",
       "      <td>0.007572</td>\n",
       "      <td>0.005992</td>\n",
       "      <td>0.009079</td>\n",
       "      <td>...</td>\n",
       "      <td>0.001811</td>\n",
       "      <td>0.001397</td>\n",
       "      <td>0.000819</td>\n",
       "      <td>-0.002579</td>\n",
       "      <td>-0.005391</td>\n",
       "      <td>-0.004161</td>\n",
       "      <td>-0.003541</td>\n",
       "      <td>abs</td>\n",
       "      <td>['/content//nasa_tropical_storm_competition_train_source/nasa_tropical_storm_competition_train_source_abs_002/image.jpg', '/content//nasa_tropical_storm_competition_train_source/nasa_tropical_storm_competition_train_source_abs_011/image.jpg', '/content//nasa_tropical_storm_competition_train_source/nasa_tropical_storm_competition_train_source_abs_020/image.jpg']</td>\n",
       "      <td>64</td>\n",
       "    </tr>\n",
       "    <tr>\n",
       "      <th>3</th>\n",
       "      <td>0.000995</td>\n",
       "      <td>0.001349</td>\n",
       "      <td>-0.001129</td>\n",
       "      <td>-0.002661</td>\n",
       "      <td>-0.003483</td>\n",
       "      <td>-0.004381</td>\n",
       "      <td>-0.003357</td>\n",
       "      <td>0.004359</td>\n",
       "      <td>0.000799</td>\n",
       "      <td>-0.005693</td>\n",
       "      <td>...</td>\n",
       "      <td>0.000126</td>\n",
       "      <td>-0.001589</td>\n",
       "      <td>-0.004270</td>\n",
       "      <td>-0.006984</td>\n",
       "      <td>-0.006126</td>\n",
       "      <td>-0.000702</td>\n",
       "      <td>0.000676</td>\n",
       "      <td>abs</td>\n",
       "      <td>['/content//nasa_tropical_storm_competition_train_source/nasa_tropical_storm_competition_train_source_abs_003/image.jpg', '/content//nasa_tropical_storm_competition_train_source/nasa_tropical_storm_competition_train_source_abs_012/image.jpg', '/content//nasa_tropical_storm_competition_train_source/nasa_tropical_storm_competition_train_source_abs_021/image.jpg']</td>\n",
       "      <td>63</td>\n",
       "    </tr>\n",
       "    <tr>\n",
       "      <th>4</th>\n",
       "      <td>-0.008107</td>\n",
       "      <td>-0.013242</td>\n",
       "      <td>-0.017639</td>\n",
       "      <td>-0.011723</td>\n",
       "      <td>-0.006891</td>\n",
       "      <td>-0.003026</td>\n",
       "      <td>-0.001242</td>\n",
       "      <td>-0.011085</td>\n",
       "      <td>-0.026543</td>\n",
       "      <td>-0.030342</td>\n",
       "      <td>...</td>\n",
       "      <td>-0.001443</td>\n",
       "      <td>-0.001076</td>\n",
       "      <td>-0.001096</td>\n",
       "      <td>-0.002821</td>\n",
       "      <td>-0.001991</td>\n",
       "      <td>-0.003359</td>\n",
       "      <td>-0.001408</td>\n",
       "      <td>abs</td>\n",
       "      <td>['/content//nasa_tropical_storm_competition_train_source/nasa_tropical_storm_competition_train_source_abs_004/image.jpg', '/content//nasa_tropical_storm_competition_train_source/nasa_tropical_storm_competition_train_source_abs_013/image.jpg', '/content//nasa_tropical_storm_competition_train_source/nasa_tropical_storm_competition_train_source_abs_022/image.jpg']</td>\n",
       "      <td>62</td>\n",
       "    </tr>\n",
       "  </tbody>\n",
       "</table>\n",
       "<p>5 rows × 2355 columns</p>\n",
       "</div>"
      ],
      "text/plain": [
       "          0         1         2         3         4         5         6  \\\n",
       "0 -0.003550 -0.007286 -0.009102 -0.009400 -0.002762 -0.002491  0.001555   \n",
       "1  0.001127  0.004741  0.010198  0.007915  0.000789 -0.003223 -0.002085   \n",
       "2  0.011335  0.009224  0.007510 -0.005410 -0.006022 -0.008802 -0.002640   \n",
       "3  0.000995  0.001349 -0.001129 -0.002661 -0.003483 -0.004381 -0.003357   \n",
       "4 -0.008107 -0.013242 -0.017639 -0.011723 -0.006891 -0.003026 -0.001242   \n",
       "\n",
       "          7         8         9  ...      2345      2346      2347      2348  \\\n",
       "0 -0.007246 -0.015684 -0.013834  ... -0.002486 -0.003820 -0.004796 -0.004386   \n",
       "1  0.001353  0.006295  0.010862  ... -0.000042  0.003036  0.005135  0.006542   \n",
       "2  0.007572  0.005992  0.009079  ...  0.001811  0.001397  0.000819 -0.002579   \n",
       "3  0.004359  0.000799 -0.005693  ...  0.000126 -0.001589 -0.004270 -0.006984   \n",
       "4 -0.011085 -0.026543 -0.030342  ... -0.001443 -0.001076 -0.001096 -0.002821   \n",
       "\n",
       "       2349      2350      2351  storm_id  \\\n",
       "0 -0.004609 -0.004294 -0.001626       abs   \n",
       "1  0.004115  0.000852  0.000636       abs   \n",
       "2 -0.005391 -0.004161 -0.003541       abs   \n",
       "3 -0.006126 -0.000702  0.000676       abs   \n",
       "4 -0.001991 -0.003359 -0.001408       abs   \n",
       "\n",
       "                                                                                                                                                                                                                                                                                                                                                                    image_list  \\\n",
       "0  ['/content//nasa_tropical_storm_competition_train_source/nasa_tropical_storm_competition_train_source_abs_000/image.jpg', '/content//nasa_tropical_storm_competition_train_source/nasa_tropical_storm_competition_train_source_abs_009/image.jpg', '/content//nasa_tropical_storm_competition_train_source/nasa_tropical_storm_competition_train_source_abs_018/image.jpg']   \n",
       "1  ['/content//nasa_tropical_storm_competition_train_source/nasa_tropical_storm_competition_train_source_abs_001/image.jpg', '/content//nasa_tropical_storm_competition_train_source/nasa_tropical_storm_competition_train_source_abs_010/image.jpg', '/content//nasa_tropical_storm_competition_train_source/nasa_tropical_storm_competition_train_source_abs_019/image.jpg']   \n",
       "2  ['/content//nasa_tropical_storm_competition_train_source/nasa_tropical_storm_competition_train_source_abs_002/image.jpg', '/content//nasa_tropical_storm_competition_train_source/nasa_tropical_storm_competition_train_source_abs_011/image.jpg', '/content//nasa_tropical_storm_competition_train_source/nasa_tropical_storm_competition_train_source_abs_020/image.jpg']   \n",
       "3  ['/content//nasa_tropical_storm_competition_train_source/nasa_tropical_storm_competition_train_source_abs_003/image.jpg', '/content//nasa_tropical_storm_competition_train_source/nasa_tropical_storm_competition_train_source_abs_012/image.jpg', '/content//nasa_tropical_storm_competition_train_source/nasa_tropical_storm_competition_train_source_abs_021/image.jpg']   \n",
       "4  ['/content//nasa_tropical_storm_competition_train_source/nasa_tropical_storm_competition_train_source_abs_004/image.jpg', '/content//nasa_tropical_storm_competition_train_source/nasa_tropical_storm_competition_train_source_abs_013/image.jpg', '/content//nasa_tropical_storm_competition_train_source/nasa_tropical_storm_competition_train_source_abs_022/image.jpg']   \n",
       "\n",
       "   wind_speed  \n",
       "0          64  \n",
       "1          64  \n",
       "2          64  \n",
       "3          63  \n",
       "4          62  \n",
       "\n",
       "[5 rows x 2355 columns]"
      ]
     },
     "execution_count": 10,
     "metadata": {},
     "output_type": "execute_result"
    }
   ],
   "source": [
    "train_df.head()"
   ]
  },
  {
   "cell_type": "code",
   "execution_count": 11,
   "metadata": {},
   "outputs": [
    {
     "data": {
      "text/html": [
       "<div>\n",
       "<style scoped>\n",
       "    .dataframe tbody tr th:only-of-type {\n",
       "        vertical-align: middle;\n",
       "    }\n",
       "\n",
       "    .dataframe tbody tr th {\n",
       "        vertical-align: top;\n",
       "    }\n",
       "\n",
       "    .dataframe thead th {\n",
       "        text-align: right;\n",
       "    }\n",
       "</style>\n",
       "<table border=\"1\" class=\"dataframe\">\n",
       "  <thead>\n",
       "    <tr style=\"text-align: right;\">\n",
       "      <th></th>\n",
       "      <th>0</th>\n",
       "      <th>1</th>\n",
       "      <th>2</th>\n",
       "      <th>3</th>\n",
       "      <th>4</th>\n",
       "      <th>5</th>\n",
       "      <th>6</th>\n",
       "      <th>7</th>\n",
       "      <th>8</th>\n",
       "      <th>9</th>\n",
       "      <th>...</th>\n",
       "      <th>2345</th>\n",
       "      <th>2346</th>\n",
       "      <th>2347</th>\n",
       "      <th>2348</th>\n",
       "      <th>2349</th>\n",
       "      <th>2350</th>\n",
       "      <th>2351</th>\n",
       "      <th>storm_id</th>\n",
       "      <th>image_list</th>\n",
       "      <th>wind_speed</th>\n",
       "    </tr>\n",
       "  </thead>\n",
       "  <tbody>\n",
       "    <tr>\n",
       "      <th>0</th>\n",
       "      <td>-0.001160</td>\n",
       "      <td>-0.001120</td>\n",
       "      <td>-0.000784</td>\n",
       "      <td>-0.001614</td>\n",
       "      <td>-0.000984</td>\n",
       "      <td>-0.005864</td>\n",
       "      <td>-0.002829</td>\n",
       "      <td>-0.002140</td>\n",
       "      <td>-0.005242</td>\n",
       "      <td>-0.007274</td>\n",
       "      <td>...</td>\n",
       "      <td>0.001568</td>\n",
       "      <td>0.002081</td>\n",
       "      <td>0.003531</td>\n",
       "      <td>0.001224</td>\n",
       "      <td>0.000862</td>\n",
       "      <td>0.001087</td>\n",
       "      <td>0.001970</td>\n",
       "      <td>acd</td>\n",
       "      <td>['/content//nasa_tropical_storm_competition_test_source/nasa_tropical_storm_competition_test_source_acd_123/image.jpg', '/content//nasa_tropical_storm_competition_test_source/nasa_tropical_storm_competition_test_source_acd_132/image.jpg', '/content//nasa_tropical_storm_competition_test_source/nasa_tropical_storm_competition_test_source_acd_141/image.jpg']</td>\n",
       "      <td>30</td>\n",
       "    </tr>\n",
       "    <tr>\n",
       "      <th>1</th>\n",
       "      <td>-0.000089</td>\n",
       "      <td>-0.001554</td>\n",
       "      <td>0.004143</td>\n",
       "      <td>0.002703</td>\n",
       "      <td>0.005077</td>\n",
       "      <td>0.000657</td>\n",
       "      <td>0.000336</td>\n",
       "      <td>-0.002449</td>\n",
       "      <td>-0.001684</td>\n",
       "      <td>0.000346</td>\n",
       "      <td>...</td>\n",
       "      <td>0.000222</td>\n",
       "      <td>-0.002708</td>\n",
       "      <td>-0.006217</td>\n",
       "      <td>-0.005604</td>\n",
       "      <td>-0.004774</td>\n",
       "      <td>-0.000270</td>\n",
       "      <td>0.000290</td>\n",
       "      <td>acd</td>\n",
       "      <td>['/content//nasa_tropical_storm_competition_test_source/nasa_tropical_storm_competition_test_source_acd_124/image.jpg', '/content//nasa_tropical_storm_competition_test_source/nasa_tropical_storm_competition_test_source_acd_133/image.jpg', '/content//nasa_tropical_storm_competition_test_source/nasa_tropical_storm_competition_test_source_acd_142/image.jpg']</td>\n",
       "      <td>30</td>\n",
       "    </tr>\n",
       "    <tr>\n",
       "      <th>2</th>\n",
       "      <td>-0.005360</td>\n",
       "      <td>-0.009921</td>\n",
       "      <td>-0.010257</td>\n",
       "      <td>-0.008396</td>\n",
       "      <td>0.002953</td>\n",
       "      <td>0.004118</td>\n",
       "      <td>0.006383</td>\n",
       "      <td>-0.009008</td>\n",
       "      <td>-0.011066</td>\n",
       "      <td>-0.012372</td>\n",
       "      <td>...</td>\n",
       "      <td>-0.005381</td>\n",
       "      <td>-0.011197</td>\n",
       "      <td>-0.013254</td>\n",
       "      <td>-0.011409</td>\n",
       "      <td>-0.004929</td>\n",
       "      <td>-0.002992</td>\n",
       "      <td>-0.000493</td>\n",
       "      <td>acd</td>\n",
       "      <td>['/content//nasa_tropical_storm_competition_test_source/nasa_tropical_storm_competition_test_source_acd_125/image.jpg', '/content//nasa_tropical_storm_competition_test_source/nasa_tropical_storm_competition_test_source_acd_134/image.jpg', '/content//nasa_tropical_storm_competition_test_source/nasa_tropical_storm_competition_test_source_acd_143/image.jpg']</td>\n",
       "      <td>30</td>\n",
       "    </tr>\n",
       "    <tr>\n",
       "      <th>3</th>\n",
       "      <td>-0.005878</td>\n",
       "      <td>-0.006456</td>\n",
       "      <td>-0.001434</td>\n",
       "      <td>-0.002630</td>\n",
       "      <td>0.000808</td>\n",
       "      <td>-0.002334</td>\n",
       "      <td>0.000972</td>\n",
       "      <td>-0.009640</td>\n",
       "      <td>-0.014201</td>\n",
       "      <td>-0.009425</td>\n",
       "      <td>...</td>\n",
       "      <td>-0.000342</td>\n",
       "      <td>-0.000646</td>\n",
       "      <td>0.000306</td>\n",
       "      <td>-0.001485</td>\n",
       "      <td>-0.000177</td>\n",
       "      <td>-0.000486</td>\n",
       "      <td>0.000478</td>\n",
       "      <td>acd</td>\n",
       "      <td>['/content//nasa_tropical_storm_competition_test_source/nasa_tropical_storm_competition_test_source_acd_126/image.jpg', '/content//nasa_tropical_storm_competition_test_source/nasa_tropical_storm_competition_test_source_acd_135/image.jpg', '/content//nasa_tropical_storm_competition_test_source/nasa_tropical_storm_competition_test_source_acd_144/image.jpg']</td>\n",
       "      <td>30</td>\n",
       "    </tr>\n",
       "    <tr>\n",
       "      <th>4</th>\n",
       "      <td>0.000640</td>\n",
       "      <td>0.005447</td>\n",
       "      <td>0.010191</td>\n",
       "      <td>0.011924</td>\n",
       "      <td>0.004190</td>\n",
       "      <td>0.001045</td>\n",
       "      <td>-0.002500</td>\n",
       "      <td>0.003412</td>\n",
       "      <td>0.008251</td>\n",
       "      <td>0.010454</td>\n",
       "      <td>...</td>\n",
       "      <td>-0.001428</td>\n",
       "      <td>-0.001918</td>\n",
       "      <td>-0.002292</td>\n",
       "      <td>-0.002038</td>\n",
       "      <td>-0.001947</td>\n",
       "      <td>0.000368</td>\n",
       "      <td>0.000483</td>\n",
       "      <td>acd</td>\n",
       "      <td>['/content//nasa_tropical_storm_competition_test_source/nasa_tropical_storm_competition_test_source_acd_127/image.jpg', '/content//nasa_tropical_storm_competition_test_source/nasa_tropical_storm_competition_test_source_acd_136/image.jpg', '/content//nasa_tropical_storm_competition_test_source/nasa_tropical_storm_competition_test_source_acd_145/image.jpg']</td>\n",
       "      <td>30</td>\n",
       "    </tr>\n",
       "  </tbody>\n",
       "</table>\n",
       "<p>5 rows × 2355 columns</p>\n",
       "</div>"
      ],
      "text/plain": [
       "          0         1         2         3         4         5         6  \\\n",
       "0 -0.001160 -0.001120 -0.000784 -0.001614 -0.000984 -0.005864 -0.002829   \n",
       "1 -0.000089 -0.001554  0.004143  0.002703  0.005077  0.000657  0.000336   \n",
       "2 -0.005360 -0.009921 -0.010257 -0.008396  0.002953  0.004118  0.006383   \n",
       "3 -0.005878 -0.006456 -0.001434 -0.002630  0.000808 -0.002334  0.000972   \n",
       "4  0.000640  0.005447  0.010191  0.011924  0.004190  0.001045 -0.002500   \n",
       "\n",
       "          7         8         9  ...      2345      2346      2347      2348  \\\n",
       "0 -0.002140 -0.005242 -0.007274  ...  0.001568  0.002081  0.003531  0.001224   \n",
       "1 -0.002449 -0.001684  0.000346  ...  0.000222 -0.002708 -0.006217 -0.005604   \n",
       "2 -0.009008 -0.011066 -0.012372  ... -0.005381 -0.011197 -0.013254 -0.011409   \n",
       "3 -0.009640 -0.014201 -0.009425  ... -0.000342 -0.000646  0.000306 -0.001485   \n",
       "4  0.003412  0.008251  0.010454  ... -0.001428 -0.001918 -0.002292 -0.002038   \n",
       "\n",
       "       2349      2350      2351  storm_id  \\\n",
       "0  0.000862  0.001087  0.001970       acd   \n",
       "1 -0.004774 -0.000270  0.000290       acd   \n",
       "2 -0.004929 -0.002992 -0.000493       acd   \n",
       "3 -0.000177 -0.000486  0.000478       acd   \n",
       "4 -0.001947  0.000368  0.000483       acd   \n",
       "\n",
       "                                                                                                                                                                                                                                                                                                                                                              image_list  \\\n",
       "0  ['/content//nasa_tropical_storm_competition_test_source/nasa_tropical_storm_competition_test_source_acd_123/image.jpg', '/content//nasa_tropical_storm_competition_test_source/nasa_tropical_storm_competition_test_source_acd_132/image.jpg', '/content//nasa_tropical_storm_competition_test_source/nasa_tropical_storm_competition_test_source_acd_141/image.jpg']   \n",
       "1  ['/content//nasa_tropical_storm_competition_test_source/nasa_tropical_storm_competition_test_source_acd_124/image.jpg', '/content//nasa_tropical_storm_competition_test_source/nasa_tropical_storm_competition_test_source_acd_133/image.jpg', '/content//nasa_tropical_storm_competition_test_source/nasa_tropical_storm_competition_test_source_acd_142/image.jpg']   \n",
       "2  ['/content//nasa_tropical_storm_competition_test_source/nasa_tropical_storm_competition_test_source_acd_125/image.jpg', '/content//nasa_tropical_storm_competition_test_source/nasa_tropical_storm_competition_test_source_acd_134/image.jpg', '/content//nasa_tropical_storm_competition_test_source/nasa_tropical_storm_competition_test_source_acd_143/image.jpg']   \n",
       "3  ['/content//nasa_tropical_storm_competition_test_source/nasa_tropical_storm_competition_test_source_acd_126/image.jpg', '/content//nasa_tropical_storm_competition_test_source/nasa_tropical_storm_competition_test_source_acd_135/image.jpg', '/content//nasa_tropical_storm_competition_test_source/nasa_tropical_storm_competition_test_source_acd_144/image.jpg']   \n",
       "4  ['/content//nasa_tropical_storm_competition_test_source/nasa_tropical_storm_competition_test_source_acd_127/image.jpg', '/content//nasa_tropical_storm_competition_test_source/nasa_tropical_storm_competition_test_source_acd_136/image.jpg', '/content//nasa_tropical_storm_competition_test_source/nasa_tropical_storm_competition_test_source_acd_145/image.jpg']   \n",
       "\n",
       "   wind_speed  \n",
       "0          30  \n",
       "1          30  \n",
       "2          30  \n",
       "3          30  \n",
       "4          30  \n",
       "\n",
       "[5 rows x 2355 columns]"
      ]
     },
     "execution_count": 11,
     "metadata": {},
     "output_type": "execute_result"
    }
   ],
   "source": [
    "test_df.head()"
   ]
  },
  {
   "cell_type": "code",
   "execution_count": 12,
   "metadata": {},
   "outputs": [],
   "source": [
    "feature_size = 2352 - 1 # number of features extracted from densenet161 - 1\n",
    "X_train, y_train = train_df.iloc[:, :feature_size], train_df[\"wind_speed\"]\n",
    "X_test, y_test = test_df.iloc[:, :feature_size], test_df[\"wind_speed\"]"
   ]
  },
  {
   "cell_type": "markdown",
   "metadata": {},
   "source": [
    "# 1. Linear Regression"
   ]
  },
  {
   "cell_type": "code",
   "execution_count": 13,
   "metadata": {},
   "outputs": [
    {
     "name": "stdout",
     "output_type": "stream",
     "text": [
      "Fitting Linear Regression Model...\n",
      "Done!\n",
      "Time Taken: 107.16174\n"
     ]
    }
   ],
   "source": [
    "print(\"Fitting Linear Regression Model...\")\n",
    "start = time.time()\n",
    "linearRegression = LinearRegression()\n",
    "linearRegression.fit(X_train, y_train)\n",
    "print(\"Done!\")\n",
    "print(\"Time Taken: {:.5f}\".format(time.time()-start))"
   ]
  },
  {
   "cell_type": "code",
   "execution_count": 15,
   "metadata": {},
   "outputs": [],
   "source": [
    "model_name = \"linear_regression\"\n",
    "filepath = r\"{}\\Trained Models\\{}.sav\".format(_dir, model_name)\n",
    "save_model(linearRegression, filepath)"
   ]
  },
  {
   "cell_type": "code",
   "execution_count": 24,
   "metadata": {},
   "outputs": [
    {
     "name": "stdout",
     "output_type": "stream",
     "text": [
      "Evaluating Model on Train Set...\n",
      "Computing Metrics...\n",
      "\n",
      "Mean Squared Error: 712.892\n",
      "Root Mean Squared Error: 26.700\n",
      "Mean Absolute Error: 21.035\n",
      "R-Squared Score: 0.037\n",
      "\n",
      "Done!\n"
     ]
    }
   ],
   "source": [
    "print(\"Evaluating Model on Train Set...\")\n",
    "y_preds = linearRegression.predict(X_train)\n",
    "print(\"Computing Metrics...\\n\")\n",
    "mse, rmse, mae, r2 = model_evaluator(y_train, y_preds)\n",
    "print(\"\")\n",
    "print(\"Done!\")"
   ]
  },
  {
   "cell_type": "code",
   "execution_count": 25,
   "metadata": {},
   "outputs": [
    {
     "name": "stdout",
     "output_type": "stream",
     "text": [
      "Evaluating Model on Test Set...\n",
      "Computing Metrics...\n",
      "\n",
      "Mean Squared Error: 665.048\n",
      "Root Mean Squared Error: 25.789\n",
      "Mean Absolute Error: 21.030\n",
      "R-Squared Score: -0.086\n",
      "\n",
      "Done!\n"
     ]
    }
   ],
   "source": [
    "print(\"Evaluating Model on Test Set...\")\n",
    "y_preds = linearRegression.predict(X_test)\n",
    "print(\"Computing Metrics...\\n\")\n",
    "mse, rmse, mae, r2 = model_evaluator(y_test, y_preds)\n",
    "print(\"\")\n",
    "print(\"Done!\")"
   ]
  },
  {
   "cell_type": "markdown",
   "metadata": {},
   "source": [
    "# 2. Rigde Regression"
   ]
  },
  {
   "cell_type": "code",
   "execution_count": 26,
   "metadata": {},
   "outputs": [
    {
     "name": "stdout",
     "output_type": "stream",
     "text": [
      "Fitting Ridge Regression Model...\n",
      "Done!\n",
      "Time Taken: 8.47800\n"
     ]
    }
   ],
   "source": [
    "print(\"Fitting Ridge Regression Model...\")\n",
    "start = time.time()\n",
    "ridge = Ridge()\n",
    "ridge.fit(X_train, y_train)\n",
    "print(\"Done!\")\n",
    "print(\"Time Taken: {:.5f}\".format(time.time()-start))"
   ]
  },
  {
   "cell_type": "code",
   "execution_count": 27,
   "metadata": {},
   "outputs": [],
   "source": [
    "model_name = \"ridge\"\n",
    "filepath = r\"{}\\Trained Models\\{}.sav\".format(_dir, model_name)\n",
    "save_model(ridge, filepath)"
   ]
  },
  {
   "cell_type": "code",
   "execution_count": 28,
   "metadata": {},
   "outputs": [
    {
     "name": "stdout",
     "output_type": "stream",
     "text": [
      "Evaluating Model on Train Set...\n",
      "Computing Metrics...\n",
      "\n",
      "Mean Squared Error: 729.094\n",
      "Root Mean Squared Error: 27.002\n",
      "Mean Absolute Error: 21.281\n",
      "R-Squared Score: 0.015\n",
      "\n",
      "Done!\n"
     ]
    }
   ],
   "source": [
    "print(\"Evaluating Model on Train Set...\")\n",
    "y_preds = ridge.predict(X_train)\n",
    "print(\"Computing Metrics...\\n\")\n",
    "mse, rmse, mae, r2 = model_evaluator(y_train, y_preds)\n",
    "print(\"\")\n",
    "print(\"Done!\")"
   ]
  },
  {
   "cell_type": "code",
   "execution_count": 29,
   "metadata": {},
   "outputs": [
    {
     "name": "stdout",
     "output_type": "stream",
     "text": [
      "Evaluating Model on Test Set...\n",
      "Computing Metrics...\n",
      "\n",
      "Mean Squared Error: 643.205\n",
      "Root Mean Squared Error: 25.361\n",
      "Mean Absolute Error: 20.766\n",
      "R-Squared Score: -0.051\n",
      "\n",
      "Done!\n"
     ]
    }
   ],
   "source": [
    "print(\"Evaluating Model on Test Set...\")\n",
    "y_preds = ridge.predict(X_test)\n",
    "print(\"Computing Metrics...\\n\")\n",
    "mse, rmse, mae, r2 = model_evaluator(y_test, y_preds)\n",
    "print(\"\")\n",
    "print(\"Done!\")"
   ]
  },
  {
   "cell_type": "markdown",
   "metadata": {},
   "source": [
    "# 3. Lasso Regression"
   ]
  },
  {
   "cell_type": "code",
   "execution_count": 30,
   "metadata": {},
   "outputs": [
    {
     "name": "stdout",
     "output_type": "stream",
     "text": [
      "Fitting Lasso Regression Model...\n",
      "Done!\n",
      "Time Taken: 3.37200\n"
     ]
    }
   ],
   "source": [
    "print(\"Fitting Lasso Regression Model...\")\n",
    "start = time.time()\n",
    "lasso = Lasso()\n",
    "lasso.fit(X_train, y_train)\n",
    "print(\"Done!\")\n",
    "print(\"Time Taken: {:.5f}\".format(time.time()-start))"
   ]
  },
  {
   "cell_type": "code",
   "execution_count": 31,
   "metadata": {},
   "outputs": [],
   "source": [
    "model_name = \"lasso\"\n",
    "filepath = r\"{}\\Trained Models\\{}.sav\".format(_dir, model_name)\n",
    "save_model(lasso, filepath)"
   ]
  },
  {
   "cell_type": "code",
   "execution_count": 32,
   "metadata": {},
   "outputs": [
    {
     "name": "stdout",
     "output_type": "stream",
     "text": [
      "Evaluating Model on Train Set...\n",
      "Computing Metrics...\n",
      "\n",
      "Mean Squared Error: 740.181\n",
      "Root Mean Squared Error: 27.206\n",
      "Mean Absolute Error: 21.457\n",
      "R-Squared Score: 0.000\n",
      "\n",
      "Done!\n"
     ]
    }
   ],
   "source": [
    "print(\"Evaluating Model on Train Set...\")\n",
    "y_preds = lasso.predict(X_train)\n",
    "print(\"Computing Metrics...\\n\")\n",
    "mse, rmse, mae, r2 = model_evaluator(y_train, y_preds)\n",
    "print(\"\")\n",
    "print(\"Done!\")"
   ]
  },
  {
   "cell_type": "code",
   "execution_count": 33,
   "metadata": {},
   "outputs": [
    {
     "name": "stdout",
     "output_type": "stream",
     "text": [
      "Evaluating Model on Test Set...\n",
      "Computing Metrics...\n",
      "\n",
      "Mean Squared Error: 638.546\n",
      "Root Mean Squared Error: 25.269\n",
      "Mean Absolute Error: 20.718\n",
      "R-Squared Score: -0.043\n",
      "\n",
      "Done!\n"
     ]
    }
   ],
   "source": [
    "print(\"Evaluating Model on Test Set...\")\n",
    "y_preds = lasso.predict(X_test)\n",
    "print(\"Computing Metrics...\\n\")\n",
    "mse, rmse, mae, r2 = model_evaluator(y_test, y_preds)\n",
    "print(\"\")\n",
    "print(\"Done!\")"
   ]
  },
  {
   "cell_type": "markdown",
   "metadata": {},
   "source": [
    "# 4. ElasticNet Regression"
   ]
  },
  {
   "cell_type": "code",
   "execution_count": 34,
   "metadata": {},
   "outputs": [
    {
     "name": "stdout",
     "output_type": "stream",
     "text": [
      "Fitting ElasticNet Regression Model...\n",
      "Done!\n",
      "Time Taken: 2.79999\n"
     ]
    }
   ],
   "source": [
    "print(\"Fitting ElasticNet Regression Model...\")\n",
    "start = time.time()\n",
    "elastic_net = ElasticNet()\n",
    "elastic_net.fit(X_train, y_train)\n",
    "print(\"Done!\")\n",
    "print(\"Time Taken: {:.5f}\".format(time.time()-start))"
   ]
  },
  {
   "cell_type": "code",
   "execution_count": 35,
   "metadata": {},
   "outputs": [],
   "source": [
    "model_name = \"elastic_net\"\n",
    "filepath = r\"{}\\Trained Models\\{}.sav\".format(_dir, model_name)\n",
    "save_model(elastic_net, filepath)"
   ]
  },
  {
   "cell_type": "code",
   "execution_count": 36,
   "metadata": {},
   "outputs": [
    {
     "name": "stdout",
     "output_type": "stream",
     "text": [
      "Evaluating Model on Train Set...\n",
      "Computing Metrics...\n",
      "\n",
      "Mean Squared Error: 740.181\n",
      "Root Mean Squared Error: 27.206\n",
      "Mean Absolute Error: 21.457\n",
      "R-Squared Score: 0.000\n",
      "\n",
      "Done!\n"
     ]
    }
   ],
   "source": [
    "print(\"Evaluating Model on Train Set...\")\n",
    "y_preds = elastic_net.predict(X_train)\n",
    "print(\"Computing Metrics...\\n\")\n",
    "mse, rmse, mae, r2 = model_evaluator(y_train, y_preds)\n",
    "print(\"\")\n",
    "print(\"Done!\")"
   ]
  },
  {
   "cell_type": "code",
   "execution_count": 37,
   "metadata": {},
   "outputs": [
    {
     "name": "stdout",
     "output_type": "stream",
     "text": [
      "Evaluating Model on Test Set...\n",
      "Computing Metrics...\n",
      "\n",
      "Mean Squared Error: 638.546\n",
      "Root Mean Squared Error: 25.269\n",
      "Mean Absolute Error: 20.718\n",
      "R-Squared Score: -0.043\n",
      "\n",
      "Done!\n"
     ]
    }
   ],
   "source": [
    "print(\"Evaluating Model on Test Set...\")\n",
    "y_preds = elastic_net.predict(X_test)\n",
    "print(\"Computing Metrics...\\n\")\n",
    "mse, rmse, mae, r2 = model_evaluator(y_test, y_preds)\n",
    "print(\"\")\n",
    "print(\"Done!\")"
   ]
  },
  {
   "cell_type": "markdown",
   "metadata": {},
   "source": [
    "# 5. Decision Tree"
   ]
  },
  {
   "cell_type": "code",
   "execution_count": 20,
   "metadata": {},
   "outputs": [
    {
     "name": "stdout",
     "output_type": "stream",
     "text": [
      "Fitting Decision Tree Regressor...\n",
      "Done!\n",
      "Time Taken: 378.49815\n"
     ]
    }
   ],
   "source": [
    "print(\"Fitting Decision Tree Regressor...\")\n",
    "start = time.time()\n",
    "dtree = DecisionTreeRegressor(min_samples_split=150, min_samples_leaf=100, max_depth=50, random_state=7)\n",
    "dtree.fit(X_train, y_train)\n",
    "print(\"Done!\")\n",
    "print(\"Time Taken: {:.5f}\".format(time.time()-start))"
   ]
  },
  {
   "cell_type": "code",
   "execution_count": 21,
   "metadata": {},
   "outputs": [],
   "source": [
    "model_name = \"dtree\"\n",
    "filepath = r\"{}\\Trained Models\\{}.sav\".format(_dir, model_name)\n",
    "save_model(dtree, filepath)"
   ]
  },
  {
   "cell_type": "code",
   "execution_count": 22,
   "metadata": {},
   "outputs": [
    {
     "name": "stdout",
     "output_type": "stream",
     "text": [
      "Evaluating Model on Train Set...\n",
      "Computing Metrics...\n",
      "\n",
      "Mean Squared Error: 652.155\n",
      "Root Mean Squared Error: 25.537\n",
      "Mean Absolute Error: 19.974\n",
      "R-Squared Score: 0.119\n",
      "\n",
      "Done!\n"
     ]
    }
   ],
   "source": [
    "print(\"Evaluating Model on Train Set...\")\n",
    "y_preds = dtree.predict(X_train)\n",
    "print(\"Computing Metrics...\\n\")\n",
    "mse, rmse, mae, r2 = model_evaluator(y_train, y_preds)\n",
    "print(\"\")\n",
    "print(\"Done!\")"
   ]
  },
  {
   "cell_type": "code",
   "execution_count": 23,
   "metadata": {},
   "outputs": [
    {
     "name": "stdout",
     "output_type": "stream",
     "text": [
      "Evaluating Model on Test Set...\n",
      "Computing Metrics...\n",
      "\n",
      "Mean Squared Error: 728.642\n",
      "Root Mean Squared Error: 26.993\n",
      "Mean Absolute Error: 21.853\n",
      "R-Squared Score: -0.190\n",
      "\n",
      "Done!\n"
     ]
    }
   ],
   "source": [
    "print(\"Evaluating Model on Test Set...\")\n",
    "y_preds = dtree.predict(X_test)\n",
    "print(\"Computing Metrics...\\n\")\n",
    "mse, rmse, mae, r2 = model_evaluator(y_test, y_preds)\n",
    "print(\"\")\n",
    "print(\"Done!\")"
   ]
  },
  {
   "cell_type": "markdown",
   "metadata": {},
   "source": [
    "# 6. Random Forest"
   ]
  },
  {
   "cell_type": "code",
   "execution_count": 25,
   "metadata": {},
   "outputs": [
    {
     "name": "stdout",
     "output_type": "stream",
     "text": [
      "Fitting Randon Forest Regressor...\n"
     ]
    },
    {
     "name": "stderr",
     "output_type": "stream",
     "text": [
      "[Parallel(n_jobs=1)]: Using backend SequentialBackend with 1 concurrent workers.\n"
     ]
    },
    {
     "name": "stdout",
     "output_type": "stream",
     "text": [
      "Done!\n",
      "Time Taken: 69614.27211\n"
     ]
    },
    {
     "name": "stderr",
     "output_type": "stream",
     "text": [
      "[Parallel(n_jobs=1)]: Done 300 out of 300 | elapsed: 1160.2min finished\n"
     ]
    }
   ],
   "source": [
    "print(\"Fitting Randon Forest Regressor...\")\n",
    "start = time.time()\n",
    "random_forest = RandomForestRegressor(min_samples_split=150, min_samples_leaf=50,\n",
    "                                      n_estimators=300, max_depth=50, random_state=7, verbose=1)\n",
    "random_forest.fit(X_train, y_train)\n",
    "print(\"Done!\")\n",
    "print(\"Time Taken: {:.5f}\".format(time.time()-start))"
   ]
  },
  {
   "cell_type": "code",
   "execution_count": 26,
   "metadata": {},
   "outputs": [],
   "source": [
    "model_name = \"random_forest\"\n",
    "filepath = r\"{}\\Trained Models\\{}.sav\".format(_dir, model_name)\n",
    "save_model(random_forest, filepath)"
   ]
  },
  {
   "cell_type": "code",
   "execution_count": 27,
   "metadata": {},
   "outputs": [
    {
     "name": "stdout",
     "output_type": "stream",
     "text": [
      "Evaluating Model on Train Set...\n"
     ]
    },
    {
     "name": "stderr",
     "output_type": "stream",
     "text": [
      "[Parallel(n_jobs=1)]: Using backend SequentialBackend with 1 concurrent workers.\n"
     ]
    },
    {
     "name": "stdout",
     "output_type": "stream",
     "text": [
      "Computing Metrics...\n",
      "\n",
      "Mean Squared Error: 596.880\n",
      "Root Mean Squared Error: 24.431\n",
      "Mean Absolute Error: 19.185\n",
      "R-Squared Score: 0.194\n",
      "\n",
      "Done!\n"
     ]
    },
    {
     "name": "stderr",
     "output_type": "stream",
     "text": [
      "[Parallel(n_jobs=1)]: Done 300 out of 300 | elapsed:    5.5s finished\n"
     ]
    }
   ],
   "source": [
    "print(\"Evaluating Model on Train Set...\")\n",
    "y_preds = random_forest.predict(X_train)\n",
    "print(\"Computing Metrics...\\n\")\n",
    "mse, rmse, mae, r2 = model_evaluator(y_train, y_preds)\n",
    "print(\"\")\n",
    "print(\"Done!\")"
   ]
  },
  {
   "cell_type": "code",
   "execution_count": 28,
   "metadata": {},
   "outputs": [
    {
     "name": "stdout",
     "output_type": "stream",
     "text": [
      "Evaluating Model on Test Set...\n"
     ]
    },
    {
     "name": "stderr",
     "output_type": "stream",
     "text": [
      "[Parallel(n_jobs=1)]: Using backend SequentialBackend with 1 concurrent workers.\n"
     ]
    },
    {
     "name": "stdout",
     "output_type": "stream",
     "text": [
      "Computing Metrics...\n",
      "\n",
      "Mean Squared Error: 642.071\n",
      "Root Mean Squared Error: 25.339\n",
      "Mean Absolute Error: 20.787\n",
      "R-Squared Score: -0.049\n",
      "\n",
      "Done!\n"
     ]
    },
    {
     "name": "stderr",
     "output_type": "stream",
     "text": [
      "[Parallel(n_jobs=1)]: Done 300 out of 300 | elapsed:    4.1s finished\n"
     ]
    }
   ],
   "source": [
    "print(\"Evaluating Model on Test Set...\")\n",
    "y_preds = random_forest.predict(X_test)\n",
    "print(\"Computing Metrics...\\n\")\n",
    "mse, rmse, mae, r2 = model_evaluator(y_test, y_preds)\n",
    "print(\"\")\n",
    "print(\"Done!\")"
   ]
  },
  {
   "cell_type": "code",
   "execution_count": null,
   "metadata": {},
   "outputs": [],
   "source": []
  },
  {
   "cell_type": "code",
   "execution_count": 39,
   "metadata": {},
   "outputs": [],
   "source": [
    "from sklearn.ensemble import BaggingRegressor"
   ]
  },
  {
   "cell_type": "code",
   "execution_count": null,
   "metadata": {},
   "outputs": [
    {
     "name": "stdout",
     "output_type": "stream",
     "text": [
      "Fitting Linear BaggingRegressor Model...\n"
     ]
    }
   ],
   "source": [
    "print(\"Fitting Linear BaggingRegressor Model...\")\n",
    "start = time.time()\n",
    "base_estimator = LinearRegression()\n",
    "linear_bagging_regressor = BaggingRegressor(base_estimator=base_estimator, random_state=7, max_samples=1.0,\n",
    "                                            max_features=1.0, n_estimators=2)\n",
    "linear_bagging_regressor.fit(X_train, y_train)\n",
    "print(\"Done!\")\n",
    "print(\"Time Taken: {:.5f}\".format(time.time()-start))"
   ]
  },
  {
   "cell_type": "code",
   "execution_count": null,
   "metadata": {},
   "outputs": [],
   "source": []
  }
 ],
 "metadata": {
  "kernelspec": {
   "display_name": "Python 3",
   "language": "python",
   "name": "python3"
  },
  "language_info": {
   "codemirror_mode": {
    "name": "ipython",
    "version": 3
   },
   "file_extension": ".py",
   "mimetype": "text/x-python",
   "name": "python",
   "nbconvert_exporter": "python",
   "pygments_lexer": "ipython3",
   "version": "3.7.10"
  }
 },
 "nbformat": 4,
 "nbformat_minor": 4
}
